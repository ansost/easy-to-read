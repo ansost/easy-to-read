{
 "cells": [
  {
   "cell_type": "code",
   "execution_count": 105,
   "metadata": {},
   "outputs": [
    {
     "data": {
      "text/plain": [
       "'\\n!python -m spacy download en_core_web_sm\\n!pip install -U spacy\\n!pip install -U amrlib\\n!pip show amrlib\\n'"
      ]
     },
     "execution_count": 105,
     "metadata": {},
     "output_type": "execute_result"
    }
   ],
   "source": [
    "\"\"\"\n",
    "!python -m spacy download en_core_web_sm\n",
    "!pip install -U spacy\n",
    "!pip install -U amrlib\n",
    "!pip show amrlib\n",
    "\"\"\""
   ]
  },
  {
   "cell_type": "code",
   "execution_count": 45,
   "metadata": {},
   "outputs": [],
   "source": [
    "# data path\n",
    "data_path = '../data/'\n",
    "data_path_metrics = '../data/metrics/'\n",
    "data_path_temp = '../data/temp/'\n",
    "data_path_prolog = '../data/prologData/'\n",
    "\n",
    "type =  \"test\" #     \"train\" #  "
   ]
  },
  {
   "cell_type": "markdown",
   "metadata": {},
   "source": [
    "#  Data analysis and augmentation"
   ]
  },
  {
   "cell_type": "code",
   "execution_count": 46,
   "metadata": {},
   "outputs": [
    {
     "name": "stdout",
     "output_type": "stream",
     "text": [
      "trial data shape:  (26, 11)\n",
      "1    15\n",
      "2     9\n",
      "3     1\n",
      "0     1\n",
      "Name: num_statements, dtype: int64\n",
      "train data shape:  (2944, 10)\n",
      "1    1530\n",
      "2     732\n",
      "0     449\n",
      "3     191\n",
      "4      38\n",
      "5       3\n",
      "6       1\n",
      "Name: num_statements, dtype: int64\n",
      "test data shape:  (416, 10)\n",
      "1    258\n",
      "2    123\n",
      "3     28\n",
      "4      6\n",
      "5      1\n",
      "Name: num_statements, dtype: int64\n",
      "test data shape:  (1207, 10)\n",
      "2    739\n",
      "3    384\n",
      "4     76\n",
      "5      6\n",
      "6      2\n",
      "Name: num_statements, dtype: int64\n"
     ]
    }
   ],
   "source": [
    "import pandas as pd\n",
    "df  = pd.read_csv(data_path + 'trial.csv')\n",
    "print(\"trial data shape: \", df.shape)\n",
    "print(df[\"num_statements\"].value_counts())\n",
    "df = pd.read_csv(data_path + 'train.csv')\n",
    "print(\"train data shape: \", df.shape)\n",
    "print(df[\"num_statements\"].value_counts())\n",
    "df = pd.read_csv(data_path + 'test.csv')\n",
    "print(\"test data shape: \", df.shape)\n",
    "print(df[\"num_statements\"].value_counts())\n",
    "df = pd.read_csv(data_path + 'augmented.csv')\n",
    "print(\"test data shape: \", df.shape)\n",
    "print(df[\"num_statements\"].value_counts())\n"
   ]
  },
  {
   "cell_type": "code",
   "execution_count": 47,
   "metadata": {},
   "outputs": [],
   "source": [
    "# read in data. train data is combined with trial data\n",
    "\n",
    "import pandas as pd\n",
    "\n",
    "# open train.csv\n",
    "df = pd.read_csv(data_path+ type + '.csv')\n",
    "df_trial = pd.read_csv(data_path+ 'trial.csv')\n",
    "\n",
    "if type == \"train\":\n",
    "    df = pd.concat([df,df_trial], join=\"inner\")\n",
    "    df = df.drop_duplicates(subset=['sent-id'], keep='last')\n",
    "\n"
   ]
  },
  {
   "cell_type": "markdown",
   "metadata": {},
   "source": [
    "### Data augmentation"
   ]
  },
  {
   "cell_type": "markdown",
   "metadata": {},
   "source": [
    "unballanced data => data augmentation for examples with num_statements >1 \n",
    "method: round-trip translation"
   ]
  },
  {
   "cell_type": "code",
   "execution_count": 363,
   "metadata": {},
   "outputs": [],
   "source": [
    "# Careful, takes time to run\n",
    "# for each sentence, if num_statements > 1 then translate to Finnish and back to German\n",
    "import pandas as pd\n",
    "from deep_translator import GoogleTranslator\n",
    "if type == \"train\":\n",
    "    df_aug = df[df['num_statements'] > 1]\n",
    "    df_aug['finnish'] = df_aug['phrase'].apply(lambda x: GoogleTranslator(source='de', target='fi').translate(x))\n",
    "    df_aug['german'] = df_aug['finnish'].apply(lambda x: GoogleTranslator(source='fi', target='de').translate(x))"
   ]
  },
  {
   "cell_type": "code",
   "execution_count": 372,
   "metadata": {},
   "outputs": [
    {
     "name": "stdout",
     "output_type": "stream",
     "text": [
      "(973, 10)\n"
     ]
    }
   ],
   "source": [
    "df_aug[\"phrase\"] = df_aug[\"german\"]\n",
    "df_aug.drop(columns=[\"finnish\", \"german\"], inplace=True)\n",
    "df_aug[\"sent-id\"] = df_aug[\"sent-id\"].apply(lambda x: x + 1000000)\n",
    "print(df_aug.shape)\n"
   ]
  },
  {
   "cell_type": "code",
   "execution_count": 374,
   "metadata": {},
   "outputs": [],
   "source": [
    "df_aug.to_csv(data_path_temp + 'finnish_augm.csv', index=False)"
   ]
  },
  {
   "cell_type": "code",
   "execution_count": 389,
   "metadata": {},
   "outputs": [],
   "source": [
    "df_aug = pd.read_csv(data_path_temp + 'finnish_augm.csv')\n",
    "df_orig = df\n",
    "df = pd.concat([df, df_aug], join=\"inner\")\n",
    "\n"
   ]
  },
  {
   "cell_type": "code",
   "execution_count": 390,
   "metadata": {},
   "outputs": [
    {
     "data": {
      "text/plain": [
       "1    1545\n",
       "2    1478\n",
       "0     449\n",
       "3     384\n",
       "4      76\n",
       "5       6\n",
       "6       2\n",
       "Name: num_statements, dtype: int64"
      ]
     },
     "execution_count": 390,
     "metadata": {},
     "output_type": "execute_result"
    }
   ],
   "source": [
    "df[\"num_statements\"].value_counts()"
   ]
  },
  {
   "cell_type": "code",
   "execution_count": 385,
   "metadata": {},
   "outputs": [
    {
     "data": {
      "text/plain": [
       "{'afrikaans': 'af',\n",
       " 'albanian': 'sq',\n",
       " 'amharic': 'am',\n",
       " 'arabic': 'ar',\n",
       " 'armenian': 'hy',\n",
       " 'assamese': 'as',\n",
       " 'aymara': 'ay',\n",
       " 'azerbaijani': 'az',\n",
       " 'bambara': 'bm',\n",
       " 'basque': 'eu',\n",
       " 'belarusian': 'be',\n",
       " 'bengali': 'bn',\n",
       " 'bhojpuri': 'bho',\n",
       " 'bosnian': 'bs',\n",
       " 'bulgarian': 'bg',\n",
       " 'catalan': 'ca',\n",
       " 'cebuano': 'ceb',\n",
       " 'chichewa': 'ny',\n",
       " 'chinese (simplified)': 'zh-CN',\n",
       " 'chinese (traditional)': 'zh-TW',\n",
       " 'corsican': 'co',\n",
       " 'croatian': 'hr',\n",
       " 'czech': 'cs',\n",
       " 'danish': 'da',\n",
       " 'dhivehi': 'dv',\n",
       " 'dogri': 'doi',\n",
       " 'dutch': 'nl',\n",
       " 'english': 'en',\n",
       " 'esperanto': 'eo',\n",
       " 'estonian': 'et',\n",
       " 'ewe': 'ee',\n",
       " 'filipino': 'tl',\n",
       " 'finnish': 'fi',\n",
       " 'french': 'fr',\n",
       " 'frisian': 'fy',\n",
       " 'galician': 'gl',\n",
       " 'georgian': 'ka',\n",
       " 'german': 'de',\n",
       " 'greek': 'el',\n",
       " 'guarani': 'gn',\n",
       " 'gujarati': 'gu',\n",
       " 'haitian creole': 'ht',\n",
       " 'hausa': 'ha',\n",
       " 'hawaiian': 'haw',\n",
       " 'hebrew': 'iw',\n",
       " 'hindi': 'hi',\n",
       " 'hmong': 'hmn',\n",
       " 'hungarian': 'hu',\n",
       " 'icelandic': 'is',\n",
       " 'igbo': 'ig',\n",
       " 'ilocano': 'ilo',\n",
       " 'indonesian': 'id',\n",
       " 'irish': 'ga',\n",
       " 'italian': 'it',\n",
       " 'japanese': 'ja',\n",
       " 'javanese': 'jw',\n",
       " 'kannada': 'kn',\n",
       " 'kazakh': 'kk',\n",
       " 'khmer': 'km',\n",
       " 'kinyarwanda': 'rw',\n",
       " 'konkani': 'gom',\n",
       " 'korean': 'ko',\n",
       " 'krio': 'kri',\n",
       " 'kurdish (kurmanji)': 'ku',\n",
       " 'kurdish (sorani)': 'ckb',\n",
       " 'kyrgyz': 'ky',\n",
       " 'lao': 'lo',\n",
       " 'latin': 'la',\n",
       " 'latvian': 'lv',\n",
       " 'lingala': 'ln',\n",
       " 'lithuanian': 'lt',\n",
       " 'luganda': 'lg',\n",
       " 'luxembourgish': 'lb',\n",
       " 'macedonian': 'mk',\n",
       " 'maithili': 'mai',\n",
       " 'malagasy': 'mg',\n",
       " 'malay': 'ms',\n",
       " 'malayalam': 'ml',\n",
       " 'maltese': 'mt',\n",
       " 'maori': 'mi',\n",
       " 'marathi': 'mr',\n",
       " 'meiteilon (manipuri)': 'mni-Mtei',\n",
       " 'mizo': 'lus',\n",
       " 'mongolian': 'mn',\n",
       " 'myanmar': 'my',\n",
       " 'nepali': 'ne',\n",
       " 'norwegian': 'no',\n",
       " 'odia (oriya)': 'or',\n",
       " 'oromo': 'om',\n",
       " 'pashto': 'ps',\n",
       " 'persian': 'fa',\n",
       " 'polish': 'pl',\n",
       " 'portuguese': 'pt',\n",
       " 'punjabi': 'pa',\n",
       " 'quechua': 'qu',\n",
       " 'romanian': 'ro',\n",
       " 'russian': 'ru',\n",
       " 'samoan': 'sm',\n",
       " 'sanskrit': 'sa',\n",
       " 'scots gaelic': 'gd',\n",
       " 'sepedi': 'nso',\n",
       " 'serbian': 'sr',\n",
       " 'sesotho': 'st',\n",
       " 'shona': 'sn',\n",
       " 'sindhi': 'sd',\n",
       " 'sinhala': 'si',\n",
       " 'slovak': 'sk',\n",
       " 'slovenian': 'sl',\n",
       " 'somali': 'so',\n",
       " 'spanish': 'es',\n",
       " 'sundanese': 'su',\n",
       " 'swahili': 'sw',\n",
       " 'swedish': 'sv',\n",
       " 'tajik': 'tg',\n",
       " 'tamil': 'ta',\n",
       " 'tatar': 'tt',\n",
       " 'telugu': 'te',\n",
       " 'thai': 'th',\n",
       " 'tigrinya': 'ti',\n",
       " 'tsonga': 'ts',\n",
       " 'turkish': 'tr',\n",
       " 'turkmen': 'tk',\n",
       " 'twi': 'ak',\n",
       " 'ukrainian': 'uk',\n",
       " 'urdu': 'ur',\n",
       " 'uyghur': 'ug',\n",
       " 'uzbek': 'uz',\n",
       " 'vietnamese': 'vi',\n",
       " 'welsh': 'cy',\n",
       " 'xhosa': 'xh',\n",
       " 'yiddish': 'yi',\n",
       " 'yoruba': 'yo',\n",
       " 'zulu': 'zu'}"
      ]
     },
     "execution_count": 385,
     "metadata": {},
     "output_type": "execute_result"
    }
   ],
   "source": [
    "# alternatively, you can the dictionary containing languages mapped to their abbreviation\n",
    "langs_dict = GoogleTranslator().get_supported_languages(as_dict=True)  # output: {arabic: ar, french: fr, english:en etc..\n",
    "langs_dict"
   ]
  },
  {
   "cell_type": "code",
   "execution_count": 392,
   "metadata": {},
   "outputs": [
    {
     "name": "stdout",
     "output_type": "stream",
     "text": [
      "(234, 10)\n"
     ]
    },
    {
     "name": "stderr",
     "output_type": "stream",
     "text": [
      "C:\\Users\\Wiebke Petersen\\AppData\\Local\\Temp\\ipykernel_25060\\2319449066.py:3: SettingWithCopyWarning: \n",
      "A value is trying to be set on a copy of a slice from a DataFrame.\n",
      "Try using .loc[row_indexer,col_indexer] = value instead\n",
      "\n",
      "See the caveats in the documentation: https://pandas.pydata.org/pandas-docs/stable/user_guide/indexing.html#returning-a-view-versus-a-copy\n",
      "  df_aug['chinese'] = df_aug['phrase'].apply(lambda x: GoogleTranslator(source='de', target='zh-CN').translate(x))\n",
      "C:\\Users\\Wiebke Petersen\\AppData\\Local\\Temp\\ipykernel_25060\\2319449066.py:4: SettingWithCopyWarning: \n",
      "A value is trying to be set on a copy of a slice from a DataFrame.\n",
      "Try using .loc[row_indexer,col_indexer] = value instead\n",
      "\n",
      "See the caveats in the documentation: https://pandas.pydata.org/pandas-docs/stable/user_guide/indexing.html#returning-a-view-versus-a-copy\n",
      "  df_aug['german'] = df_aug['chinese'].apply(lambda x: GoogleTranslator(source='zh-CN', target='de').translate(x))\n"
     ]
    },
    {
     "data": {
      "text/html": [
       "<div>\n",
       "<style scoped>\n",
       "    .dataframe tbody tr th:only-of-type {\n",
       "        vertical-align: middle;\n",
       "    }\n",
       "\n",
       "    .dataframe tbody tr th {\n",
       "        vertical-align: top;\n",
       "    }\n",
       "\n",
       "    .dataframe thead th {\n",
       "        text-align: right;\n",
       "    }\n",
       "</style>\n",
       "<table border=\"1\" class=\"dataframe\">\n",
       "  <thead>\n",
       "    <tr style=\"text-align: right;\">\n",
       "      <th></th>\n",
       "      <th>phrase</th>\n",
       "      <th>chinese</th>\n",
       "      <th>german</th>\n",
       "    </tr>\n",
       "  </thead>\n",
       "  <tbody>\n",
       "    <tr>\n",
       "      <th>35</th>\n",
       "      <td>Im Jahr 1986 hat die UNESCO gesagt: \\newline D...</td>\n",
       "      <td>1986年，联合国教科文组织表示：\\newline阿勒颇老城现已成为世界遗产。</td>\n",
       "      <td>Im Jahr 1986 erklärte die UNESCO:\\newlineDie A...</td>\n",
       "    </tr>\n",
       "    <tr>\n",
       "      <th>41</th>\n",
       "      <td>Die größte Stadt in Syrien ist Damaskus.</td>\n",
       "      <td>叙利亚最大的城市是大马士革。</td>\n",
       "      <td>Die größte Stadt in Syrien ist Damaskus.</td>\n",
       "    </tr>\n",
       "    <tr>\n",
       "      <th>63</th>\n",
       "      <td>Er stirbt am 2. August 1922. \\newline In Badde...</td>\n",
       "      <td>他于 1922 年 8 月 2 日去世。 \\newline 于加拿大巴德克。</td>\n",
       "      <td>Er starb am 2. August 1922. \\newline in Baddec...</td>\n",
       "    </tr>\n",
       "    <tr>\n",
       "      <th>66</th>\n",
       "      <td>Der Vater von Bell war Professor für Rede-kuns...</td>\n",
       "      <td>贝尔的父亲是一位演讲和演讲教授。</td>\n",
       "      <td>Bells Vater war Dozent für Vorlesungen und Reden.</td>\n",
       "    </tr>\n",
       "    <tr>\n",
       "      <th>96</th>\n",
       "      <td>Er stirbt am 26. Juni 1982. \\newline In Frankf...</td>\n",
       "      <td>他于 1982 年 6 月 26 日去世。 \\newline 在德国美因河畔法兰克福。</td>\n",
       "      <td>Er starb am 26. Juni 1982. \\newline in Frankfu...</td>\n",
       "    </tr>\n",
       "    <tr>\n",
       "      <th>103</th>\n",
       "      <td>Das Buch hat er zusammen mit seiner Frau Marga...</td>\n",
       "      <td>他与妻子玛格丽特·米切尔利希 (Margarete Mitscherlich) 一起撰写了这本书。</td>\n",
       "      <td>Er schrieb das Buch zusammen mit seiner Frau M...</td>\n",
       "    </tr>\n",
       "    <tr>\n",
       "      <th>106</th>\n",
       "      <td>Er stirbt am  10. Februar 1837. \\newline In Sa...</td>\n",
       "      <td>他于 1837 年 2 月 10 日去世。 \\newline 在俄罗斯圣彼得堡。</td>\n",
       "      <td>Er starb am 10. Februar 1837. \\newline in St. ...</td>\n",
       "    </tr>\n",
       "    <tr>\n",
       "      <th>110</th>\n",
       "      <td>Er stirbt am 23. September 1973. \\newline In A...</td>\n",
       "      <td>他于 1973 年 9 月 23 日去世。 \\newline 在英格兰萨福克郡奥尔德堡。</td>\n",
       "      <td>Er starb am 23. September 1973. \\newline In Al...</td>\n",
       "    </tr>\n",
       "    <tr>\n",
       "      <th>121</th>\n",
       "      <td>Sie stirbt am 14. April 2010. \\newline In Sain...</td>\n",
       "      <td>她于 2010 年 4 月 14 日去世。 \\newline 法国普罗旺斯-阿尔卑斯-蓝色海...</td>\n",
       "      <td>Sie starb am 14. April 2010. \\newline Saint-Ré...</td>\n",
       "    </tr>\n",
       "    <tr>\n",
       "      <th>187</th>\n",
       "      <td>Eine Allee ist lang  \\newline und hat rechts u...</td>\n",
       "      <td>一条大道很长 \\newline ，左右都有树。</td>\n",
       "      <td>Eine lange Allee \\newline hat auf beiden Seite...</td>\n",
       "    </tr>\n",
       "  </tbody>\n",
       "</table>\n",
       "</div>"
      ],
      "text/plain": [
       "                                                phrase  \\\n",
       "35   Im Jahr 1986 hat die UNESCO gesagt: \\newline D...   \n",
       "41            Die größte Stadt in Syrien ist Damaskus.   \n",
       "63   Er stirbt am 2. August 1922. \\newline In Badde...   \n",
       "66   Der Vater von Bell war Professor für Rede-kuns...   \n",
       "96   Er stirbt am 26. Juni 1982. \\newline In Frankf...   \n",
       "103  Das Buch hat er zusammen mit seiner Frau Marga...   \n",
       "106  Er stirbt am  10. Februar 1837. \\newline In Sa...   \n",
       "110  Er stirbt am 23. September 1973. \\newline In A...   \n",
       "121  Sie stirbt am 14. April 2010. \\newline In Sain...   \n",
       "187  Eine Allee ist lang  \\newline und hat rechts u...   \n",
       "\n",
       "                                               chinese  \\\n",
       "35             1986年，联合国教科文组织表示：\\newline阿勒颇老城现已成为世界遗产。   \n",
       "41                                      叙利亚最大的城市是大马士革。   \n",
       "63              他于 1922 年 8 月 2 日去世。 \\newline 于加拿大巴德克。   \n",
       "66                                    贝尔的父亲是一位演讲和演讲教授。   \n",
       "96         他于 1982 年 6 月 26 日去世。 \\newline 在德国美因河畔法兰克福。   \n",
       "103  他与妻子玛格丽特·米切尔利希 (Margarete Mitscherlich) 一起撰写了这本书。   \n",
       "106           他于 1837 年 2 月 10 日去世。 \\newline 在俄罗斯圣彼得堡。   \n",
       "110       他于 1973 年 9 月 23 日去世。 \\newline 在英格兰萨福克郡奥尔德堡。   \n",
       "121  她于 2010 年 4 月 14 日去世。 \\newline 法国普罗旺斯-阿尔卑斯-蓝色海...   \n",
       "187                            一条大道很长 \\newline ，左右都有树。   \n",
       "\n",
       "                                                german  \n",
       "35   Im Jahr 1986 erklärte die UNESCO:\\newlineDie A...  \n",
       "41            Die größte Stadt in Syrien ist Damaskus.  \n",
       "63   Er starb am 2. August 1922. \\newline in Baddec...  \n",
       "66   Bells Vater war Dozent für Vorlesungen und Reden.  \n",
       "96   Er starb am 26. Juni 1982. \\newline in Frankfu...  \n",
       "103  Er schrieb das Buch zusammen mit seiner Frau M...  \n",
       "106  Er starb am 10. Februar 1837. \\newline in St. ...  \n",
       "110  Er starb am 23. September 1973. \\newline In Al...  \n",
       "121  Sie starb am 14. April 2010. \\newline Saint-Ré...  \n",
       "187  Eine lange Allee \\newline hat auf beiden Seite...  "
      ]
     },
     "execution_count": 392,
     "metadata": {},
     "output_type": "execute_result"
    }
   ],
   "source": [
    "df_aug = df_orig[df_orig['num_statements'] > 2]\n",
    "print(df_aug.shape)\n",
    "df_aug['chinese'] = df_aug['phrase'].apply(lambda x: GoogleTranslator(source='de', target='zh-CN').translate(x))\n",
    "df_aug['german'] = df_aug['chinese'].apply(lambda x: GoogleTranslator(source='zh-CN', target='de').translate(x))\n",
    "df_aug[['phrase', 'chinese', 'german']].head(10)"
   ]
  },
  {
   "cell_type": "code",
   "execution_count": 393,
   "metadata": {},
   "outputs": [
    {
     "name": "stderr",
     "output_type": "stream",
     "text": [
      "C:\\Users\\Wiebke Petersen\\AppData\\Local\\Temp\\ipykernel_25060\\869846774.py:1: SettingWithCopyWarning: \n",
      "A value is trying to be set on a copy of a slice from a DataFrame.\n",
      "Try using .loc[row_indexer,col_indexer] = value instead\n",
      "\n",
      "See the caveats in the documentation: https://pandas.pydata.org/pandas-docs/stable/user_guide/indexing.html#returning-a-view-versus-a-copy\n",
      "  df_aug[\"phrase\"] = df_aug[\"german\"]\n",
      "C:\\Users\\Wiebke Petersen\\AppData\\Local\\Temp\\ipykernel_25060\\869846774.py:2: SettingWithCopyWarning: \n",
      "A value is trying to be set on a copy of a slice from a DataFrame\n",
      "\n",
      "See the caveats in the documentation: https://pandas.pydata.org/pandas-docs/stable/user_guide/indexing.html#returning-a-view-versus-a-copy\n",
      "  df_aug.drop(columns=[\"chinese\", \"german\"], inplace=True)\n",
      "C:\\Users\\Wiebke Petersen\\AppData\\Local\\Temp\\ipykernel_25060\\869846774.py:3: SettingWithCopyWarning: \n",
      "A value is trying to be set on a copy of a slice from a DataFrame.\n",
      "Try using .loc[row_indexer,col_indexer] = value instead\n",
      "\n",
      "See the caveats in the documentation: https://pandas.pydata.org/pandas-docs/stable/user_guide/indexing.html#returning-a-view-versus-a-copy\n",
      "  df_aug[\"sent-id\"] = df_aug[\"sent-id\"].apply(lambda x: x + 10000000)\n"
     ]
    }
   ],
   "source": [
    "df_aug[\"phrase\"] = df_aug[\"german\"]\n",
    "df_aug.drop(columns=[\"chinese\", \"german\"], inplace=True)\n",
    "df_aug[\"sent-id\"] = df_aug[\"sent-id\"].apply(lambda x: x + 10000000)\n",
    "df_aug.to_csv(data_path_temp + 'chinese_aug.csv', index=False)"
   ]
  },
  {
   "cell_type": "code",
   "execution_count": 394,
   "metadata": {},
   "outputs": [
    {
     "data": {
      "text/plain": [
       "3    192\n",
       "4     38\n",
       "5      3\n",
       "6      1\n",
       "Name: num_statements, dtype: int64"
      ]
     },
     "execution_count": 394,
     "metadata": {},
     "output_type": "execute_result"
    }
   ],
   "source": [
    "df_aug[\"num_statements\"].value_counts()"
   ]
  },
  {
   "cell_type": "code",
   "execution_count": 4,
   "metadata": {},
   "outputs": [
    {
     "name": "stdout",
     "output_type": "stream",
     "text": [
      "(1207, 10)\n",
      "2    739\n",
      "3    384\n",
      "4     76\n",
      "5      6\n",
      "6      2\n",
      "Name: num_statements, dtype: int64\n",
      "Index(['sent-id', 'topic', 'phrase', 'phrase_number', 'genre', 'timestamp',\n",
      "       'user', 'phrase_tokenized', 'num_statements', 'statement_spans'],\n",
      "      dtype='object')\n"
     ]
    }
   ],
   "source": [
    "df_aug = pd.read_csv(data_path_temp + 'chinese_aug.csv')\n",
    "df_fin = pd.read_csv(data_path_temp + 'finnish_augm.csv')\n",
    "augm = pd.concat([df_aug, df_fin], join=\"inner\")\n",
    "print(augm.shape)\n",
    "print(augm[\"num_statements\"].value_counts())\n",
    "print(augm.columns)\n",
    "augm.to_csv(data_path + 'augmented.csv', index=False)\n"
   ]
  },
  {
   "cell_type": "code",
   "execution_count": 371,
   "metadata": {},
   "outputs": [
    {
     "name": "stderr",
     "output_type": "stream",
     "text": [
      "Asking to truncate to max_length but no maximum length is provided and the model has no predefined maximum length. Default to no truncation.\n"
     ]
    },
    {
     "name": "stdout",
     "output_type": "stream",
     "text": [
      "tokenizer Chinese done\n"
     ]
    },
    {
     "ename": "KeyboardInterrupt",
     "evalue": "",
     "output_type": "error",
     "traceback": [
      "\u001b[1;31m---------------------------------------------------------------------------\u001b[0m",
      "\u001b[1;31mKeyboardInterrupt\u001b[0m                         Traceback (most recent call last)",
      "Cell \u001b[1;32mIn[371], line 15\u001b[0m\n\u001b[0;32m     12\u001b[0m df[\u001b[38;5;124m'\u001b[39m\u001b[38;5;124mChinese\u001b[39m\u001b[38;5;124m'\u001b[39m] \u001b[38;5;241m=\u001b[39m df[\u001b[38;5;124m'\u001b[39m\u001b[38;5;124mphrase\u001b[39m\u001b[38;5;124m'\u001b[39m]\u001b[38;5;241m.\u001b[39mapply(\u001b[38;5;28;01mlambda\u001b[39;00m x: \n\u001b[0;32m     13\u001b[0m                                    tokenizer(x, return_tensors\u001b[38;5;241m=\u001b[39m\u001b[38;5;124m\"\u001b[39m\u001b[38;5;124mpt\u001b[39m\u001b[38;5;124m\"\u001b[39m, padding\u001b[38;5;241m=\u001b[39m\u001b[38;5;28;01mTrue\u001b[39;00m, truncation\u001b[38;5;241m=\u001b[39m\u001b[38;5;28;01mTrue\u001b[39;00m))\u001b[38;5;66;03m#.to('cuda'))\u001b[39;00m\n\u001b[0;32m     14\u001b[0m \u001b[38;5;28mprint\u001b[39m(\u001b[38;5;124m\"\u001b[39m\u001b[38;5;124mtokenizer Chinese done\u001b[39m\u001b[38;5;124m\"\u001b[39m)\n\u001b[1;32m---> 15\u001b[0m df[\u001b[38;5;124m'\u001b[39m\u001b[38;5;124mChinese\u001b[39m\u001b[38;5;124m'\u001b[39m] \u001b[38;5;241m=\u001b[39m df[\u001b[38;5;124m'\u001b[39m\u001b[38;5;124mChinese\u001b[39m\u001b[38;5;124m'\u001b[39m]\u001b[38;5;241m.\u001b[39mapply(\u001b[38;5;28;01mlambda\u001b[39;00m x: model\u001b[38;5;241m.\u001b[39mgenerate(\u001b[38;5;241m*\u001b[39m\u001b[38;5;241m*\u001b[39mx, forced_bos_token_id\u001b[38;5;241m=\u001b[39mtokenizer\u001b[38;5;241m.\u001b[39mlang_code_to_id[\u001b[38;5;124m\"\u001b[39m\u001b[38;5;124mzh_CN\u001b[39m\u001b[38;5;124m\"\u001b[39m], max_length\u001b[38;5;241m=\u001b[39m\u001b[38;5;241m128\u001b[39m, num_beams\u001b[38;5;241m=\u001b[39m\u001b[38;5;241m4\u001b[39m, early_stopping\u001b[38;5;241m=\u001b[39m\u001b[38;5;28;01mTrue\u001b[39;00m))\n\u001b[0;32m     16\u001b[0m \u001b[38;5;28mprint\u001b[39m(\u001b[38;5;124m\"\u001b[39m\u001b[38;5;124mmodel Chinese done\u001b[39m\u001b[38;5;124m\"\u001b[39m)\n\u001b[0;32m     17\u001b[0m df[\u001b[38;5;124m'\u001b[39m\u001b[38;5;124mChinese\u001b[39m\u001b[38;5;124m'\u001b[39m] \u001b[38;5;241m=\u001b[39m df[\u001b[38;5;124m'\u001b[39m\u001b[38;5;124mChinese\u001b[39m\u001b[38;5;124m'\u001b[39m]\u001b[38;5;241m.\u001b[39mapply(\u001b[38;5;28;01mlambda\u001b[39;00m x: tokenizer\u001b[38;5;241m.\u001b[39mdecode(x[\u001b[38;5;241m0\u001b[39m], skip_special_tokens\u001b[38;5;241m=\u001b[39m\u001b[38;5;28;01mTrue\u001b[39;00m))\n",
      "File \u001b[1;32mc:\\Users\\Wiebke Petersen\\anaconda3\\Lib\\site-packages\\pandas\\core\\series.py:4771\u001b[0m, in \u001b[0;36mSeries.apply\u001b[1;34m(self, func, convert_dtype, args, **kwargs)\u001b[0m\n\u001b[0;32m   4661\u001b[0m \u001b[38;5;28;01mdef\u001b[39;00m \u001b[38;5;21mapply\u001b[39m(\n\u001b[0;32m   4662\u001b[0m     \u001b[38;5;28mself\u001b[39m,\n\u001b[0;32m   4663\u001b[0m     func: AggFuncType,\n\u001b[1;32m   (...)\u001b[0m\n\u001b[0;32m   4666\u001b[0m     \u001b[38;5;241m*\u001b[39m\u001b[38;5;241m*\u001b[39mkwargs,\n\u001b[0;32m   4667\u001b[0m ) \u001b[38;5;241m-\u001b[39m\u001b[38;5;241m>\u001b[39m DataFrame \u001b[38;5;241m|\u001b[39m Series:\n\u001b[0;32m   4668\u001b[0m \u001b[38;5;250m    \u001b[39m\u001b[38;5;124;03m\"\"\"\u001b[39;00m\n\u001b[0;32m   4669\u001b[0m \u001b[38;5;124;03m    Invoke function on values of Series.\u001b[39;00m\n\u001b[0;32m   4670\u001b[0m \n\u001b[1;32m   (...)\u001b[0m\n\u001b[0;32m   4769\u001b[0m \u001b[38;5;124;03m    dtype: float64\u001b[39;00m\n\u001b[0;32m   4770\u001b[0m \u001b[38;5;124;03m    \"\"\"\u001b[39;00m\n\u001b[1;32m-> 4771\u001b[0m     \u001b[38;5;28;01mreturn\u001b[39;00m SeriesApply(\u001b[38;5;28mself\u001b[39m, func, convert_dtype, args, kwargs)\u001b[38;5;241m.\u001b[39mapply()\n",
      "File \u001b[1;32mc:\\Users\\Wiebke Petersen\\anaconda3\\Lib\\site-packages\\pandas\\core\\apply.py:1123\u001b[0m, in \u001b[0;36mSeriesApply.apply\u001b[1;34m(self)\u001b[0m\n\u001b[0;32m   1120\u001b[0m     \u001b[38;5;28;01mreturn\u001b[39;00m \u001b[38;5;28mself\u001b[39m\u001b[38;5;241m.\u001b[39mapply_str()\n\u001b[0;32m   1122\u001b[0m \u001b[38;5;66;03m# self.f is Callable\u001b[39;00m\n\u001b[1;32m-> 1123\u001b[0m \u001b[38;5;28;01mreturn\u001b[39;00m \u001b[38;5;28mself\u001b[39m\u001b[38;5;241m.\u001b[39mapply_standard()\n",
      "File \u001b[1;32mc:\\Users\\Wiebke Petersen\\anaconda3\\Lib\\site-packages\\pandas\\core\\apply.py:1174\u001b[0m, in \u001b[0;36mSeriesApply.apply_standard\u001b[1;34m(self)\u001b[0m\n\u001b[0;32m   1172\u001b[0m     \u001b[38;5;28;01melse\u001b[39;00m:\n\u001b[0;32m   1173\u001b[0m         values \u001b[38;5;241m=\u001b[39m obj\u001b[38;5;241m.\u001b[39mastype(\u001b[38;5;28mobject\u001b[39m)\u001b[38;5;241m.\u001b[39m_values\n\u001b[1;32m-> 1174\u001b[0m         mapped \u001b[38;5;241m=\u001b[39m lib\u001b[38;5;241m.\u001b[39mmap_infer(\n\u001b[0;32m   1175\u001b[0m             values,\n\u001b[0;32m   1176\u001b[0m             f,\n\u001b[0;32m   1177\u001b[0m             convert\u001b[38;5;241m=\u001b[39m\u001b[38;5;28mself\u001b[39m\u001b[38;5;241m.\u001b[39mconvert_dtype,\n\u001b[0;32m   1178\u001b[0m         )\n\u001b[0;32m   1180\u001b[0m \u001b[38;5;28;01mif\u001b[39;00m \u001b[38;5;28mlen\u001b[39m(mapped) \u001b[38;5;129;01mand\u001b[39;00m \u001b[38;5;28misinstance\u001b[39m(mapped[\u001b[38;5;241m0\u001b[39m], ABCSeries):\n\u001b[0;32m   1181\u001b[0m     \u001b[38;5;66;03m# GH#43986 Need to do list(mapped) in order to get treated as nested\u001b[39;00m\n\u001b[0;32m   1182\u001b[0m     \u001b[38;5;66;03m#  See also GH#25959 regarding EA support\u001b[39;00m\n\u001b[0;32m   1183\u001b[0m     \u001b[38;5;28;01mreturn\u001b[39;00m obj\u001b[38;5;241m.\u001b[39m_constructor_expanddim(\u001b[38;5;28mlist\u001b[39m(mapped), index\u001b[38;5;241m=\u001b[39mobj\u001b[38;5;241m.\u001b[39mindex)\n",
      "File \u001b[1;32mc:\\Users\\Wiebke Petersen\\anaconda3\\Lib\\site-packages\\pandas\\_libs\\lib.pyx:2924\u001b[0m, in \u001b[0;36mpandas._libs.lib.map_infer\u001b[1;34m()\u001b[0m\n",
      "Cell \u001b[1;32mIn[371], line 15\u001b[0m, in \u001b[0;36m<lambda>\u001b[1;34m(x)\u001b[0m\n\u001b[0;32m     12\u001b[0m df[\u001b[38;5;124m'\u001b[39m\u001b[38;5;124mChinese\u001b[39m\u001b[38;5;124m'\u001b[39m] \u001b[38;5;241m=\u001b[39m df[\u001b[38;5;124m'\u001b[39m\u001b[38;5;124mphrase\u001b[39m\u001b[38;5;124m'\u001b[39m]\u001b[38;5;241m.\u001b[39mapply(\u001b[38;5;28;01mlambda\u001b[39;00m x: \n\u001b[0;32m     13\u001b[0m                                    tokenizer(x, return_tensors\u001b[38;5;241m=\u001b[39m\u001b[38;5;124m\"\u001b[39m\u001b[38;5;124mpt\u001b[39m\u001b[38;5;124m\"\u001b[39m, padding\u001b[38;5;241m=\u001b[39m\u001b[38;5;28;01mTrue\u001b[39;00m, truncation\u001b[38;5;241m=\u001b[39m\u001b[38;5;28;01mTrue\u001b[39;00m))\u001b[38;5;66;03m#.to('cuda'))\u001b[39;00m\n\u001b[0;32m     14\u001b[0m \u001b[38;5;28mprint\u001b[39m(\u001b[38;5;124m\"\u001b[39m\u001b[38;5;124mtokenizer Chinese done\u001b[39m\u001b[38;5;124m\"\u001b[39m)\n\u001b[1;32m---> 15\u001b[0m df[\u001b[38;5;124m'\u001b[39m\u001b[38;5;124mChinese\u001b[39m\u001b[38;5;124m'\u001b[39m] \u001b[38;5;241m=\u001b[39m df[\u001b[38;5;124m'\u001b[39m\u001b[38;5;124mChinese\u001b[39m\u001b[38;5;124m'\u001b[39m]\u001b[38;5;241m.\u001b[39mapply(\u001b[38;5;28;01mlambda\u001b[39;00m x: model\u001b[38;5;241m.\u001b[39mgenerate(\u001b[38;5;241m*\u001b[39m\u001b[38;5;241m*\u001b[39mx, forced_bos_token_id\u001b[38;5;241m=\u001b[39mtokenizer\u001b[38;5;241m.\u001b[39mlang_code_to_id[\u001b[38;5;124m\"\u001b[39m\u001b[38;5;124mzh_CN\u001b[39m\u001b[38;5;124m\"\u001b[39m], max_length\u001b[38;5;241m=\u001b[39m\u001b[38;5;241m128\u001b[39m, num_beams\u001b[38;5;241m=\u001b[39m\u001b[38;5;241m4\u001b[39m, early_stopping\u001b[38;5;241m=\u001b[39m\u001b[38;5;28;01mTrue\u001b[39;00m))\n\u001b[0;32m     16\u001b[0m \u001b[38;5;28mprint\u001b[39m(\u001b[38;5;124m\"\u001b[39m\u001b[38;5;124mmodel Chinese done\u001b[39m\u001b[38;5;124m\"\u001b[39m)\n\u001b[0;32m     17\u001b[0m df[\u001b[38;5;124m'\u001b[39m\u001b[38;5;124mChinese\u001b[39m\u001b[38;5;124m'\u001b[39m] \u001b[38;5;241m=\u001b[39m df[\u001b[38;5;124m'\u001b[39m\u001b[38;5;124mChinese\u001b[39m\u001b[38;5;124m'\u001b[39m]\u001b[38;5;241m.\u001b[39mapply(\u001b[38;5;28;01mlambda\u001b[39;00m x: tokenizer\u001b[38;5;241m.\u001b[39mdecode(x[\u001b[38;5;241m0\u001b[39m], skip_special_tokens\u001b[38;5;241m=\u001b[39m\u001b[38;5;28;01mTrue\u001b[39;00m))\n",
      "File \u001b[1;32mc:\\Users\\Wiebke Petersen\\anaconda3\\Lib\\site-packages\\torch\\utils\\_contextlib.py:115\u001b[0m, in \u001b[0;36mcontext_decorator.<locals>.decorate_context\u001b[1;34m(*args, **kwargs)\u001b[0m\n\u001b[0;32m    112\u001b[0m \u001b[38;5;129m@functools\u001b[39m\u001b[38;5;241m.\u001b[39mwraps(func)\n\u001b[0;32m    113\u001b[0m \u001b[38;5;28;01mdef\u001b[39;00m \u001b[38;5;21mdecorate_context\u001b[39m(\u001b[38;5;241m*\u001b[39margs, \u001b[38;5;241m*\u001b[39m\u001b[38;5;241m*\u001b[39mkwargs):\n\u001b[0;32m    114\u001b[0m     \u001b[38;5;28;01mwith\u001b[39;00m ctx_factory():\n\u001b[1;32m--> 115\u001b[0m         \u001b[38;5;28;01mreturn\u001b[39;00m func(\u001b[38;5;241m*\u001b[39margs, \u001b[38;5;241m*\u001b[39m\u001b[38;5;241m*\u001b[39mkwargs)\n",
      "File \u001b[1;32mc:\\Users\\Wiebke Petersen\\anaconda3\\Lib\\site-packages\\transformers\\generation\\utils.py:1752\u001b[0m, in \u001b[0;36mGenerationMixin.generate\u001b[1;34m(self, inputs, generation_config, logits_processor, stopping_criteria, prefix_allowed_tokens_fn, synced_gpus, assistant_model, streamer, negative_prompt_ids, negative_prompt_attention_mask, **kwargs)\u001b[0m\n\u001b[0;32m   1745\u001b[0m     input_ids, model_kwargs \u001b[38;5;241m=\u001b[39m \u001b[38;5;28mself\u001b[39m\u001b[38;5;241m.\u001b[39m_expand_inputs_for_generation(\n\u001b[0;32m   1746\u001b[0m         input_ids\u001b[38;5;241m=\u001b[39minput_ids,\n\u001b[0;32m   1747\u001b[0m         expand_size\u001b[38;5;241m=\u001b[39mgeneration_config\u001b[38;5;241m.\u001b[39mnum_beams,\n\u001b[0;32m   1748\u001b[0m         is_encoder_decoder\u001b[38;5;241m=\u001b[39m\u001b[38;5;28mself\u001b[39m\u001b[38;5;241m.\u001b[39mconfig\u001b[38;5;241m.\u001b[39mis_encoder_decoder,\n\u001b[0;32m   1749\u001b[0m         \u001b[38;5;241m*\u001b[39m\u001b[38;5;241m*\u001b[39mmodel_kwargs,\n\u001b[0;32m   1750\u001b[0m     )\n\u001b[0;32m   1751\u001b[0m     \u001b[38;5;66;03m# 13. run beam search\u001b[39;00m\n\u001b[1;32m-> 1752\u001b[0m     \u001b[38;5;28;01mreturn\u001b[39;00m \u001b[38;5;28mself\u001b[39m\u001b[38;5;241m.\u001b[39mbeam_search(\n\u001b[0;32m   1753\u001b[0m         input_ids,\n\u001b[0;32m   1754\u001b[0m         beam_scorer,\n\u001b[0;32m   1755\u001b[0m         logits_processor\u001b[38;5;241m=\u001b[39mlogits_processor,\n\u001b[0;32m   1756\u001b[0m         stopping_criteria\u001b[38;5;241m=\u001b[39mstopping_criteria,\n\u001b[0;32m   1757\u001b[0m         pad_token_id\u001b[38;5;241m=\u001b[39mgeneration_config\u001b[38;5;241m.\u001b[39mpad_token_id,\n\u001b[0;32m   1758\u001b[0m         eos_token_id\u001b[38;5;241m=\u001b[39mgeneration_config\u001b[38;5;241m.\u001b[39meos_token_id,\n\u001b[0;32m   1759\u001b[0m         output_scores\u001b[38;5;241m=\u001b[39mgeneration_config\u001b[38;5;241m.\u001b[39moutput_scores,\n\u001b[0;32m   1760\u001b[0m         return_dict_in_generate\u001b[38;5;241m=\u001b[39mgeneration_config\u001b[38;5;241m.\u001b[39mreturn_dict_in_generate,\n\u001b[0;32m   1761\u001b[0m         synced_gpus\u001b[38;5;241m=\u001b[39msynced_gpus,\n\u001b[0;32m   1762\u001b[0m         \u001b[38;5;241m*\u001b[39m\u001b[38;5;241m*\u001b[39mmodel_kwargs,\n\u001b[0;32m   1763\u001b[0m     )\n\u001b[0;32m   1765\u001b[0m \u001b[38;5;28;01melif\u001b[39;00m generation_mode \u001b[38;5;241m==\u001b[39m GenerationMode\u001b[38;5;241m.\u001b[39mBEAM_SAMPLE:\n\u001b[0;32m   1766\u001b[0m     \u001b[38;5;66;03m# 11. prepare logits warper\u001b[39;00m\n\u001b[0;32m   1767\u001b[0m     logits_warper \u001b[38;5;241m=\u001b[39m \u001b[38;5;28mself\u001b[39m\u001b[38;5;241m.\u001b[39m_get_logits_warper(generation_config)\n",
      "File \u001b[1;32mc:\\Users\\Wiebke Petersen\\anaconda3\\Lib\\site-packages\\transformers\\generation\\utils.py:3091\u001b[0m, in \u001b[0;36mGenerationMixin.beam_search\u001b[1;34m(self, input_ids, beam_scorer, logits_processor, stopping_criteria, max_length, pad_token_id, eos_token_id, output_attentions, output_hidden_states, output_scores, return_dict_in_generate, synced_gpus, **model_kwargs)\u001b[0m\n\u001b[0;32m   3087\u001b[0m         \u001b[38;5;28;01mbreak\u001b[39;00m\n\u001b[0;32m   3089\u001b[0m model_inputs \u001b[38;5;241m=\u001b[39m \u001b[38;5;28mself\u001b[39m\u001b[38;5;241m.\u001b[39mprepare_inputs_for_generation(input_ids, \u001b[38;5;241m*\u001b[39m\u001b[38;5;241m*\u001b[39mmodel_kwargs)\n\u001b[1;32m-> 3091\u001b[0m outputs \u001b[38;5;241m=\u001b[39m \u001b[38;5;28mself\u001b[39m(\n\u001b[0;32m   3092\u001b[0m     \u001b[38;5;241m*\u001b[39m\u001b[38;5;241m*\u001b[39mmodel_inputs,\n\u001b[0;32m   3093\u001b[0m     return_dict\u001b[38;5;241m=\u001b[39m\u001b[38;5;28;01mTrue\u001b[39;00m,\n\u001b[0;32m   3094\u001b[0m     output_attentions\u001b[38;5;241m=\u001b[39moutput_attentions,\n\u001b[0;32m   3095\u001b[0m     output_hidden_states\u001b[38;5;241m=\u001b[39moutput_hidden_states,\n\u001b[0;32m   3096\u001b[0m )\n\u001b[0;32m   3098\u001b[0m \u001b[38;5;28;01mif\u001b[39;00m synced_gpus \u001b[38;5;129;01mand\u001b[39;00m this_peer_finished:\n\u001b[0;32m   3099\u001b[0m     cur_len \u001b[38;5;241m=\u001b[39m cur_len \u001b[38;5;241m+\u001b[39m \u001b[38;5;241m1\u001b[39m\n",
      "File \u001b[1;32mc:\\Users\\Wiebke Petersen\\anaconda3\\Lib\\site-packages\\torch\\nn\\modules\\module.py:1518\u001b[0m, in \u001b[0;36mModule._wrapped_call_impl\u001b[1;34m(self, *args, **kwargs)\u001b[0m\n\u001b[0;32m   1516\u001b[0m     \u001b[38;5;28;01mreturn\u001b[39;00m \u001b[38;5;28mself\u001b[39m\u001b[38;5;241m.\u001b[39m_compiled_call_impl(\u001b[38;5;241m*\u001b[39margs, \u001b[38;5;241m*\u001b[39m\u001b[38;5;241m*\u001b[39mkwargs)  \u001b[38;5;66;03m# type: ignore[misc]\u001b[39;00m\n\u001b[0;32m   1517\u001b[0m \u001b[38;5;28;01melse\u001b[39;00m:\n\u001b[1;32m-> 1518\u001b[0m     \u001b[38;5;28;01mreturn\u001b[39;00m \u001b[38;5;28mself\u001b[39m\u001b[38;5;241m.\u001b[39m_call_impl(\u001b[38;5;241m*\u001b[39margs, \u001b[38;5;241m*\u001b[39m\u001b[38;5;241m*\u001b[39mkwargs)\n",
      "File \u001b[1;32mc:\\Users\\Wiebke Petersen\\anaconda3\\Lib\\site-packages\\torch\\nn\\modules\\module.py:1527\u001b[0m, in \u001b[0;36mModule._call_impl\u001b[1;34m(self, *args, **kwargs)\u001b[0m\n\u001b[0;32m   1522\u001b[0m \u001b[38;5;66;03m# If we don't have any hooks, we want to skip the rest of the logic in\u001b[39;00m\n\u001b[0;32m   1523\u001b[0m \u001b[38;5;66;03m# this function, and just call forward.\u001b[39;00m\n\u001b[0;32m   1524\u001b[0m \u001b[38;5;28;01mif\u001b[39;00m \u001b[38;5;129;01mnot\u001b[39;00m (\u001b[38;5;28mself\u001b[39m\u001b[38;5;241m.\u001b[39m_backward_hooks \u001b[38;5;129;01mor\u001b[39;00m \u001b[38;5;28mself\u001b[39m\u001b[38;5;241m.\u001b[39m_backward_pre_hooks \u001b[38;5;129;01mor\u001b[39;00m \u001b[38;5;28mself\u001b[39m\u001b[38;5;241m.\u001b[39m_forward_hooks \u001b[38;5;129;01mor\u001b[39;00m \u001b[38;5;28mself\u001b[39m\u001b[38;5;241m.\u001b[39m_forward_pre_hooks\n\u001b[0;32m   1525\u001b[0m         \u001b[38;5;129;01mor\u001b[39;00m _global_backward_pre_hooks \u001b[38;5;129;01mor\u001b[39;00m _global_backward_hooks\n\u001b[0;32m   1526\u001b[0m         \u001b[38;5;129;01mor\u001b[39;00m _global_forward_hooks \u001b[38;5;129;01mor\u001b[39;00m _global_forward_pre_hooks):\n\u001b[1;32m-> 1527\u001b[0m     \u001b[38;5;28;01mreturn\u001b[39;00m forward_call(\u001b[38;5;241m*\u001b[39margs, \u001b[38;5;241m*\u001b[39m\u001b[38;5;241m*\u001b[39mkwargs)\n\u001b[0;32m   1529\u001b[0m \u001b[38;5;28;01mtry\u001b[39;00m:\n\u001b[0;32m   1530\u001b[0m     result \u001b[38;5;241m=\u001b[39m \u001b[38;5;28;01mNone\u001b[39;00m\n",
      "File \u001b[1;32mc:\\Users\\Wiebke Petersen\\anaconda3\\Lib\\site-packages\\transformers\\models\\mbart\\modeling_mbart.py:1562\u001b[0m, in \u001b[0;36mMBartForConditionalGeneration.forward\u001b[1;34m(self, input_ids, attention_mask, decoder_input_ids, decoder_attention_mask, head_mask, decoder_head_mask, cross_attn_head_mask, encoder_outputs, past_key_values, inputs_embeds, decoder_inputs_embeds, labels, use_cache, output_attentions, output_hidden_states, return_dict)\u001b[0m\n\u001b[0;32m   1543\u001b[0m         decoder_input_ids \u001b[38;5;241m=\u001b[39m shift_tokens_right(labels, \u001b[38;5;28mself\u001b[39m\u001b[38;5;241m.\u001b[39mconfig\u001b[38;5;241m.\u001b[39mpad_token_id)\n\u001b[0;32m   1545\u001b[0m outputs \u001b[38;5;241m=\u001b[39m \u001b[38;5;28mself\u001b[39m\u001b[38;5;241m.\u001b[39mmodel(\n\u001b[0;32m   1546\u001b[0m     input_ids,\n\u001b[0;32m   1547\u001b[0m     attention_mask\u001b[38;5;241m=\u001b[39mattention_mask,\n\u001b[1;32m   (...)\u001b[0m\n\u001b[0;32m   1560\u001b[0m     return_dict\u001b[38;5;241m=\u001b[39mreturn_dict,\n\u001b[0;32m   1561\u001b[0m )\n\u001b[1;32m-> 1562\u001b[0m lm_logits \u001b[38;5;241m=\u001b[39m \u001b[38;5;28mself\u001b[39m\u001b[38;5;241m.\u001b[39mlm_head(outputs[\u001b[38;5;241m0\u001b[39m]) \u001b[38;5;241m+\u001b[39m \u001b[38;5;28mself\u001b[39m\u001b[38;5;241m.\u001b[39mfinal_logits_bias\n\u001b[0;32m   1564\u001b[0m masked_lm_loss \u001b[38;5;241m=\u001b[39m \u001b[38;5;28;01mNone\u001b[39;00m\n\u001b[0;32m   1565\u001b[0m \u001b[38;5;28;01mif\u001b[39;00m labels \u001b[38;5;129;01mis\u001b[39;00m \u001b[38;5;129;01mnot\u001b[39;00m \u001b[38;5;28;01mNone\u001b[39;00m:\n",
      "File \u001b[1;32mc:\\Users\\Wiebke Petersen\\anaconda3\\Lib\\site-packages\\torch\\nn\\modules\\module.py:1518\u001b[0m, in \u001b[0;36mModule._wrapped_call_impl\u001b[1;34m(self, *args, **kwargs)\u001b[0m\n\u001b[0;32m   1516\u001b[0m     \u001b[38;5;28;01mreturn\u001b[39;00m \u001b[38;5;28mself\u001b[39m\u001b[38;5;241m.\u001b[39m_compiled_call_impl(\u001b[38;5;241m*\u001b[39margs, \u001b[38;5;241m*\u001b[39m\u001b[38;5;241m*\u001b[39mkwargs)  \u001b[38;5;66;03m# type: ignore[misc]\u001b[39;00m\n\u001b[0;32m   1517\u001b[0m \u001b[38;5;28;01melse\u001b[39;00m:\n\u001b[1;32m-> 1518\u001b[0m     \u001b[38;5;28;01mreturn\u001b[39;00m \u001b[38;5;28mself\u001b[39m\u001b[38;5;241m.\u001b[39m_call_impl(\u001b[38;5;241m*\u001b[39margs, \u001b[38;5;241m*\u001b[39m\u001b[38;5;241m*\u001b[39mkwargs)\n",
      "File \u001b[1;32mc:\\Users\\Wiebke Petersen\\anaconda3\\Lib\\site-packages\\torch\\nn\\modules\\module.py:1527\u001b[0m, in \u001b[0;36mModule._call_impl\u001b[1;34m(self, *args, **kwargs)\u001b[0m\n\u001b[0;32m   1522\u001b[0m \u001b[38;5;66;03m# If we don't have any hooks, we want to skip the rest of the logic in\u001b[39;00m\n\u001b[0;32m   1523\u001b[0m \u001b[38;5;66;03m# this function, and just call forward.\u001b[39;00m\n\u001b[0;32m   1524\u001b[0m \u001b[38;5;28;01mif\u001b[39;00m \u001b[38;5;129;01mnot\u001b[39;00m (\u001b[38;5;28mself\u001b[39m\u001b[38;5;241m.\u001b[39m_backward_hooks \u001b[38;5;129;01mor\u001b[39;00m \u001b[38;5;28mself\u001b[39m\u001b[38;5;241m.\u001b[39m_backward_pre_hooks \u001b[38;5;129;01mor\u001b[39;00m \u001b[38;5;28mself\u001b[39m\u001b[38;5;241m.\u001b[39m_forward_hooks \u001b[38;5;129;01mor\u001b[39;00m \u001b[38;5;28mself\u001b[39m\u001b[38;5;241m.\u001b[39m_forward_pre_hooks\n\u001b[0;32m   1525\u001b[0m         \u001b[38;5;129;01mor\u001b[39;00m _global_backward_pre_hooks \u001b[38;5;129;01mor\u001b[39;00m _global_backward_hooks\n\u001b[0;32m   1526\u001b[0m         \u001b[38;5;129;01mor\u001b[39;00m _global_forward_hooks \u001b[38;5;129;01mor\u001b[39;00m _global_forward_pre_hooks):\n\u001b[1;32m-> 1527\u001b[0m     \u001b[38;5;28;01mreturn\u001b[39;00m forward_call(\u001b[38;5;241m*\u001b[39margs, \u001b[38;5;241m*\u001b[39m\u001b[38;5;241m*\u001b[39mkwargs)\n\u001b[0;32m   1529\u001b[0m \u001b[38;5;28;01mtry\u001b[39;00m:\n\u001b[0;32m   1530\u001b[0m     result \u001b[38;5;241m=\u001b[39m \u001b[38;5;28;01mNone\u001b[39;00m\n",
      "File \u001b[1;32mc:\\Users\\Wiebke Petersen\\anaconda3\\Lib\\site-packages\\torch\\nn\\modules\\linear.py:114\u001b[0m, in \u001b[0;36mLinear.forward\u001b[1;34m(self, input)\u001b[0m\n\u001b[0;32m    113\u001b[0m \u001b[38;5;28;01mdef\u001b[39;00m \u001b[38;5;21mforward\u001b[39m(\u001b[38;5;28mself\u001b[39m, \u001b[38;5;28minput\u001b[39m: Tensor) \u001b[38;5;241m-\u001b[39m\u001b[38;5;241m>\u001b[39m Tensor:\n\u001b[1;32m--> 114\u001b[0m     \u001b[38;5;28;01mreturn\u001b[39;00m F\u001b[38;5;241m.\u001b[39mlinear(\u001b[38;5;28minput\u001b[39m, \u001b[38;5;28mself\u001b[39m\u001b[38;5;241m.\u001b[39mweight, \u001b[38;5;28mself\u001b[39m\u001b[38;5;241m.\u001b[39mbias)\n",
      "\u001b[1;31mKeyboardInterrupt\u001b[0m: "
     ]
    }
   ],
   "source": [
    "\"\"\"\n",
    "# Bart for translation\n",
    "from transformers import MBartForConditionalGeneration, MBart50TokenizerFast\n",
    "\n",
    "model = MBartForConditionalGeneration.from_pretrained(\"facebook/mbart-large-50-many-to-many-mmt\")\n",
    "tokenizer = MBart50TokenizerFast.from_pretrained(\"facebook/mbart-large-50-many-to-many-mmt\")\n",
    "df = df[df['num_statements'] > 1]\n",
    "\n",
    "tokenizer.src_lang = \"de_DE\"\n",
    "\n",
    "\n",
    "# translate to Chinese\n",
    "df['Chinese'] = df['phrase'].apply(lambda x: \n",
    "                                   tokenizer(x, return_tensors=\"pt\", padding=True, truncation=True))#.to('cuda'))\n",
    "print(\"tokenizer Chinese done\")\n",
    "df['Chinese'] = df['Chinese'].apply(lambda x: model.generate(**x, forced_bos_token_id=tokenizer.lang_code_to_id[\"zh_CN\"], max_length=128, num_beams=4, early_stopping=True))\n",
    "print(\"model Chinese done\")\n",
    "df['Chinese'] = df['Chinese'].apply(lambda x: tokenizer.decode(x[0], skip_special_tokens=True))\n",
    "print(\"decode Chinese done\")\n",
    "\n",
    "tokenizer.src_lang = \"zh_CN\"\n",
    "# translate back to German\n",
    "df['German'] = df['Chinese'].apply(lambda x: tokenizer(x, return_tensors=\"pt\", padding=True, truncation=True).to('cuda'))\n",
    "print(\"tokenizer German done\")\n",
    "df['German'] = df['German'].apply(lambda x: model.generate(**x, forced_bos_token_id=tokenizer.lang_code_to_id[\"de_DE\"],max_length=128, num_beams=4, early_stopping=True))\n",
    "print(\"model German done\")\n",
    "df['German'] = df['German'].apply(lambda x: tokenizer.decode(x[0], skip_special_tokens=True))\n",
    "print(\"decode German done\")\n",
    "\n",
    "df[['phrase','Chinese','German']]\n",
    "\n",
    "\"\"\"\n"
   ]
  },
  {
   "cell_type": "markdown",
   "metadata": {},
   "source": [
    "# AMR"
   ]
  },
  {
   "cell_type": "markdown",
   "metadata": {},
   "source": [
    "## Read data"
   ]
  },
  {
   "cell_type": "code",
   "execution_count": 106,
   "metadata": {},
   "outputs": [
    {
     "name": "stdout",
     "output_type": "stream",
     "text": [
      "(2944, 10) (26, 11)\n",
      "(2970, 10)\n",
      "1    1545\n",
      "2     739\n",
      "0     449\n",
      "3     192\n",
      "4      38\n",
      "5       3\n",
      "6       1\n",
      "Name: num_statements, dtype: int64\n"
     ]
    }
   ],
   "source": [
    "# read in data. train data is combined with trial data\n",
    "\n",
    "import pandas as pd\n",
    "\n",
    "# open train.csv\n",
    "\n",
    "df = pd.read_csv(data_path+ type + '.csv')\n",
    "\n",
    "if type == \"augmented\":\n",
    "    df = pd.read_csv(data_path+ 'augmented.csv')\n",
    "    print(df.shape)\n",
    "    print(df[\"num_statements\"].value_counts())\n",
    "\n",
    "if type == \"train\":\n",
    "    df_trial = pd.read_csv(data_path+ 'trial.csv')\n",
    "    print(df.shape, df_trial.shape)\n",
    "    df = pd.concat([df,df_trial], join=\"inner\")\n",
    "    print(df.shape)\n",
    "    df = df.drop_duplicates(subset=['sent-id'], keep='last')\n",
    "    print(df[\"num_statements\"].value_counts())\n",
    "\n"
   ]
  },
  {
   "cell_type": "markdown",
   "metadata": {},
   "source": [
    "## Translate and AMR of English translation"
   ]
  },
  {
   "cell_type": "code",
   "execution_count": 50,
   "metadata": {},
   "outputs": [
    {
     "ename": "ConnectionError",
     "evalue": "HTTPSConnectionPool(host='translate.google.com', port=443): Max retries exceeded with url: /m?tl=en&sl=auto&q=Im+Jahr+1986+erkl%C3%A4rte+die+UNESCO%3A%5CnewlineDie+Altstadt+von+Aleppo+geh%C3%B6rt+heute+zum+Weltkulturerbe. (Caused by NewConnectionError('<urllib3.connection.HTTPSConnection object at 0x0000014F22F97F10>: Failed to establish a new connection: [Errno 11001] getaddrinfo failed'))",
     "output_type": "error",
     "traceback": [
      "\u001b[1;31m---------------------------------------------------------------------------\u001b[0m",
      "\u001b[1;31mgaierror\u001b[0m                                  Traceback (most recent call last)",
      "File \u001b[1;32mc:\\Users\\Wiebke Petersen\\anaconda3\\Lib\\site-packages\\urllib3\\connection.py:174\u001b[0m, in \u001b[0;36mHTTPConnection._new_conn\u001b[1;34m(self)\u001b[0m\n\u001b[0;32m    173\u001b[0m \u001b[38;5;28;01mtry\u001b[39;00m:\n\u001b[1;32m--> 174\u001b[0m     conn \u001b[38;5;241m=\u001b[39m connection\u001b[38;5;241m.\u001b[39mcreate_connection(\n\u001b[0;32m    175\u001b[0m         (\u001b[38;5;28mself\u001b[39m\u001b[38;5;241m.\u001b[39m_dns_host, \u001b[38;5;28mself\u001b[39m\u001b[38;5;241m.\u001b[39mport), \u001b[38;5;28mself\u001b[39m\u001b[38;5;241m.\u001b[39mtimeout, \u001b[38;5;241m*\u001b[39m\u001b[38;5;241m*\u001b[39mextra_kw\n\u001b[0;32m    176\u001b[0m     )\n\u001b[0;32m    178\u001b[0m \u001b[38;5;28;01mexcept\u001b[39;00m SocketTimeout:\n",
      "File \u001b[1;32mc:\\Users\\Wiebke Petersen\\anaconda3\\Lib\\site-packages\\urllib3\\util\\connection.py:72\u001b[0m, in \u001b[0;36mcreate_connection\u001b[1;34m(address, timeout, source_address, socket_options)\u001b[0m\n\u001b[0;32m     68\u001b[0m     \u001b[38;5;28;01mreturn\u001b[39;00m six\u001b[38;5;241m.\u001b[39mraise_from(\n\u001b[0;32m     69\u001b[0m         LocationParseError(\u001b[38;5;124mu\u001b[39m\u001b[38;5;124m\"\u001b[39m\u001b[38;5;124m'\u001b[39m\u001b[38;5;132;01m%s\u001b[39;00m\u001b[38;5;124m'\u001b[39m\u001b[38;5;124m, label empty or too long\u001b[39m\u001b[38;5;124m\"\u001b[39m \u001b[38;5;241m%\u001b[39m host), \u001b[38;5;28;01mNone\u001b[39;00m\n\u001b[0;32m     70\u001b[0m     )\n\u001b[1;32m---> 72\u001b[0m \u001b[38;5;28;01mfor\u001b[39;00m res \u001b[38;5;129;01min\u001b[39;00m socket\u001b[38;5;241m.\u001b[39mgetaddrinfo(host, port, family, socket\u001b[38;5;241m.\u001b[39mSOCK_STREAM):\n\u001b[0;32m     73\u001b[0m     af, socktype, proto, canonname, sa \u001b[38;5;241m=\u001b[39m res\n",
      "File \u001b[1;32mc:\\Users\\Wiebke Petersen\\anaconda3\\Lib\\socket.py:962\u001b[0m, in \u001b[0;36mgetaddrinfo\u001b[1;34m(host, port, family, type, proto, flags)\u001b[0m\n\u001b[0;32m    961\u001b[0m addrlist \u001b[38;5;241m=\u001b[39m []\n\u001b[1;32m--> 962\u001b[0m \u001b[38;5;28;01mfor\u001b[39;00m res \u001b[38;5;129;01min\u001b[39;00m _socket\u001b[38;5;241m.\u001b[39mgetaddrinfo(host, port, family, \u001b[38;5;28mtype\u001b[39m, proto, flags):\n\u001b[0;32m    963\u001b[0m     af, socktype, proto, canonname, sa \u001b[38;5;241m=\u001b[39m res\n",
      "\u001b[1;31mgaierror\u001b[0m: [Errno 11001] getaddrinfo failed",
      "\nDuring handling of the above exception, another exception occurred:\n",
      "\u001b[1;31mNewConnectionError\u001b[0m                        Traceback (most recent call last)",
      "File \u001b[1;32mc:\\Users\\Wiebke Petersen\\anaconda3\\Lib\\site-packages\\urllib3\\connectionpool.py:714\u001b[0m, in \u001b[0;36mHTTPConnectionPool.urlopen\u001b[1;34m(self, method, url, body, headers, retries, redirect, assert_same_host, timeout, pool_timeout, release_conn, chunked, body_pos, **response_kw)\u001b[0m\n\u001b[0;32m    713\u001b[0m \u001b[38;5;66;03m# Make the request on the httplib connection object.\u001b[39;00m\n\u001b[1;32m--> 714\u001b[0m httplib_response \u001b[38;5;241m=\u001b[39m \u001b[38;5;28mself\u001b[39m\u001b[38;5;241m.\u001b[39m_make_request(\n\u001b[0;32m    715\u001b[0m     conn,\n\u001b[0;32m    716\u001b[0m     method,\n\u001b[0;32m    717\u001b[0m     url,\n\u001b[0;32m    718\u001b[0m     timeout\u001b[38;5;241m=\u001b[39mtimeout_obj,\n\u001b[0;32m    719\u001b[0m     body\u001b[38;5;241m=\u001b[39mbody,\n\u001b[0;32m    720\u001b[0m     headers\u001b[38;5;241m=\u001b[39mheaders,\n\u001b[0;32m    721\u001b[0m     chunked\u001b[38;5;241m=\u001b[39mchunked,\n\u001b[0;32m    722\u001b[0m )\n\u001b[0;32m    724\u001b[0m \u001b[38;5;66;03m# If we're going to release the connection in ``finally:``, then\u001b[39;00m\n\u001b[0;32m    725\u001b[0m \u001b[38;5;66;03m# the response doesn't need to know about the connection. Otherwise\u001b[39;00m\n\u001b[0;32m    726\u001b[0m \u001b[38;5;66;03m# it will also try to release it and we'll have a double-release\u001b[39;00m\n\u001b[0;32m    727\u001b[0m \u001b[38;5;66;03m# mess.\u001b[39;00m\n",
      "File \u001b[1;32mc:\\Users\\Wiebke Petersen\\anaconda3\\Lib\\site-packages\\urllib3\\connectionpool.py:403\u001b[0m, in \u001b[0;36mHTTPConnectionPool._make_request\u001b[1;34m(self, conn, method, url, timeout, chunked, **httplib_request_kw)\u001b[0m\n\u001b[0;32m    402\u001b[0m \u001b[38;5;28;01mtry\u001b[39;00m:\n\u001b[1;32m--> 403\u001b[0m     \u001b[38;5;28mself\u001b[39m\u001b[38;5;241m.\u001b[39m_validate_conn(conn)\n\u001b[0;32m    404\u001b[0m \u001b[38;5;28;01mexcept\u001b[39;00m (SocketTimeout, BaseSSLError) \u001b[38;5;28;01mas\u001b[39;00m e:\n\u001b[0;32m    405\u001b[0m     \u001b[38;5;66;03m# Py2 raises this as a BaseSSLError, Py3 raises it as socket timeout.\u001b[39;00m\n",
      "File \u001b[1;32mc:\\Users\\Wiebke Petersen\\anaconda3\\Lib\\site-packages\\urllib3\\connectionpool.py:1053\u001b[0m, in \u001b[0;36mHTTPSConnectionPool._validate_conn\u001b[1;34m(self, conn)\u001b[0m\n\u001b[0;32m   1052\u001b[0m \u001b[38;5;28;01mif\u001b[39;00m \u001b[38;5;129;01mnot\u001b[39;00m \u001b[38;5;28mgetattr\u001b[39m(conn, \u001b[38;5;124m\"\u001b[39m\u001b[38;5;124msock\u001b[39m\u001b[38;5;124m\"\u001b[39m, \u001b[38;5;28;01mNone\u001b[39;00m):  \u001b[38;5;66;03m# AppEngine might not have  `.sock`\u001b[39;00m\n\u001b[1;32m-> 1053\u001b[0m     conn\u001b[38;5;241m.\u001b[39mconnect()\n\u001b[0;32m   1055\u001b[0m \u001b[38;5;28;01mif\u001b[39;00m \u001b[38;5;129;01mnot\u001b[39;00m conn\u001b[38;5;241m.\u001b[39mis_verified:\n",
      "File \u001b[1;32mc:\\Users\\Wiebke Petersen\\anaconda3\\Lib\\site-packages\\urllib3\\connection.py:363\u001b[0m, in \u001b[0;36mHTTPSConnection.connect\u001b[1;34m(self)\u001b[0m\n\u001b[0;32m    361\u001b[0m \u001b[38;5;28;01mdef\u001b[39;00m \u001b[38;5;21mconnect\u001b[39m(\u001b[38;5;28mself\u001b[39m):\n\u001b[0;32m    362\u001b[0m     \u001b[38;5;66;03m# Add certificate verification\u001b[39;00m\n\u001b[1;32m--> 363\u001b[0m     \u001b[38;5;28mself\u001b[39m\u001b[38;5;241m.\u001b[39msock \u001b[38;5;241m=\u001b[39m conn \u001b[38;5;241m=\u001b[39m \u001b[38;5;28mself\u001b[39m\u001b[38;5;241m.\u001b[39m_new_conn()\n\u001b[0;32m    364\u001b[0m     hostname \u001b[38;5;241m=\u001b[39m \u001b[38;5;28mself\u001b[39m\u001b[38;5;241m.\u001b[39mhost\n",
      "File \u001b[1;32mc:\\Users\\Wiebke Petersen\\anaconda3\\Lib\\site-packages\\urllib3\\connection.py:186\u001b[0m, in \u001b[0;36mHTTPConnection._new_conn\u001b[1;34m(self)\u001b[0m\n\u001b[0;32m    185\u001b[0m \u001b[38;5;28;01mexcept\u001b[39;00m SocketError \u001b[38;5;28;01mas\u001b[39;00m e:\n\u001b[1;32m--> 186\u001b[0m     \u001b[38;5;28;01mraise\u001b[39;00m NewConnectionError(\n\u001b[0;32m    187\u001b[0m         \u001b[38;5;28mself\u001b[39m, \u001b[38;5;124m\"\u001b[39m\u001b[38;5;124mFailed to establish a new connection: \u001b[39m\u001b[38;5;132;01m%s\u001b[39;00m\u001b[38;5;124m\"\u001b[39m \u001b[38;5;241m%\u001b[39m e\n\u001b[0;32m    188\u001b[0m     )\n\u001b[0;32m    190\u001b[0m \u001b[38;5;28;01mreturn\u001b[39;00m conn\n",
      "\u001b[1;31mNewConnectionError\u001b[0m: <urllib3.connection.HTTPSConnection object at 0x0000014F22F97F10>: Failed to establish a new connection: [Errno 11001] getaddrinfo failed",
      "\nDuring handling of the above exception, another exception occurred:\n",
      "\u001b[1;31mMaxRetryError\u001b[0m                             Traceback (most recent call last)",
      "File \u001b[1;32mc:\\Users\\Wiebke Petersen\\anaconda3\\Lib\\site-packages\\requests\\adapters.py:486\u001b[0m, in \u001b[0;36mHTTPAdapter.send\u001b[1;34m(self, request, stream, timeout, verify, cert, proxies)\u001b[0m\n\u001b[0;32m    485\u001b[0m \u001b[38;5;28;01mtry\u001b[39;00m:\n\u001b[1;32m--> 486\u001b[0m     resp \u001b[38;5;241m=\u001b[39m conn\u001b[38;5;241m.\u001b[39murlopen(\n\u001b[0;32m    487\u001b[0m         method\u001b[38;5;241m=\u001b[39mrequest\u001b[38;5;241m.\u001b[39mmethod,\n\u001b[0;32m    488\u001b[0m         url\u001b[38;5;241m=\u001b[39murl,\n\u001b[0;32m    489\u001b[0m         body\u001b[38;5;241m=\u001b[39mrequest\u001b[38;5;241m.\u001b[39mbody,\n\u001b[0;32m    490\u001b[0m         headers\u001b[38;5;241m=\u001b[39mrequest\u001b[38;5;241m.\u001b[39mheaders,\n\u001b[0;32m    491\u001b[0m         redirect\u001b[38;5;241m=\u001b[39m\u001b[38;5;28;01mFalse\u001b[39;00m,\n\u001b[0;32m    492\u001b[0m         assert_same_host\u001b[38;5;241m=\u001b[39m\u001b[38;5;28;01mFalse\u001b[39;00m,\n\u001b[0;32m    493\u001b[0m         preload_content\u001b[38;5;241m=\u001b[39m\u001b[38;5;28;01mFalse\u001b[39;00m,\n\u001b[0;32m    494\u001b[0m         decode_content\u001b[38;5;241m=\u001b[39m\u001b[38;5;28;01mFalse\u001b[39;00m,\n\u001b[0;32m    495\u001b[0m         retries\u001b[38;5;241m=\u001b[39m\u001b[38;5;28mself\u001b[39m\u001b[38;5;241m.\u001b[39mmax_retries,\n\u001b[0;32m    496\u001b[0m         timeout\u001b[38;5;241m=\u001b[39mtimeout,\n\u001b[0;32m    497\u001b[0m         chunked\u001b[38;5;241m=\u001b[39mchunked,\n\u001b[0;32m    498\u001b[0m     )\n\u001b[0;32m    500\u001b[0m \u001b[38;5;28;01mexcept\u001b[39;00m (ProtocolError, \u001b[38;5;167;01mOSError\u001b[39;00m) \u001b[38;5;28;01mas\u001b[39;00m err:\n",
      "File \u001b[1;32mc:\\Users\\Wiebke Petersen\\anaconda3\\Lib\\site-packages\\urllib3\\connectionpool.py:798\u001b[0m, in \u001b[0;36mHTTPConnectionPool.urlopen\u001b[1;34m(self, method, url, body, headers, retries, redirect, assert_same_host, timeout, pool_timeout, release_conn, chunked, body_pos, **response_kw)\u001b[0m\n\u001b[0;32m    796\u001b[0m     e \u001b[38;5;241m=\u001b[39m ProtocolError(\u001b[38;5;124m\"\u001b[39m\u001b[38;5;124mConnection aborted.\u001b[39m\u001b[38;5;124m\"\u001b[39m, e)\n\u001b[1;32m--> 798\u001b[0m retries \u001b[38;5;241m=\u001b[39m retries\u001b[38;5;241m.\u001b[39mincrement(\n\u001b[0;32m    799\u001b[0m     method, url, error\u001b[38;5;241m=\u001b[39me, _pool\u001b[38;5;241m=\u001b[39m\u001b[38;5;28mself\u001b[39m, _stacktrace\u001b[38;5;241m=\u001b[39msys\u001b[38;5;241m.\u001b[39mexc_info()[\u001b[38;5;241m2\u001b[39m]\n\u001b[0;32m    800\u001b[0m )\n\u001b[0;32m    801\u001b[0m retries\u001b[38;5;241m.\u001b[39msleep()\n",
      "File \u001b[1;32mc:\\Users\\Wiebke Petersen\\anaconda3\\Lib\\site-packages\\urllib3\\util\\retry.py:592\u001b[0m, in \u001b[0;36mRetry.increment\u001b[1;34m(self, method, url, response, error, _pool, _stacktrace)\u001b[0m\n\u001b[0;32m    591\u001b[0m \u001b[38;5;28;01mif\u001b[39;00m new_retry\u001b[38;5;241m.\u001b[39mis_exhausted():\n\u001b[1;32m--> 592\u001b[0m     \u001b[38;5;28;01mraise\u001b[39;00m MaxRetryError(_pool, url, error \u001b[38;5;129;01mor\u001b[39;00m ResponseError(cause))\n\u001b[0;32m    594\u001b[0m log\u001b[38;5;241m.\u001b[39mdebug(\u001b[38;5;124m\"\u001b[39m\u001b[38;5;124mIncremented Retry for (url=\u001b[39m\u001b[38;5;124m'\u001b[39m\u001b[38;5;132;01m%s\u001b[39;00m\u001b[38;5;124m'\u001b[39m\u001b[38;5;124m): \u001b[39m\u001b[38;5;132;01m%r\u001b[39;00m\u001b[38;5;124m\"\u001b[39m, url, new_retry)\n",
      "\u001b[1;31mMaxRetryError\u001b[0m: HTTPSConnectionPool(host='translate.google.com', port=443): Max retries exceeded with url: /m?tl=en&sl=auto&q=Im+Jahr+1986+erkl%C3%A4rte+die+UNESCO%3A%5CnewlineDie+Altstadt+von+Aleppo+geh%C3%B6rt+heute+zum+Weltkulturerbe. (Caused by NewConnectionError('<urllib3.connection.HTTPSConnection object at 0x0000014F22F97F10>: Failed to establish a new connection: [Errno 11001] getaddrinfo failed'))",
      "\nDuring handling of the above exception, another exception occurred:\n",
      "\u001b[1;31mConnectionError\u001b[0m                           Traceback (most recent call last)",
      "Cell \u001b[1;32mIn[50], line 5\u001b[0m\n\u001b[0;32m      1\u001b[0m \u001b[38;5;66;03m# CAREFUL: takes time \u001b[39;00m\n\u001b[0;32m      2\u001b[0m \n\u001b[0;32m      3\u001b[0m \u001b[38;5;66;03m# translate the text to english\u001b[39;00m\n\u001b[0;32m      4\u001b[0m \u001b[38;5;28;01mfrom\u001b[39;00m \u001b[38;5;21;01mdeep_translator\u001b[39;00m \u001b[38;5;28;01mimport\u001b[39;00m GoogleTranslator\n\u001b[1;32m----> 5\u001b[0m df[\u001b[38;5;124m'\u001b[39m\u001b[38;5;124menglish\u001b[39m\u001b[38;5;124m'\u001b[39m] \u001b[38;5;241m=\u001b[39m df[\u001b[38;5;124m'\u001b[39m\u001b[38;5;124mphrase\u001b[39m\u001b[38;5;124m'\u001b[39m]\u001b[38;5;241m.\u001b[39mapply(\u001b[38;5;28;01mlambda\u001b[39;00m x: GoogleTranslator(source\u001b[38;5;241m=\u001b[39m\u001b[38;5;124m'\u001b[39m\u001b[38;5;124mauto\u001b[39m\u001b[38;5;124m'\u001b[39m, target\u001b[38;5;241m=\u001b[39m\u001b[38;5;124m'\u001b[39m\u001b[38;5;124men\u001b[39m\u001b[38;5;124m'\u001b[39m)\u001b[38;5;241m.\u001b[39mtranslate(x))\n\u001b[0;32m      6\u001b[0m df\u001b[38;5;241m.\u001b[39mhead()\n",
      "File \u001b[1;32mc:\\Users\\Wiebke Petersen\\anaconda3\\Lib\\site-packages\\pandas\\core\\series.py:4771\u001b[0m, in \u001b[0;36mSeries.apply\u001b[1;34m(self, func, convert_dtype, args, **kwargs)\u001b[0m\n\u001b[0;32m   4661\u001b[0m \u001b[38;5;28;01mdef\u001b[39;00m \u001b[38;5;21mapply\u001b[39m(\n\u001b[0;32m   4662\u001b[0m     \u001b[38;5;28mself\u001b[39m,\n\u001b[0;32m   4663\u001b[0m     func: AggFuncType,\n\u001b[1;32m   (...)\u001b[0m\n\u001b[0;32m   4666\u001b[0m     \u001b[38;5;241m*\u001b[39m\u001b[38;5;241m*\u001b[39mkwargs,\n\u001b[0;32m   4667\u001b[0m ) \u001b[38;5;241m-\u001b[39m\u001b[38;5;241m>\u001b[39m DataFrame \u001b[38;5;241m|\u001b[39m Series:\n\u001b[0;32m   4668\u001b[0m \u001b[38;5;250m    \u001b[39m\u001b[38;5;124;03m\"\"\"\u001b[39;00m\n\u001b[0;32m   4669\u001b[0m \u001b[38;5;124;03m    Invoke function on values of Series.\u001b[39;00m\n\u001b[0;32m   4670\u001b[0m \n\u001b[1;32m   (...)\u001b[0m\n\u001b[0;32m   4769\u001b[0m \u001b[38;5;124;03m    dtype: float64\u001b[39;00m\n\u001b[0;32m   4770\u001b[0m \u001b[38;5;124;03m    \"\"\"\u001b[39;00m\n\u001b[1;32m-> 4771\u001b[0m     \u001b[38;5;28;01mreturn\u001b[39;00m SeriesApply(\u001b[38;5;28mself\u001b[39m, func, convert_dtype, args, kwargs)\u001b[38;5;241m.\u001b[39mapply()\n",
      "File \u001b[1;32mc:\\Users\\Wiebke Petersen\\anaconda3\\Lib\\site-packages\\pandas\\core\\apply.py:1123\u001b[0m, in \u001b[0;36mSeriesApply.apply\u001b[1;34m(self)\u001b[0m\n\u001b[0;32m   1120\u001b[0m     \u001b[38;5;28;01mreturn\u001b[39;00m \u001b[38;5;28mself\u001b[39m\u001b[38;5;241m.\u001b[39mapply_str()\n\u001b[0;32m   1122\u001b[0m \u001b[38;5;66;03m# self.f is Callable\u001b[39;00m\n\u001b[1;32m-> 1123\u001b[0m \u001b[38;5;28;01mreturn\u001b[39;00m \u001b[38;5;28mself\u001b[39m\u001b[38;5;241m.\u001b[39mapply_standard()\n",
      "File \u001b[1;32mc:\\Users\\Wiebke Petersen\\anaconda3\\Lib\\site-packages\\pandas\\core\\apply.py:1174\u001b[0m, in \u001b[0;36mSeriesApply.apply_standard\u001b[1;34m(self)\u001b[0m\n\u001b[0;32m   1172\u001b[0m     \u001b[38;5;28;01melse\u001b[39;00m:\n\u001b[0;32m   1173\u001b[0m         values \u001b[38;5;241m=\u001b[39m obj\u001b[38;5;241m.\u001b[39mastype(\u001b[38;5;28mobject\u001b[39m)\u001b[38;5;241m.\u001b[39m_values\n\u001b[1;32m-> 1174\u001b[0m         mapped \u001b[38;5;241m=\u001b[39m lib\u001b[38;5;241m.\u001b[39mmap_infer(\n\u001b[0;32m   1175\u001b[0m             values,\n\u001b[0;32m   1176\u001b[0m             f,\n\u001b[0;32m   1177\u001b[0m             convert\u001b[38;5;241m=\u001b[39m\u001b[38;5;28mself\u001b[39m\u001b[38;5;241m.\u001b[39mconvert_dtype,\n\u001b[0;32m   1178\u001b[0m         )\n\u001b[0;32m   1180\u001b[0m \u001b[38;5;28;01mif\u001b[39;00m \u001b[38;5;28mlen\u001b[39m(mapped) \u001b[38;5;129;01mand\u001b[39;00m \u001b[38;5;28misinstance\u001b[39m(mapped[\u001b[38;5;241m0\u001b[39m], ABCSeries):\n\u001b[0;32m   1181\u001b[0m     \u001b[38;5;66;03m# GH#43986 Need to do list(mapped) in order to get treated as nested\u001b[39;00m\n\u001b[0;32m   1182\u001b[0m     \u001b[38;5;66;03m#  See also GH#25959 regarding EA support\u001b[39;00m\n\u001b[0;32m   1183\u001b[0m     \u001b[38;5;28;01mreturn\u001b[39;00m obj\u001b[38;5;241m.\u001b[39m_constructor_expanddim(\u001b[38;5;28mlist\u001b[39m(mapped), index\u001b[38;5;241m=\u001b[39mobj\u001b[38;5;241m.\u001b[39mindex)\n",
      "File \u001b[1;32mc:\\Users\\Wiebke Petersen\\anaconda3\\Lib\\site-packages\\pandas\\_libs\\lib.pyx:2924\u001b[0m, in \u001b[0;36mpandas._libs.lib.map_infer\u001b[1;34m()\u001b[0m\n",
      "Cell \u001b[1;32mIn[50], line 5\u001b[0m, in \u001b[0;36m<lambda>\u001b[1;34m(x)\u001b[0m\n\u001b[0;32m      1\u001b[0m \u001b[38;5;66;03m# CAREFUL: takes time \u001b[39;00m\n\u001b[0;32m      2\u001b[0m \n\u001b[0;32m      3\u001b[0m \u001b[38;5;66;03m# translate the text to english\u001b[39;00m\n\u001b[0;32m      4\u001b[0m \u001b[38;5;28;01mfrom\u001b[39;00m \u001b[38;5;21;01mdeep_translator\u001b[39;00m \u001b[38;5;28;01mimport\u001b[39;00m GoogleTranslator\n\u001b[1;32m----> 5\u001b[0m df[\u001b[38;5;124m'\u001b[39m\u001b[38;5;124menglish\u001b[39m\u001b[38;5;124m'\u001b[39m] \u001b[38;5;241m=\u001b[39m df[\u001b[38;5;124m'\u001b[39m\u001b[38;5;124mphrase\u001b[39m\u001b[38;5;124m'\u001b[39m]\u001b[38;5;241m.\u001b[39mapply(\u001b[38;5;28;01mlambda\u001b[39;00m x: GoogleTranslator(source\u001b[38;5;241m=\u001b[39m\u001b[38;5;124m'\u001b[39m\u001b[38;5;124mauto\u001b[39m\u001b[38;5;124m'\u001b[39m, target\u001b[38;5;241m=\u001b[39m\u001b[38;5;124m'\u001b[39m\u001b[38;5;124men\u001b[39m\u001b[38;5;124m'\u001b[39m)\u001b[38;5;241m.\u001b[39mtranslate(x))\n\u001b[0;32m      6\u001b[0m df\u001b[38;5;241m.\u001b[39mhead()\n",
      "File \u001b[1;32mc:\\Users\\Wiebke Petersen\\anaconda3\\Lib\\site-packages\\deep_translator\\google.py:67\u001b[0m, in \u001b[0;36mGoogleTranslator.translate\u001b[1;34m(self, text, **kwargs)\u001b[0m\n\u001b[0;32m     64\u001b[0m \u001b[38;5;28;01mif\u001b[39;00m \u001b[38;5;28mself\u001b[39m\u001b[38;5;241m.\u001b[39mpayload_key:\n\u001b[0;32m     65\u001b[0m     \u001b[38;5;28mself\u001b[39m\u001b[38;5;241m.\u001b[39m_url_params[\u001b[38;5;28mself\u001b[39m\u001b[38;5;241m.\u001b[39mpayload_key] \u001b[38;5;241m=\u001b[39m text\n\u001b[1;32m---> 67\u001b[0m response \u001b[38;5;241m=\u001b[39m requests\u001b[38;5;241m.\u001b[39mget(\n\u001b[0;32m     68\u001b[0m     \u001b[38;5;28mself\u001b[39m\u001b[38;5;241m.\u001b[39m_base_url, params\u001b[38;5;241m=\u001b[39m\u001b[38;5;28mself\u001b[39m\u001b[38;5;241m.\u001b[39m_url_params, proxies\u001b[38;5;241m=\u001b[39m\u001b[38;5;28mself\u001b[39m\u001b[38;5;241m.\u001b[39mproxies\n\u001b[0;32m     69\u001b[0m )\n\u001b[0;32m     70\u001b[0m \u001b[38;5;28;01mif\u001b[39;00m response\u001b[38;5;241m.\u001b[39mstatus_code \u001b[38;5;241m==\u001b[39m \u001b[38;5;241m429\u001b[39m:\n\u001b[0;32m     71\u001b[0m     \u001b[38;5;28;01mraise\u001b[39;00m TooManyRequests()\n",
      "File \u001b[1;32mc:\\Users\\Wiebke Petersen\\anaconda3\\Lib\\site-packages\\requests\\api.py:73\u001b[0m, in \u001b[0;36mget\u001b[1;34m(url, params, **kwargs)\u001b[0m\n\u001b[0;32m     62\u001b[0m \u001b[38;5;28;01mdef\u001b[39;00m \u001b[38;5;21mget\u001b[39m(url, params\u001b[38;5;241m=\u001b[39m\u001b[38;5;28;01mNone\u001b[39;00m, \u001b[38;5;241m*\u001b[39m\u001b[38;5;241m*\u001b[39mkwargs):\n\u001b[0;32m     63\u001b[0m \u001b[38;5;250m    \u001b[39m\u001b[38;5;124mr\u001b[39m\u001b[38;5;124;03m\"\"\"Sends a GET request.\u001b[39;00m\n\u001b[0;32m     64\u001b[0m \n\u001b[0;32m     65\u001b[0m \u001b[38;5;124;03m    :param url: URL for the new :class:`Request` object.\u001b[39;00m\n\u001b[1;32m   (...)\u001b[0m\n\u001b[0;32m     70\u001b[0m \u001b[38;5;124;03m    :rtype: requests.Response\u001b[39;00m\n\u001b[0;32m     71\u001b[0m \u001b[38;5;124;03m    \"\"\"\u001b[39;00m\n\u001b[1;32m---> 73\u001b[0m     \u001b[38;5;28;01mreturn\u001b[39;00m request(\u001b[38;5;124m\"\u001b[39m\u001b[38;5;124mget\u001b[39m\u001b[38;5;124m\"\u001b[39m, url, params\u001b[38;5;241m=\u001b[39mparams, \u001b[38;5;241m*\u001b[39m\u001b[38;5;241m*\u001b[39mkwargs)\n",
      "File \u001b[1;32mc:\\Users\\Wiebke Petersen\\anaconda3\\Lib\\site-packages\\requests\\api.py:59\u001b[0m, in \u001b[0;36mrequest\u001b[1;34m(method, url, **kwargs)\u001b[0m\n\u001b[0;32m     55\u001b[0m \u001b[38;5;66;03m# By using the 'with' statement we are sure the session is closed, thus we\u001b[39;00m\n\u001b[0;32m     56\u001b[0m \u001b[38;5;66;03m# avoid leaving sockets open which can trigger a ResourceWarning in some\u001b[39;00m\n\u001b[0;32m     57\u001b[0m \u001b[38;5;66;03m# cases, and look like a memory leak in others.\u001b[39;00m\n\u001b[0;32m     58\u001b[0m \u001b[38;5;28;01mwith\u001b[39;00m sessions\u001b[38;5;241m.\u001b[39mSession() \u001b[38;5;28;01mas\u001b[39;00m session:\n\u001b[1;32m---> 59\u001b[0m     \u001b[38;5;28;01mreturn\u001b[39;00m session\u001b[38;5;241m.\u001b[39mrequest(method\u001b[38;5;241m=\u001b[39mmethod, url\u001b[38;5;241m=\u001b[39murl, \u001b[38;5;241m*\u001b[39m\u001b[38;5;241m*\u001b[39mkwargs)\n",
      "File \u001b[1;32mc:\\Users\\Wiebke Petersen\\anaconda3\\Lib\\site-packages\\requests\\sessions.py:589\u001b[0m, in \u001b[0;36mSession.request\u001b[1;34m(self, method, url, params, data, headers, cookies, files, auth, timeout, allow_redirects, proxies, hooks, stream, verify, cert, json)\u001b[0m\n\u001b[0;32m    584\u001b[0m send_kwargs \u001b[38;5;241m=\u001b[39m {\n\u001b[0;32m    585\u001b[0m     \u001b[38;5;124m\"\u001b[39m\u001b[38;5;124mtimeout\u001b[39m\u001b[38;5;124m\"\u001b[39m: timeout,\n\u001b[0;32m    586\u001b[0m     \u001b[38;5;124m\"\u001b[39m\u001b[38;5;124mallow_redirects\u001b[39m\u001b[38;5;124m\"\u001b[39m: allow_redirects,\n\u001b[0;32m    587\u001b[0m }\n\u001b[0;32m    588\u001b[0m send_kwargs\u001b[38;5;241m.\u001b[39mupdate(settings)\n\u001b[1;32m--> 589\u001b[0m resp \u001b[38;5;241m=\u001b[39m \u001b[38;5;28mself\u001b[39m\u001b[38;5;241m.\u001b[39msend(prep, \u001b[38;5;241m*\u001b[39m\u001b[38;5;241m*\u001b[39msend_kwargs)\n\u001b[0;32m    591\u001b[0m \u001b[38;5;28;01mreturn\u001b[39;00m resp\n",
      "File \u001b[1;32mc:\\Users\\Wiebke Petersen\\anaconda3\\Lib\\site-packages\\requests\\sessions.py:703\u001b[0m, in \u001b[0;36mSession.send\u001b[1;34m(self, request, **kwargs)\u001b[0m\n\u001b[0;32m    700\u001b[0m start \u001b[38;5;241m=\u001b[39m preferred_clock()\n\u001b[0;32m    702\u001b[0m \u001b[38;5;66;03m# Send the request\u001b[39;00m\n\u001b[1;32m--> 703\u001b[0m r \u001b[38;5;241m=\u001b[39m adapter\u001b[38;5;241m.\u001b[39msend(request, \u001b[38;5;241m*\u001b[39m\u001b[38;5;241m*\u001b[39mkwargs)\n\u001b[0;32m    705\u001b[0m \u001b[38;5;66;03m# Total elapsed time of the request (approximately)\u001b[39;00m\n\u001b[0;32m    706\u001b[0m elapsed \u001b[38;5;241m=\u001b[39m preferred_clock() \u001b[38;5;241m-\u001b[39m start\n",
      "File \u001b[1;32mc:\\Users\\Wiebke Petersen\\anaconda3\\Lib\\site-packages\\requests\\adapters.py:519\u001b[0m, in \u001b[0;36mHTTPAdapter.send\u001b[1;34m(self, request, stream, timeout, verify, cert, proxies)\u001b[0m\n\u001b[0;32m    515\u001b[0m     \u001b[38;5;28;01mif\u001b[39;00m \u001b[38;5;28misinstance\u001b[39m(e\u001b[38;5;241m.\u001b[39mreason, _SSLError):\n\u001b[0;32m    516\u001b[0m         \u001b[38;5;66;03m# This branch is for urllib3 v1.22 and later.\u001b[39;00m\n\u001b[0;32m    517\u001b[0m         \u001b[38;5;28;01mraise\u001b[39;00m SSLError(e, request\u001b[38;5;241m=\u001b[39mrequest)\n\u001b[1;32m--> 519\u001b[0m     \u001b[38;5;28;01mraise\u001b[39;00m \u001b[38;5;167;01mConnectionError\u001b[39;00m(e, request\u001b[38;5;241m=\u001b[39mrequest)\n\u001b[0;32m    521\u001b[0m \u001b[38;5;28;01mexcept\u001b[39;00m ClosedPoolError \u001b[38;5;28;01mas\u001b[39;00m e:\n\u001b[0;32m    522\u001b[0m     \u001b[38;5;28;01mraise\u001b[39;00m \u001b[38;5;167;01mConnectionError\u001b[39;00m(e, request\u001b[38;5;241m=\u001b[39mrequest)\n",
      "\u001b[1;31mConnectionError\u001b[0m: HTTPSConnectionPool(host='translate.google.com', port=443): Max retries exceeded with url: /m?tl=en&sl=auto&q=Im+Jahr+1986+erkl%C3%A4rte+die+UNESCO%3A%5CnewlineDie+Altstadt+von+Aleppo+geh%C3%B6rt+heute+zum+Weltkulturerbe. (Caused by NewConnectionError('<urllib3.connection.HTTPSConnection object at 0x0000014F22F97F10>: Failed to establish a new connection: [Errno 11001] getaddrinfo failed'))"
     ]
    }
   ],
   "source": [
    "# CAREFUL: takes time \n",
    "\n",
    "# translate the text to english\n",
    "from deep_translator import GoogleTranslator\n",
    "df['english'] = df['phrase'].apply(lambda x: GoogleTranslator(source='auto', target='en').translate(x))\n",
    "df.head()"
   ]
  },
  {
   "cell_type": "code",
   "execution_count": 51,
   "metadata": {},
   "outputs": [
    {
     "ename": "KeyError",
     "evalue": "'english'",
     "output_type": "error",
     "traceback": [
      "\u001b[1;31m---------------------------------------------------------------------------\u001b[0m",
      "\u001b[1;31mKeyError\u001b[0m                                  Traceback (most recent call last)",
      "File \u001b[1;32mc:\\Users\\Wiebke Petersen\\anaconda3\\Lib\\site-packages\\pandas\\core\\indexes\\base.py:3802\u001b[0m, in \u001b[0;36mIndex.get_loc\u001b[1;34m(self, key, method, tolerance)\u001b[0m\n\u001b[0;32m   3801\u001b[0m \u001b[38;5;28;01mtry\u001b[39;00m:\n\u001b[1;32m-> 3802\u001b[0m     \u001b[38;5;28;01mreturn\u001b[39;00m \u001b[38;5;28mself\u001b[39m\u001b[38;5;241m.\u001b[39m_engine\u001b[38;5;241m.\u001b[39mget_loc(casted_key)\n\u001b[0;32m   3803\u001b[0m \u001b[38;5;28;01mexcept\u001b[39;00m \u001b[38;5;167;01mKeyError\u001b[39;00m \u001b[38;5;28;01mas\u001b[39;00m err:\n",
      "File \u001b[1;32mc:\\Users\\Wiebke Petersen\\anaconda3\\Lib\\site-packages\\pandas\\_libs\\index.pyx:138\u001b[0m, in \u001b[0;36mpandas._libs.index.IndexEngine.get_loc\u001b[1;34m()\u001b[0m\n",
      "File \u001b[1;32mc:\\Users\\Wiebke Petersen\\anaconda3\\Lib\\site-packages\\pandas\\_libs\\index.pyx:165\u001b[0m, in \u001b[0;36mpandas._libs.index.IndexEngine.get_loc\u001b[1;34m()\u001b[0m\n",
      "File \u001b[1;32mpandas\\_libs\\hashtable_class_helper.pxi:5745\u001b[0m, in \u001b[0;36mpandas._libs.hashtable.PyObjectHashTable.get_item\u001b[1;34m()\u001b[0m\n",
      "File \u001b[1;32mpandas\\_libs\\hashtable_class_helper.pxi:5753\u001b[0m, in \u001b[0;36mpandas._libs.hashtable.PyObjectHashTable.get_item\u001b[1;34m()\u001b[0m\n",
      "\u001b[1;31mKeyError\u001b[0m: 'english'",
      "\nThe above exception was the direct cause of the following exception:\n",
      "\u001b[1;31mKeyError\u001b[0m                                  Traceback (most recent call last)",
      "Cell \u001b[1;32mIn[51], line 12\u001b[0m\n\u001b[0;32m     10\u001b[0m \u001b[38;5;66;03m#  save amr of english in column amr\u001b[39;00m\n\u001b[0;32m     11\u001b[0m amr \u001b[38;5;241m=\u001b[39m []\n\u001b[1;32m---> 12\u001b[0m \u001b[38;5;28;01mfor\u001b[39;00m text \u001b[38;5;129;01min\u001b[39;00m df[\u001b[38;5;124m'\u001b[39m\u001b[38;5;124menglish\u001b[39m\u001b[38;5;124m'\u001b[39m]:\n\u001b[0;32m     13\u001b[0m     doc \u001b[38;5;241m=\u001b[39m nlp(text)\n\u001b[0;32m     14\u001b[0m     graphs \u001b[38;5;241m=\u001b[39m doc\u001b[38;5;241m.\u001b[39m_\u001b[38;5;241m.\u001b[39mto_amr()\n",
      "File \u001b[1;32mc:\\Users\\Wiebke Petersen\\anaconda3\\Lib\\site-packages\\pandas\\core\\frame.py:3807\u001b[0m, in \u001b[0;36mDataFrame.__getitem__\u001b[1;34m(self, key)\u001b[0m\n\u001b[0;32m   3805\u001b[0m \u001b[38;5;28;01mif\u001b[39;00m \u001b[38;5;28mself\u001b[39m\u001b[38;5;241m.\u001b[39mcolumns\u001b[38;5;241m.\u001b[39mnlevels \u001b[38;5;241m>\u001b[39m \u001b[38;5;241m1\u001b[39m:\n\u001b[0;32m   3806\u001b[0m     \u001b[38;5;28;01mreturn\u001b[39;00m \u001b[38;5;28mself\u001b[39m\u001b[38;5;241m.\u001b[39m_getitem_multilevel(key)\n\u001b[1;32m-> 3807\u001b[0m indexer \u001b[38;5;241m=\u001b[39m \u001b[38;5;28mself\u001b[39m\u001b[38;5;241m.\u001b[39mcolumns\u001b[38;5;241m.\u001b[39mget_loc(key)\n\u001b[0;32m   3808\u001b[0m \u001b[38;5;28;01mif\u001b[39;00m is_integer(indexer):\n\u001b[0;32m   3809\u001b[0m     indexer \u001b[38;5;241m=\u001b[39m [indexer]\n",
      "File \u001b[1;32mc:\\Users\\Wiebke Petersen\\anaconda3\\Lib\\site-packages\\pandas\\core\\indexes\\base.py:3804\u001b[0m, in \u001b[0;36mIndex.get_loc\u001b[1;34m(self, key, method, tolerance)\u001b[0m\n\u001b[0;32m   3802\u001b[0m     \u001b[38;5;28;01mreturn\u001b[39;00m \u001b[38;5;28mself\u001b[39m\u001b[38;5;241m.\u001b[39m_engine\u001b[38;5;241m.\u001b[39mget_loc(casted_key)\n\u001b[0;32m   3803\u001b[0m \u001b[38;5;28;01mexcept\u001b[39;00m \u001b[38;5;167;01mKeyError\u001b[39;00m \u001b[38;5;28;01mas\u001b[39;00m err:\n\u001b[1;32m-> 3804\u001b[0m     \u001b[38;5;28;01mraise\u001b[39;00m \u001b[38;5;167;01mKeyError\u001b[39;00m(key) \u001b[38;5;28;01mfrom\u001b[39;00m \u001b[38;5;21;01merr\u001b[39;00m\n\u001b[0;32m   3805\u001b[0m \u001b[38;5;28;01mexcept\u001b[39;00m \u001b[38;5;167;01mTypeError\u001b[39;00m:\n\u001b[0;32m   3806\u001b[0m     \u001b[38;5;66;03m# If we have a listlike key, _check_indexing_error will raise\u001b[39;00m\n\u001b[0;32m   3807\u001b[0m     \u001b[38;5;66;03m#  InvalidIndexError. Otherwise we fall through and re-raise\u001b[39;00m\n\u001b[0;32m   3808\u001b[0m     \u001b[38;5;66;03m#  the TypeError.\u001b[39;00m\n\u001b[0;32m   3809\u001b[0m     \u001b[38;5;28mself\u001b[39m\u001b[38;5;241m.\u001b[39m_check_indexing_error(key)\n",
      "\u001b[1;31mKeyError\u001b[0m: 'english'"
     ]
    }
   ],
   "source": [
    "# CAREFUL: takes time \n",
    "\n",
    "import spacy\n",
    "import amrlib\n",
    "amrlib.setup_spacy_extension()\n",
    "\n",
    "nlp = spacy.load('en_core_web_sm')\n",
    "\n",
    "\n",
    "#  save amr of english in column amr\n",
    "amr = []\n",
    "for text in df['english']:\n",
    "    doc = nlp(text)\n",
    "    graphs = doc._.to_amr()\n",
    "    amr.append(graphs)\n",
    "df['amr'] = amr\n",
    "print(len(amr),df.shape)"
   ]
  },
  {
   "cell_type": "code",
   "execution_count": 406,
   "metadata": {},
   "outputs": [
    {
     "data": {
      "text/html": [
       "<div>\n",
       "<style scoped>\n",
       "    .dataframe tbody tr th:only-of-type {\n",
       "        vertical-align: middle;\n",
       "    }\n",
       "\n",
       "    .dataframe tbody tr th {\n",
       "        vertical-align: top;\n",
       "    }\n",
       "\n",
       "    .dataframe thead th {\n",
       "        text-align: right;\n",
       "    }\n",
       "</style>\n",
       "<table border=\"1\" class=\"dataframe\">\n",
       "  <thead>\n",
       "    <tr style=\"text-align: right;\">\n",
       "      <th></th>\n",
       "      <th>sent-id</th>\n",
       "      <th>topic</th>\n",
       "      <th>phrase</th>\n",
       "      <th>phrase_number</th>\n",
       "      <th>genre</th>\n",
       "      <th>timestamp</th>\n",
       "      <th>user</th>\n",
       "      <th>phrase_tokenized</th>\n",
       "      <th>num_statements</th>\n",
       "      <th>statement_spans</th>\n",
       "      <th>english</th>\n",
       "      <th>amr</th>\n",
       "    </tr>\n",
       "  </thead>\n",
       "  <tbody>\n",
       "    <tr>\n",
       "      <th>0</th>\n",
       "      <td>10001025</td>\n",
       "      <td>aleppo</td>\n",
       "      <td>Im Jahr 1986 erklärte die UNESCO:\\newlineDie A...</td>\n",
       "      <td>12_long</td>\n",
       "      <td>Städte|Seiten_mit_defekten_Dateilinks</td>\n",
       "      <td>2016-09-26T14:57:00Z</td>\n",
       "      <td>7b5adf57ed2178795004f4c052333f37</td>\n",
       "      <td>0:=Im 1:=Jahr 2:=1986 3:=hat 4:=die 5:=UNESCO ...</td>\n",
       "      <td>4</td>\n",
       "      <td>[[0, 1, 2], [3, 5, 6], [9, 10, 11, 12, 14], [13]]</td>\n",
       "      <td>In 1986, UNESCO declared:\\newlineThe old town ...</td>\n",
       "      <td>[# ::snt In 1986, UNESCO declared:\\newlineThe ...</td>\n",
       "    </tr>\n",
       "    <tr>\n",
       "      <th>1</th>\n",
       "      <td>10001032</td>\n",
       "      <td>aleppo</td>\n",
       "      <td>Die größte Stadt in Syrien ist Damaskus.</td>\n",
       "      <td>2_short</td>\n",
       "      <td>Städte|Seiten_mit_defekten_Dateilinks</td>\n",
       "      <td>2016-09-26T14:57:00Z</td>\n",
       "      <td>7b5adf57ed2178795004f4c052333f37</td>\n",
       "      <td>0:=Die 1:=größte 2:=Stadt 3:=in 4:=Syrien 5:=i...</td>\n",
       "      <td>3</td>\n",
       "      <td>[[5, 6], [1], [3, 4]]</td>\n",
       "      <td>The largest city in Syria is Damascus.</td>\n",
       "      <td>[# ::snt The largest city in Syria is Damascus...</td>\n",
       "    </tr>\n",
       "    <tr>\n",
       "      <th>2</th>\n",
       "      <td>10001054</td>\n",
       "      <td>alexander-graham-bell</td>\n",
       "      <td>Er starb am 2. August 1922. \\newline in Baddec...</td>\n",
       "      <td>2_long</td>\n",
       "      <td>Personen|Seiten_mit_defekten_Dateilinks</td>\n",
       "      <td>2022-03-03T19:51:00Z</td>\n",
       "      <td>28d34f2e053dee2c0e9399a7924cd978</td>\n",
       "      <td>0:=Er 1:=stirbt 2:=am 3:=2. 4:=August 5:=1922....</td>\n",
       "      <td>3</td>\n",
       "      <td>[[2, 3, 4, 5], [7, 8], [9]]</td>\n",
       "      <td>He died on August 2, 1922. \\newline in Baddeck...</td>\n",
       "      <td>[# ::snt He died on August 2, 1922.\\n(d / die-...</td>\n",
       "    </tr>\n",
       "  </tbody>\n",
       "</table>\n",
       "</div>"
      ],
      "text/plain": [
       "    sent-id                  topic  \\\n",
       "0  10001025                 aleppo   \n",
       "1  10001032                 aleppo   \n",
       "2  10001054  alexander-graham-bell   \n",
       "\n",
       "                                              phrase phrase_number  \\\n",
       "0  Im Jahr 1986 erklärte die UNESCO:\\newlineDie A...       12_long   \n",
       "1           Die größte Stadt in Syrien ist Damaskus.       2_short   \n",
       "2  Er starb am 2. August 1922. \\newline in Baddec...        2_long   \n",
       "\n",
       "                                     genre             timestamp  \\\n",
       "0    Städte|Seiten_mit_defekten_Dateilinks  2016-09-26T14:57:00Z   \n",
       "1    Städte|Seiten_mit_defekten_Dateilinks  2016-09-26T14:57:00Z   \n",
       "2  Personen|Seiten_mit_defekten_Dateilinks  2022-03-03T19:51:00Z   \n",
       "\n",
       "                               user  \\\n",
       "0  7b5adf57ed2178795004f4c052333f37   \n",
       "1  7b5adf57ed2178795004f4c052333f37   \n",
       "2  28d34f2e053dee2c0e9399a7924cd978   \n",
       "\n",
       "                                    phrase_tokenized  num_statements  \\\n",
       "0  0:=Im 1:=Jahr 2:=1986 3:=hat 4:=die 5:=UNESCO ...               4   \n",
       "1  0:=Die 1:=größte 2:=Stadt 3:=in 4:=Syrien 5:=i...               3   \n",
       "2  0:=Er 1:=stirbt 2:=am 3:=2. 4:=August 5:=1922....               3   \n",
       "\n",
       "                                     statement_spans  \\\n",
       "0  [[0, 1, 2], [3, 5, 6], [9, 10, 11, 12, 14], [13]]   \n",
       "1                              [[5, 6], [1], [3, 4]]   \n",
       "2                        [[2, 3, 4, 5], [7, 8], [9]]   \n",
       "\n",
       "                                             english  \\\n",
       "0  In 1986, UNESCO declared:\\newlineThe old town ...   \n",
       "1             The largest city in Syria is Damascus.   \n",
       "2  He died on August 2, 1922. \\newline in Baddeck...   \n",
       "\n",
       "                                                 amr  \n",
       "0  [# ::snt In 1986, UNESCO declared:\\newlineThe ...  \n",
       "1  [# ::snt The largest city in Syria is Damascus...  \n",
       "2  [# ::snt He died on August 2, 1922.\\n(d / die-...  "
      ]
     },
     "execution_count": 406,
     "metadata": {},
     "output_type": "execute_result"
    }
   ],
   "source": [
    "df.head(3)"
   ]
  },
  {
   "cell_type": "code",
   "execution_count": 407,
   "metadata": {},
   "outputs": [],
   "source": [
    "df.to_csv(data_path_metrics + type + '_amr.csv')"
   ]
  },
  {
   "cell_type": "markdown",
   "metadata": {},
   "source": [
    "## write Prolog input "
   ]
  },
  {
   "cell_type": "markdown",
   "metadata": {},
   "source": [
    "Structure of AMRs:"
   ]
  },
  {
   "cell_type": "code",
   "execution_count": 455,
   "metadata": {},
   "outputs": [],
   "source": [
    "type = \"augmented\""
   ]
  },
  {
   "cell_type": "code",
   "execution_count": 456,
   "metadata": {},
   "outputs": [],
   "source": [
    "import pandas as pd\n",
    "df = pd.read_csv(data_path_metrics + type + '_amr.csv')"
   ]
  },
  {
   "cell_type": "code",
   "execution_count": 457,
   "metadata": {},
   "outputs": [
    {
     "name": "stdout",
     "output_type": "stream",
     "text": [
      "(1207, 19)\n",
      "(1207, 19)\n"
     ]
    }
   ],
   "source": [
    "# remove all rows with num-statements =0\n",
    "print(df.shape )\n",
    "df = df[df['num_statements'] > 0]\n",
    "print(df.shape )\n",
    "df.to_csv(data_path_metrics + type + '_amr.csv')"
   ]
  },
  {
   "cell_type": "code",
   "execution_count": 458,
   "metadata": {},
   "outputs": [
    {
     "name": "stdout",
     "output_type": "stream",
     "text": [
      "['# ::snt In 1986, UNESCO declared:\\\\newlineThe old town of Aleppo is now a World Heritage Site.\\n(d / declare-01\\n      :ARG0 (o / organization\\n            :name (n / name\\n                  :op1 \"UNESCO\"))\\n      :ARG2 (s / site\\n            :mod (h / heritage\\n                  :mod (w / world))\\n            :domain (t / town\\n                  :name (n2 / name\\n                        :op1 \"Aleppo\")\\n                  :mod (o2 / old))\\n            :time (n3 / now))\\n      :time (d2 / date-entity\\n            :year 1986)\\n      :mod (l / line\\n            :mod o2))']\n",
      "['# ::snt In 1986, UNESCO declared:\\\\newlineThe old town of Aleppo is now a World Heritage Site.\\n(d / declare-01\\n      :ARG0 (o / organization\\n            :name (n / name\\n                  :op1 \"UNESCO\"))\\n      :ARG2 (s / site\\n            :mod (h / heritage\\n                  :mod (w / world))\\n            :domain (t / town\\n                  :name (n2 / name\\n                        :op1 \"Aleppo\")\\n                  :mod (o2 / old))\\n            :time (n3 / now))\\n      :time (d2 / date-entity\\n            :year 1986)\\n      :mod (l / line\\n            :mod o2))']\n",
      "# ::snt In 1986, UNESCO declared:\\newlineThe old town of Aleppo is now a World Heritage Site.\n",
      "(d / declare-01\n",
      "      :ARG0 (o / organization\n",
      "            :name (n / name\n",
      "                  :op1 \"UNESCO\"))\n",
      "      :ARG2 (s / site\n",
      "            :mod (h / heritage\n",
      "                  :mod (w / world))\n",
      "            :domain (t / town\n",
      "                  :name (n2 / name\n",
      "                        :op1 \"Aleppo\")\n",
      "                  :mod (o2 / old))\n",
      "            :time (n3 / now))\n",
      "      :time (d2 / date-entity\n",
      "            :year 1986)\n",
      "      :mod (l / line\n",
      "            :mod o2))\n",
      "[d, attr-instance, declare_01, attr-arg0, [o, attr-instance, organization, attr-name, [n, attr-instance, name, attr-op1, \"unesco\"]], attr-arg2, [s, attr-instance, site, attr-mod, [h, attr-instance, heritage, attr-mod, [w, attr-instance, world]], attr-domain, [t, attr-instance, town, attr-name, [n2, attr-instance, name, attr-op1, \"aleppo\"], attr-mod, [o2, attr-instance, old]], attr-time, [n3, attr-instance, now]], attr-time, [d2, attr-instance, date_entity, attr-year, 1986], attr-mod, [l, attr-instance, line, attr-mod, o2]]\n"
     ]
    }
   ],
   "source": [
    "\n",
    "import ast\n",
    "t = df['amr'].loc[0]\n",
    "tt = ast.literal_eval(t)\n",
    "print(t)\n",
    "print(tt)\n",
    "print(tt[0])\n",
    "print(transform_graph(t))\n",
    "\n",
    "\n",
    "output = \"[a, attr-instance, alchemist, attr-domain, [p, attr-instance, person, attr-name, [n, attr-instance, name, attr-op1, \"\"mary\"\", attr-op2, \"\"the\"\", attr-op3, \"\"jewess\"\"], attr-arg1_of, [f, attr-instance, fame_01, attr-degree, [v, attr-instance, very]]]]\""
   ]
  },
  {
   "cell_type": "code",
   "execution_count": 459,
   "metadata": {},
   "outputs": [],
   "source": [
    "# transform amr graph to nested list for easier manipulation with Prolog\n",
    "# [t, :instance, test-01, :ARG1, [e, :instance, extend-01, :ARG1, [p, :instance, product, :name, [n, :instance, name, :op1, \"SpaCy\"]]], :domain, [t2, :instance, this]]\n",
    "# [t, [[:instance, test-01],[:ARG1, [ e, [:instance, extend-01], [:ARG1, [ p, [:instance, product], [:name, [ n, [:instance, name], [:op1, \"SpaCy\"]]]]]]], [:domain, [ t2, [:instance, this]]]]\n",
    "\n",
    "import ast\n",
    "\n",
    "def transform_graph(g):\n",
    "    # delete everything before (\n",
    "    # g = list(ast.literal{eval(g))\n",
    "    #print(str(ast.literal_eval(g)))\n",
    "    g = list(ast.literal_eval(g))\n",
    "    #print(g)\n",
    "    g = str(g[0].split('\\n(')[1:])\n",
    "    #print(g)\n",
    "    g = \"(\" + g \n",
    "    #print(g)\n",
    "    # take care of polarty\n",
    "    g = g.replace('polarity -', 'polarity negative')\n",
    "    g = g.replace('polarity +', 'polarity positive')\n",
    "    # remove . !  ? : ;\n",
    "    g = g.replace('.', '')\n",
    "    g = g.replace('!', '')\n",
    "    g = g.replace('?', '')\n",
    "    g = g.replace(': ', '')\n",
    "    g = g.replace(';', '')\n",
    "    g = g.replace(\"'\", '')\n",
    "    # replace every [ by \n",
    "    g = g.replace('[', '')\n",
    "    g = g.replace(']', '')    \n",
    "    # replace every / by :instance\n",
    "    g = g.replace('/', ':instance')\n",
    "    # replace \\n by ''\n",
    "    g = g.replace('\\newline','')\n",
    "    g = g.replace('\\\\n', '')\n",
    "    g = g.replace('\\\\', '')\n",
    "    g = g.strip()\n",
    "    # remove spaces by single space\n",
    "    g = ' '.join(g.split())\n",
    "    # transform to list\n",
    "    g = g.replace('(', '[')\n",
    "    g = g.replace(')', ']')\n",
    "    # replace ' ' by ','        \n",
    "    g = g.replace(' ', ', ')\n",
    "    g = g.replace('.', '!')\n",
    "    g = g.replace('-', '_')\n",
    "    # replace ':' by 'attr-'\n",
    "    g = g.replace(':', 'attr-')\n",
    "    g = g.replace(',,', ',')\n",
    "    # all to lower case\n",
    "    g = g.lower()\n",
    "    return g\n",
    "\n",
    "\n",
    "\n",
    "\n"
   ]
  },
  {
   "cell_type": "code",
   "execution_count": 460,
   "metadata": {},
   "outputs": [],
   "source": [
    "# in each row apply the function transform_graph to the graph in column amr and write the result in column amr_prolog\n",
    "# radikale Vereinfachung, wir nehmen immer nur den Graph des 1. Satzes.\n",
    "\n",
    "\n",
    "df['amr_prolog'] =[transform_graph(str(x)) for x in df[\"amr\"]]\n"
   ]
  },
  {
   "cell_type": "code",
   "execution_count": 461,
   "metadata": {},
   "outputs": [],
   "source": [
    "df['amr_length'] = [len(list(ast.literal_eval(g)))  for g in df[\"amr\"]]"
   ]
  },
  {
   "cell_type": "code",
   "execution_count": 462,
   "metadata": {},
   "outputs": [
    {
     "data": {
      "text/plain": [
       "2      3\n",
       "4      3\n",
       "6      3\n",
       "7      3\n",
       "8      4\n",
       "15     4\n",
       "16     4\n",
       "44     4\n",
       "96     3\n",
       "99     3\n",
       "157    3\n",
       "171    3\n",
       "172    3\n",
       "245    4\n",
       "263    3\n",
       "269    4\n",
       "418    2\n",
       "455    4\n",
       "615    2\n",
       "616    3\n",
       "624    3\n",
       "633    3\n",
       "848    2\n",
       "884    3\n",
       "885    2\n",
       "886    3\n",
       "887    2\n",
       "Name: num_statements, dtype: int64"
      ]
     },
     "execution_count": 462,
     "metadata": {},
     "output_type": "execute_result"
    }
   ],
   "source": [
    "df[df['amr_length'] != 1][\"num_statements\"] "
   ]
  },
  {
   "cell_type": "code",
   "execution_count": 463,
   "metadata": {},
   "outputs": [],
   "source": [
    "df_temp = df[['sent-id','amr_length']]\n",
    "df_temp.to_csv(data_path_temp + type + \"_temp_features.csv\")"
   ]
  },
  {
   "cell_type": "code",
   "execution_count": 464,
   "metadata": {},
   "outputs": [
    {
     "name": "stdout",
     "output_type": "stream",
     "text": [
      "(1207, 21)\n"
     ]
    },
    {
     "data": {
      "text/html": [
       "<div>\n",
       "<style scoped>\n",
       "    .dataframe tbody tr th:only-of-type {\n",
       "        vertical-align: middle;\n",
       "    }\n",
       "\n",
       "    .dataframe tbody tr th {\n",
       "        vertical-align: top;\n",
       "    }\n",
       "\n",
       "    .dataframe thead th {\n",
       "        text-align: right;\n",
       "    }\n",
       "</style>\n",
       "<table border=\"1\" class=\"dataframe\">\n",
       "  <thead>\n",
       "    <tr style=\"text-align: right;\">\n",
       "      <th></th>\n",
       "      <th>Unnamed: 0.6</th>\n",
       "      <th>Unnamed: 0.5</th>\n",
       "      <th>Unnamed: 0.4</th>\n",
       "      <th>Unnamed: 0.3</th>\n",
       "      <th>Unnamed: 0.2</th>\n",
       "      <th>Unnamed: 0.1</th>\n",
       "      <th>Unnamed: 0</th>\n",
       "      <th>sent-id</th>\n",
       "      <th>topic</th>\n",
       "      <th>phrase</th>\n",
       "      <th>...</th>\n",
       "      <th>genre</th>\n",
       "      <th>timestamp</th>\n",
       "      <th>user</th>\n",
       "      <th>phrase_tokenized</th>\n",
       "      <th>num_statements</th>\n",
       "      <th>statement_spans</th>\n",
       "      <th>english</th>\n",
       "      <th>amr</th>\n",
       "      <th>amr_prolog</th>\n",
       "      <th>amr_length</th>\n",
       "    </tr>\n",
       "  </thead>\n",
       "  <tbody>\n",
       "    <tr>\n",
       "      <th>0</th>\n",
       "      <td>0</td>\n",
       "      <td>0</td>\n",
       "      <td>0</td>\n",
       "      <td>0</td>\n",
       "      <td>0</td>\n",
       "      <td>0</td>\n",
       "      <td>0</td>\n",
       "      <td>10001025</td>\n",
       "      <td>aleppo</td>\n",
       "      <td>Im Jahr 1986 erklärte die UNESCO:\\newlineDie A...</td>\n",
       "      <td>...</td>\n",
       "      <td>Städte|Seiten_mit_defekten_Dateilinks</td>\n",
       "      <td>2016-09-26T14:57:00Z</td>\n",
       "      <td>7b5adf57ed2178795004f4c052333f37</td>\n",
       "      <td>0:=Im 1:=Jahr 2:=1986 3:=hat 4:=die 5:=UNESCO ...</td>\n",
       "      <td>4</td>\n",
       "      <td>[[0, 1, 2], [3, 5, 6], [9, 10, 11, 12, 14], [13]]</td>\n",
       "      <td>In 1986, UNESCO declared:\\newlineThe old town ...</td>\n",
       "      <td>['# ::snt In 1986, UNESCO declared:\\\\newlineTh...</td>\n",
       "      <td>[d, attr-instance, declare_01, attr-arg0, [o, ...</td>\n",
       "      <td>1</td>\n",
       "    </tr>\n",
       "    <tr>\n",
       "      <th>1</th>\n",
       "      <td>1</td>\n",
       "      <td>1</td>\n",
       "      <td>1</td>\n",
       "      <td>1</td>\n",
       "      <td>1</td>\n",
       "      <td>1</td>\n",
       "      <td>1</td>\n",
       "      <td>10001032</td>\n",
       "      <td>aleppo</td>\n",
       "      <td>Die größte Stadt in Syrien ist Damaskus.</td>\n",
       "      <td>...</td>\n",
       "      <td>Städte|Seiten_mit_defekten_Dateilinks</td>\n",
       "      <td>2016-09-26T14:57:00Z</td>\n",
       "      <td>7b5adf57ed2178795004f4c052333f37</td>\n",
       "      <td>0:=Die 1:=größte 2:=Stadt 3:=in 4:=Syrien 5:=i...</td>\n",
       "      <td>3</td>\n",
       "      <td>[[5, 6], [1], [3, 4]]</td>\n",
       "      <td>The largest city in Syria is Damascus.</td>\n",
       "      <td>['# ::snt The largest city in Syria is Damascu...</td>\n",
       "      <td>[h, attr-instance, have_degree_91, attr-arg1, ...</td>\n",
       "      <td>1</td>\n",
       "    </tr>\n",
       "  </tbody>\n",
       "</table>\n",
       "<p>2 rows × 21 columns</p>\n",
       "</div>"
      ],
      "text/plain": [
       "   Unnamed: 0.6  Unnamed: 0.5  Unnamed: 0.4  Unnamed: 0.3  Unnamed: 0.2  \\\n",
       "0             0             0             0             0             0   \n",
       "1             1             1             1             1             1   \n",
       "\n",
       "   Unnamed: 0.1  Unnamed: 0   sent-id   topic  \\\n",
       "0             0           0  10001025  aleppo   \n",
       "1             1           1  10001032  aleppo   \n",
       "\n",
       "                                              phrase  ...  \\\n",
       "0  Im Jahr 1986 erklärte die UNESCO:\\newlineDie A...  ...   \n",
       "1           Die größte Stadt in Syrien ist Damaskus.  ...   \n",
       "\n",
       "                                   genre             timestamp  \\\n",
       "0  Städte|Seiten_mit_defekten_Dateilinks  2016-09-26T14:57:00Z   \n",
       "1  Städte|Seiten_mit_defekten_Dateilinks  2016-09-26T14:57:00Z   \n",
       "\n",
       "                               user  \\\n",
       "0  7b5adf57ed2178795004f4c052333f37   \n",
       "1  7b5adf57ed2178795004f4c052333f37   \n",
       "\n",
       "                                    phrase_tokenized num_statements  \\\n",
       "0  0:=Im 1:=Jahr 2:=1986 3:=hat 4:=die 5:=UNESCO ...              4   \n",
       "1  0:=Die 1:=größte 2:=Stadt 3:=in 4:=Syrien 5:=i...              3   \n",
       "\n",
       "                                     statement_spans  \\\n",
       "0  [[0, 1, 2], [3, 5, 6], [9, 10, 11, 12, 14], [13]]   \n",
       "1                              [[5, 6], [1], [3, 4]]   \n",
       "\n",
       "                                             english  \\\n",
       "0  In 1986, UNESCO declared:\\newlineThe old town ...   \n",
       "1             The largest city in Syria is Damascus.   \n",
       "\n",
       "                                                 amr  \\\n",
       "0  ['# ::snt In 1986, UNESCO declared:\\\\newlineTh...   \n",
       "1  ['# ::snt The largest city in Syria is Damascu...   \n",
       "\n",
       "                                          amr_prolog amr_length  \n",
       "0  [d, attr-instance, declare_01, attr-arg0, [o, ...          1  \n",
       "1  [h, attr-instance, have_degree_91, attr-arg1, ...          1  \n",
       "\n",
       "[2 rows x 21 columns]"
      ]
     },
     "execution_count": 464,
     "metadata": {},
     "output_type": "execute_result"
    }
   ],
   "source": [
    "\n",
    "print(df.shape)\n",
    "df.head(2)"
   ]
  },
  {
   "cell_type": "code",
   "execution_count": 465,
   "metadata": {},
   "outputs": [],
   "source": [
    "# write file . for each row in the dataframe write \"ex(\",row[\"sent-id\"], \",\", row[\"amr\"], \").\\n\" to the file\n",
    "with open(data_path_prolog + type + '_for_prolog_amr.pl', 'w') as f:\n",
    "    for index, row in df.iterrows():\n",
    "        f.write(\"ex(\"+str(row[\"sent-id\"]) + \", \"+ row[\"amr_prolog\"] + \").\\n\")\n",
    "          \n",
    "\n",
    "\n"
   ]
  },
  {
   "cell_type": "code",
   "execution_count": 466,
   "metadata": {},
   "outputs": [
    {
     "data": {
      "text/plain": [
       "'augmented'"
      ]
     },
     "execution_count": 466,
     "metadata": {},
     "output_type": "execute_result"
    }
   ],
   "source": [
    "type"
   ]
  },
  {
   "cell_type": "markdown",
   "metadata": {},
   "source": [
    "Run transform_all from Prolog file amr.pl. In line 1 set type to recent type.  "
   ]
  },
  {
   "cell_type": "markdown",
   "metadata": {},
   "source": [
    "## Take Prolog output and compute feature matrix"
   ]
  },
  {
   "cell_type": "markdown",
   "metadata": {},
   "source": [
    "Needs file features_train.txt / features_test.txt written by Prolog file amr.pl."
   ]
  },
  {
   "cell_type": "code",
   "execution_count": 68,
   "metadata": {},
   "outputs": [],
   "source": [
    "# read the file with the features. The file has the following line format: SentId; feature1, feature2, feature3, ...\n",
    "\n",
    "def read_features_from_file(file):\n",
    "    features = {}\n",
    "    with open(file) as f:\n",
    "        for line in f:\n",
    "            # remove all spaces\n",
    "            line = line.replace(\" \", \"\")\n",
    "            #line = line.replace(\"\\n\", \"\")\n",
    "            line = line.strip()\n",
    "            if \";\" in line:\n",
    "                id = line.split(\";\")[0]\n",
    "                feat = line.split(\";\")[1]\n",
    "                if \",\" in feat:\n",
    "                    feature_list = feat.split(\",\")\n",
    "                    features[id] = feature_list\n",
    "                else: \n",
    "                    print(\"Error\")\n",
    "            else:\n",
    "#                print(\"Error\")\n",
    "                print(line)\n",
    "    return features\n"
   ]
  },
  {
   "cell_type": "code",
   "execution_count": 69,
   "metadata": {},
   "outputs": [],
   "source": [
    "# generate feature matrix\n",
    "\n",
    "def make_feature_matrix(features):\n",
    "    formatted_data = []\n",
    "    for key, value in features.items():\n",
    "        for feature in value:\n",
    "            formatted_data.append({'sent-id': key, 'Feature': feature})\n",
    "    formatted_df = pd.DataFrame(formatted_data)\n",
    "    formatted_df = formatted_df.drop_duplicates(subset=['sent-id', 'Feature'])\n",
    "    # Pivotiere das DataFrame, um die Merkmalsmatrix zu erstellen\n",
    "    feature_matrix = formatted_df.pivot_table(index='sent-id', columns='Feature', aggfunc=len, fill_value=0)\n",
    "    \n",
    "    # Optional: Spaltennamen anpassen\n",
    "    feature_matrix.columns.name = None\n",
    "    feature_matrix.reset_index(inplace=True)\n",
    "    return feature_matrix\n",
    "\n",
    "\n"
   ]
  },
  {
   "cell_type": "code",
   "execution_count": 70,
   "metadata": {},
   "outputs": [
    {
     "name": "stdout",
     "output_type": "stream",
     "text": [
      "1207\n",
      "(1207, 9805)\n",
      "augmented\n"
     ]
    }
   ],
   "source": [
    "#type = \"test\"\n",
    "\n",
    "file = data_path_prolog + 'features_' + type + '.txt'\n",
    "features = read_features_from_file(file)\n",
    "print(len(features))\n",
    "feature_matrix = make_feature_matrix(features)\n",
    "print(feature_matrix.shape)\n",
    "print(type)"
   ]
  },
  {
   "cell_type": "code",
   "execution_count": 71,
   "metadata": {},
   "outputs": [
    {
     "name": "stdout",
     "output_type": "stream",
     "text": [
      "(1207, 9806)\n"
     ]
    },
    {
     "data": {
      "text/html": [
       "<div>\n",
       "<style scoped>\n",
       "    .dataframe tbody tr th:only-of-type {\n",
       "        vertical-align: middle;\n",
       "    }\n",
       "\n",
       "    .dataframe tbody tr th {\n",
       "        vertical-align: top;\n",
       "    }\n",
       "\n",
       "    .dataframe thead th {\n",
       "        text-align: right;\n",
       "    }\n",
       "</style>\n",
       "<table border=\"1\" class=\"dataframe\">\n",
       "  <thead>\n",
       "    <tr style=\"text-align: right;\">\n",
       "      <th></th>\n",
       "      <th>sent-id</th>\n",
       "      <th></th>\n",
       "      <th>attr-(mod):</th>\n",
       "      <th>attr-(mod):attr-(mod):</th>\n",
       "      <th>attr-(mod):attr-(mod):attr-instance:</th>\n",
       "      <th>attr-(mod):attr-(mod):attr-instance:card</th>\n",
       "      <th>attr-(mod):attr-(mod):attr-instance:newline</th>\n",
       "      <th>attr-(mod):attr-(mod):attr-instance:old</th>\n",
       "      <th>attr-(mod):attr-degree:</th>\n",
       "      <th>attr-(mod):attr-degree:attr-instance:</th>\n",
       "      <th>...</th>\n",
       "      <th>bowie</th>\n",
       "      <th>cryptocurrency</th>\n",
       "      <th>ewline</th>\n",
       "      <th>gdpr</th>\n",
       "      <th>hebdo</th>\n",
       "      <th>paddock</th>\n",
       "      <th>pin</th>\n",
       "      <th>procedure</th>\n",
       "      <th>winter</th>\n",
       "      <th>label</th>\n",
       "    </tr>\n",
       "  </thead>\n",
       "  <tbody>\n",
       "    <tr>\n",
       "      <th>0</th>\n",
       "      <td>1000040</td>\n",
       "      <td>1</td>\n",
       "      <td>0</td>\n",
       "      <td>0</td>\n",
       "      <td>0</td>\n",
       "      <td>0</td>\n",
       "      <td>0</td>\n",
       "      <td>0</td>\n",
       "      <td>0</td>\n",
       "      <td>0</td>\n",
       "      <td>...</td>\n",
       "      <td>0</td>\n",
       "      <td>0</td>\n",
       "      <td>0</td>\n",
       "      <td>0</td>\n",
       "      <td>0</td>\n",
       "      <td>0</td>\n",
       "      <td>0</td>\n",
       "      <td>0</td>\n",
       "      <td>0</td>\n",
       "      <td>2</td>\n",
       "    </tr>\n",
       "    <tr>\n",
       "      <th>1</th>\n",
       "      <td>10001025</td>\n",
       "      <td>1</td>\n",
       "      <td>1</td>\n",
       "      <td>1</td>\n",
       "      <td>1</td>\n",
       "      <td>0</td>\n",
       "      <td>0</td>\n",
       "      <td>1</td>\n",
       "      <td>0</td>\n",
       "      <td>0</td>\n",
       "      <td>...</td>\n",
       "      <td>0</td>\n",
       "      <td>0</td>\n",
       "      <td>0</td>\n",
       "      <td>0</td>\n",
       "      <td>0</td>\n",
       "      <td>0</td>\n",
       "      <td>0</td>\n",
       "      <td>0</td>\n",
       "      <td>0</td>\n",
       "      <td>4</td>\n",
       "    </tr>\n",
       "    <tr>\n",
       "      <th>2</th>\n",
       "      <td>10001032</td>\n",
       "      <td>1</td>\n",
       "      <td>0</td>\n",
       "      <td>0</td>\n",
       "      <td>0</td>\n",
       "      <td>0</td>\n",
       "      <td>0</td>\n",
       "      <td>0</td>\n",
       "      <td>0</td>\n",
       "      <td>0</td>\n",
       "      <td>...</td>\n",
       "      <td>0</td>\n",
       "      <td>0</td>\n",
       "      <td>0</td>\n",
       "      <td>0</td>\n",
       "      <td>0</td>\n",
       "      <td>0</td>\n",
       "      <td>0</td>\n",
       "      <td>0</td>\n",
       "      <td>0</td>\n",
       "      <td>3</td>\n",
       "    </tr>\n",
       "  </tbody>\n",
       "</table>\n",
       "<p>3 rows × 9806 columns</p>\n",
       "</div>"
      ],
      "text/plain": [
       "    sent-id     attr-(mod):  attr-(mod):attr-(mod):  \\\n",
       "0   1000040  1            0                       0   \n",
       "1  10001025  1            1                       1   \n",
       "2  10001032  1            0                       0   \n",
       "\n",
       "   attr-(mod):attr-(mod):attr-instance:  \\\n",
       "0                                     0   \n",
       "1                                     1   \n",
       "2                                     0   \n",
       "\n",
       "   attr-(mod):attr-(mod):attr-instance:card  \\\n",
       "0                                         0   \n",
       "1                                         0   \n",
       "2                                         0   \n",
       "\n",
       "   attr-(mod):attr-(mod):attr-instance:newline  \\\n",
       "0                                            0   \n",
       "1                                            0   \n",
       "2                                            0   \n",
       "\n",
       "   attr-(mod):attr-(mod):attr-instance:old  attr-(mod):attr-degree:  \\\n",
       "0                                        0                        0   \n",
       "1                                        1                        0   \n",
       "2                                        0                        0   \n",
       "\n",
       "   attr-(mod):attr-degree:attr-instance:  ...  bowie  cryptocurrency  ewline  \\\n",
       "0                                      0  ...      0               0       0   \n",
       "1                                      0  ...      0               0       0   \n",
       "2                                      0  ...      0               0       0   \n",
       "\n",
       "   gdpr  hebdo  paddock  pin  procedure  winter  label  \n",
       "0     0      0        0    0          0       0      2  \n",
       "1     0      0        0    0          0       0      4  \n",
       "2     0      0        0    0          0       0      3  \n",
       "\n",
       "[3 rows x 9806 columns]"
      ]
     },
     "execution_count": 71,
     "metadata": {},
     "output_type": "execute_result"
    }
   ],
   "source": [
    "# feature matrix with labels\n",
    "\n",
    "# read df from csv\n",
    "df = pd.read_csv(data_path_metrics + type + '_amr.csv')\n",
    "df[\"sent-id\"] =df[\"sent-id\"].astype(str)\n",
    "# add labels to feature_matrix from df\n",
    "feature_matrix = feature_matrix.merge(df[['sent-id','num_statements']], on='sent-id')\n",
    "feature_matrix.rename(columns={'num_statements':'label'}, inplace=True)\n",
    "print(feature_matrix.shape)\n",
    "feature_matrix.head(3)"
   ]
  },
  {
   "cell_type": "code",
   "execution_count": 72,
   "metadata": {},
   "outputs": [],
   "source": [
    "# save the feature matrix to a csv file\n",
    "if type == \"train\":\n",
    "    feature_matrix.to_csv(data_path_metrics + type + '_amr_feature_matrix.csv',index=False)\n",
    "if type == \"test\" or type == \"augmented\": # test and augmented data get the features from train data\n",
    "    # read the columns feature matrix from the train data\n",
    "    cols = pd.read_csv(data_path_metrics + 'train_amr_feature_matrix.csv').columns\n",
    "    # feature_matrix with the same columns as the train feature matrix. Fill NaN with 0\n",
    "    feature_matrix = feature_matrix.reindex(columns=cols, fill_value=0)\n",
    "    feature_matrix.to_csv(data_path_metrics + type + '_amr_feature_matrix.csv',index=False)\n"
   ]
  },
  {
   "cell_type": "markdown",
   "metadata": {},
   "source": [
    "# Dependency trees"
   ]
  },
  {
   "cell_type": "code",
   "execution_count": 73,
   "metadata": {},
   "outputs": [
    {
     "name": "stderr",
     "output_type": "stream",
     "text": [
      "Traceback (most recent call last):\n",
      "  File \"c:\\Users\\Wiebke Petersen\\anaconda3\\Lib\\site-packages\\urllib3\\connection.py\", line 174, in _new_conn\n",
      "    conn = connection.create_connection(\n",
      "           ^^^^^^^^^^^^^^^^^^^^^^^^^^^^^\n",
      "  File \"c:\\Users\\Wiebke Petersen\\anaconda3\\Lib\\site-packages\\urllib3\\util\\connection.py\", line 72, in create_connection\n",
      "    for res in socket.getaddrinfo(host, port, family, socket.SOCK_STREAM):\n",
      "               ^^^^^^^^^^^^^^^^^^^^^^^^^^^^^^^^^^^^^^^^^^^^^^^^^^^^^^^^^^\n",
      "  File \"c:\\Users\\Wiebke Petersen\\anaconda3\\Lib\\socket.py\", line 962, in getaddrinfo\n",
      "    for res in _socket.getaddrinfo(host, port, family, type, proto, flags):\n",
      "               ^^^^^^^^^^^^^^^^^^^^^^^^^^^^^^^^^^^^^^^^^^^^^^^^^^^^^^^^^^^\n",
      "socket.gaierror: [Errno 11001] getaddrinfo failed\n",
      "\n",
      "During handling of the above exception, another exception occurred:\n",
      "\n",
      "Traceback (most recent call last):\n",
      "  File \"c:\\Users\\Wiebke Petersen\\anaconda3\\Lib\\site-packages\\urllib3\\connectionpool.py\", line 714, in urlopen\n",
      "    httplib_response = self._make_request(\n",
      "                       ^^^^^^^^^^^^^^^^^^^\n",
      "  File \"c:\\Users\\Wiebke Petersen\\anaconda3\\Lib\\site-packages\\urllib3\\connectionpool.py\", line 403, in _make_request\n",
      "    self._validate_conn(conn)\n",
      "  File \"c:\\Users\\Wiebke Petersen\\anaconda3\\Lib\\site-packages\\urllib3\\connectionpool.py\", line 1053, in _validate_conn\n",
      "    conn.connect()\n",
      "  File \"c:\\Users\\Wiebke Petersen\\anaconda3\\Lib\\site-packages\\urllib3\\connection.py\", line 363, in connect\n",
      "    self.sock = conn = self._new_conn()\n",
      "                       ^^^^^^^^^^^^^^^^\n",
      "  File \"c:\\Users\\Wiebke Petersen\\anaconda3\\Lib\\site-packages\\urllib3\\connection.py\", line 186, in _new_conn\n",
      "    raise NewConnectionError(\n",
      "urllib3.exceptions.NewConnectionError: <urllib3.connection.HTTPSConnection object at 0x0000026FC68F7810>: Failed to establish a new connection: [Errno 11001] getaddrinfo failed\n",
      "\n",
      "During handling of the above exception, another exception occurred:\n",
      "\n",
      "Traceback (most recent call last):\n",
      "  File \"c:\\Users\\Wiebke Petersen\\anaconda3\\Lib\\site-packages\\requests\\adapters.py\", line 486, in send\n",
      "    resp = conn.urlopen(\n",
      "           ^^^^^^^^^^^^^\n",
      "  File \"c:\\Users\\Wiebke Petersen\\anaconda3\\Lib\\site-packages\\urllib3\\connectionpool.py\", line 798, in urlopen\n",
      "    retries = retries.increment(\n",
      "              ^^^^^^^^^^^^^^^^^^\n",
      "  File \"c:\\Users\\Wiebke Petersen\\anaconda3\\Lib\\site-packages\\urllib3\\util\\retry.py\", line 592, in increment\n",
      "    raise MaxRetryError(_pool, url, error or ResponseError(cause))\n",
      "urllib3.exceptions.MaxRetryError: HTTPSConnectionPool(host='raw.githubusercontent.com', port=443): Max retries exceeded with url: /explosion/spacy-models/master/compatibility.json (Caused by NewConnectionError('<urllib3.connection.HTTPSConnection object at 0x0000026FC68F7810>: Failed to establish a new connection: [Errno 11001] getaddrinfo failed'))\n",
      "\n",
      "During handling of the above exception, another exception occurred:\n",
      "\n",
      "Traceback (most recent call last):\n",
      "  File \"<frozen runpy>\", line 198, in _run_module_as_main\n",
      "  File \"<frozen runpy>\", line 88, in _run_code\n",
      "  File \"c:\\Users\\Wiebke Petersen\\anaconda3\\Lib\\site-packages\\spacy\\__main__.py\", line 4, in <module>\n",
      "    setup_cli()\n",
      "  File \"c:\\Users\\Wiebke Petersen\\anaconda3\\Lib\\site-packages\\spacy\\cli\\_util.py\", line 87, in setup_cli\n",
      "    command(prog_name=COMMAND)\n",
      "  File \"c:\\Users\\Wiebke Petersen\\anaconda3\\Lib\\site-packages\\click\\core.py\", line 1128, in __call__\n",
      "    return self.main(*args, **kwargs)\n",
      "           ^^^^^^^^^^^^^^^^^^^^^^^^^^\n",
      "  File \"c:\\Users\\Wiebke Petersen\\anaconda3\\Lib\\site-packages\\typer\\core.py\", line 783, in main\n",
      "    return _main(\n",
      "           ^^^^^^\n",
      "  File \"c:\\Users\\Wiebke Petersen\\anaconda3\\Lib\\site-packages\\typer\\core.py\", line 225, in _main\n",
      "    rv = self.invoke(ctx)\n",
      "         ^^^^^^^^^^^^^^^^\n",
      "  File \"c:\\Users\\Wiebke Petersen\\anaconda3\\Lib\\site-packages\\click\\core.py\", line 1659, in invoke\n",
      "    return _process_result(sub_ctx.command.invoke(sub_ctx))\n",
      "                           ^^^^^^^^^^^^^^^^^^^^^^^^^^^^^^^\n",
      "  File \"c:\\Users\\Wiebke Petersen\\anaconda3\\Lib\\site-packages\\click\\core.py\", line 1395, in invoke\n",
      "    return ctx.invoke(self.callback, **ctx.params)\n",
      "           ^^^^^^^^^^^^^^^^^^^^^^^^^^^^^^^^^^^^^^^\n",
      "  File \"c:\\Users\\Wiebke Petersen\\anaconda3\\Lib\\site-packages\\click\\core.py\", line 754, in invoke\n",
      "    return __callback(*args, **kwargs)\n",
      "           ^^^^^^^^^^^^^^^^^^^^^^^^^^^\n",
      "  File \"c:\\Users\\Wiebke Petersen\\anaconda3\\Lib\\site-packages\\typer\\main.py\", line 683, in wrapper\n",
      "    return callback(**use_params)  # type: ignore\n",
      "           ^^^^^^^^^^^^^^^^^^^^^^\n",
      "  File \"c:\\Users\\Wiebke Petersen\\anaconda3\\Lib\\site-packages\\spacy\\cli\\download.py\", line 44, in download_cli\n",
      "    download(model, direct, sdist, *ctx.args)\n",
      "  File \"c:\\Users\\Wiebke Petersen\\anaconda3\\Lib\\site-packages\\spacy\\cli\\download.py\", line 85, in download\n",
      "    compatibility = get_compatibility()\n",
      "                    ^^^^^^^^^^^^^^^^^^^\n",
      "  File \"c:\\Users\\Wiebke Petersen\\anaconda3\\Lib\\site-packages\\spacy\\cli\\download.py\", line 130, in get_compatibility\n",
      "    r = requests.get(about.__compatibility__)\n",
      "        ^^^^^^^^^^^^^^^^^^^^^^^^^^^^^^^^^^^^^\n",
      "  File \"c:\\Users\\Wiebke Petersen\\anaconda3\\Lib\\site-packages\\requests\\api.py\", line 73, in get\n",
      "    return request(\"get\", url, params=params, **kwargs)\n",
      "           ^^^^^^^^^^^^^^^^^^^^^^^^^^^^^^^^^^^^^^^^^^^^\n",
      "  File \"c:\\Users\\Wiebke Petersen\\anaconda3\\Lib\\site-packages\\requests\\api.py\", line 59, in request\n",
      "    return session.request(method=method, url=url, **kwargs)\n",
      "           ^^^^^^^^^^^^^^^^^^^^^^^^^^^^^^^^^^^^^^^^^^^^^^^^^\n",
      "  File \"c:\\Users\\Wiebke Petersen\\anaconda3\\Lib\\site-packages\\requests\\sessions.py\", line 589, in request\n",
      "    resp = self.send(prep, **send_kwargs)\n",
      "           ^^^^^^^^^^^^^^^^^^^^^^^^^^^^^^\n",
      "  File \"c:\\Users\\Wiebke Petersen\\anaconda3\\Lib\\site-packages\\requests\\sessions.py\", line 703, in send\n",
      "    r = adapter.send(request, **kwargs)\n",
      "        ^^^^^^^^^^^^^^^^^^^^^^^^^^^^^^^\n",
      "  File \"c:\\Users\\Wiebke Petersen\\anaconda3\\Lib\\site-packages\\requests\\adapters.py\", line 519, in send\n",
      "    raise ConnectionError(e, request=request)\n",
      "requests.exceptions.ConnectionError: HTTPSConnectionPool(host='raw.githubusercontent.com', port=443): Max retries exceeded with url: /explosion/spacy-models/master/compatibility.json (Caused by NewConnectionError('<urllib3.connection.HTTPSConnection object at 0x0000026FC68F7810>: Failed to establish a new connection: [Errno 11001] getaddrinfo failed'))\n"
     ]
    }
   ],
   "source": [
    "!python -m spacy download de_core_news_sm\n"
   ]
  },
  {
   "cell_type": "markdown",
   "metadata": {},
   "source": [
    "## Read in data and write file for Prolog"
   ]
  },
  {
   "cell_type": "code",
   "execution_count": 74,
   "metadata": {},
   "outputs": [],
   "source": [
    "# print token(token.head.idx, token.head.text, token.dep_, token.idx, token.text,  token.pos_)\n",
    "def output_to_prolog_argument(f,id, doc):\n",
    "    for token in doc:\n",
    "        f.write(\"item(\" + str(id) + \", token(\" + str(token.head.idx)  + \n",
    "                \", '\" + token.head.text + \"', '\" + token.dep_ + \"', \" + \n",
    "                str(token.idx) + \", '\" + token.text + \"', '\" +  token.pos_ + \"')).\\n\")\n",
    "    return\n",
    "\n",
    "\n"
   ]
  },
  {
   "cell_type": "code",
   "execution_count": 75,
   "metadata": {},
   "outputs": [
    {
     "name": "stdout",
     "output_type": "stream",
     "text": [
      "(1207, 19)\n"
     ]
    },
    {
     "data": {
      "text/html": [
       "<div>\n",
       "<style scoped>\n",
       "    .dataframe tbody tr th:only-of-type {\n",
       "        vertical-align: middle;\n",
       "    }\n",
       "\n",
       "    .dataframe tbody tr th {\n",
       "        vertical-align: top;\n",
       "    }\n",
       "\n",
       "    .dataframe thead th {\n",
       "        text-align: right;\n",
       "    }\n",
       "</style>\n",
       "<table border=\"1\" class=\"dataframe\">\n",
       "  <thead>\n",
       "    <tr style=\"text-align: right;\">\n",
       "      <th></th>\n",
       "      <th>Unnamed: 0.6</th>\n",
       "      <th>Unnamed: 0.5</th>\n",
       "      <th>Unnamed: 0.4</th>\n",
       "      <th>Unnamed: 0.3</th>\n",
       "      <th>Unnamed: 0.2</th>\n",
       "      <th>Unnamed: 0.1</th>\n",
       "      <th>Unnamed: 0</th>\n",
       "      <th>sent-id</th>\n",
       "      <th>topic</th>\n",
       "      <th>phrase</th>\n",
       "      <th>phrase_number</th>\n",
       "      <th>genre</th>\n",
       "      <th>timestamp</th>\n",
       "      <th>user</th>\n",
       "      <th>phrase_tokenized</th>\n",
       "      <th>num_statements</th>\n",
       "      <th>statement_spans</th>\n",
       "      <th>english</th>\n",
       "      <th>amr</th>\n",
       "    </tr>\n",
       "  </thead>\n",
       "  <tbody>\n",
       "    <tr>\n",
       "      <th>0</th>\n",
       "      <td>0</td>\n",
       "      <td>0</td>\n",
       "      <td>0</td>\n",
       "      <td>0</td>\n",
       "      <td>0</td>\n",
       "      <td>0</td>\n",
       "      <td>0</td>\n",
       "      <td>10001025</td>\n",
       "      <td>aleppo</td>\n",
       "      <td>Im Jahr 1986 erklärte die UNESCO:\\newlineDie A...</td>\n",
       "      <td>12_long</td>\n",
       "      <td>Städte|Seiten_mit_defekten_Dateilinks</td>\n",
       "      <td>2016-09-26T14:57:00Z</td>\n",
       "      <td>7b5adf57ed2178795004f4c052333f37</td>\n",
       "      <td>0:=Im 1:=Jahr 2:=1986 3:=hat 4:=die 5:=UNESCO ...</td>\n",
       "      <td>4</td>\n",
       "      <td>[[0, 1, 2], [3, 5, 6], [9, 10, 11, 12, 14], [13]]</td>\n",
       "      <td>In 1986, UNESCO declared:\\newlineThe old town ...</td>\n",
       "      <td>['# ::snt In 1986, UNESCO declared:\\\\newlineTh...</td>\n",
       "    </tr>\n",
       "    <tr>\n",
       "      <th>1</th>\n",
       "      <td>1</td>\n",
       "      <td>1</td>\n",
       "      <td>1</td>\n",
       "      <td>1</td>\n",
       "      <td>1</td>\n",
       "      <td>1</td>\n",
       "      <td>1</td>\n",
       "      <td>10001032</td>\n",
       "      <td>aleppo</td>\n",
       "      <td>Die größte Stadt in Syrien ist Damaskus.</td>\n",
       "      <td>2_short</td>\n",
       "      <td>Städte|Seiten_mit_defekten_Dateilinks</td>\n",
       "      <td>2016-09-26T14:57:00Z</td>\n",
       "      <td>7b5adf57ed2178795004f4c052333f37</td>\n",
       "      <td>0:=Die 1:=größte 2:=Stadt 3:=in 4:=Syrien 5:=i...</td>\n",
       "      <td>3</td>\n",
       "      <td>[[5, 6], [1], [3, 4]]</td>\n",
       "      <td>The largest city in Syria is Damascus.</td>\n",
       "      <td>['# ::snt The largest city in Syria is Damascu...</td>\n",
       "    </tr>\n",
       "    <tr>\n",
       "      <th>2</th>\n",
       "      <td>2</td>\n",
       "      <td>2</td>\n",
       "      <td>2</td>\n",
       "      <td>2</td>\n",
       "      <td>2</td>\n",
       "      <td>2</td>\n",
       "      <td>2</td>\n",
       "      <td>10001054</td>\n",
       "      <td>alexander-graham-bell</td>\n",
       "      <td>Er starb am 2. August 1922. \\newline in Baddec...</td>\n",
       "      <td>2_long</td>\n",
       "      <td>Personen|Seiten_mit_defekten_Dateilinks</td>\n",
       "      <td>2022-03-03T19:51:00Z</td>\n",
       "      <td>28d34f2e053dee2c0e9399a7924cd978</td>\n",
       "      <td>0:=Er 1:=stirbt 2:=am 3:=2. 4:=August 5:=1922....</td>\n",
       "      <td>3</td>\n",
       "      <td>[[2, 3, 4, 5], [7, 8], [9]]</td>\n",
       "      <td>He died on August 2, 1922. \\newline in Baddeck...</td>\n",
       "      <td>['# ::snt He died on August 2, 1922.\\n(d / die...</td>\n",
       "    </tr>\n",
       "  </tbody>\n",
       "</table>\n",
       "</div>"
      ],
      "text/plain": [
       "   Unnamed: 0.6  Unnamed: 0.5  Unnamed: 0.4  Unnamed: 0.3  Unnamed: 0.2  \\\n",
       "0             0             0             0             0             0   \n",
       "1             1             1             1             1             1   \n",
       "2             2             2             2             2             2   \n",
       "\n",
       "   Unnamed: 0.1  Unnamed: 0   sent-id                  topic  \\\n",
       "0             0           0  10001025                 aleppo   \n",
       "1             1           1  10001032                 aleppo   \n",
       "2             2           2  10001054  alexander-graham-bell   \n",
       "\n",
       "                                              phrase phrase_number  \\\n",
       "0  Im Jahr 1986 erklärte die UNESCO:\\newlineDie A...       12_long   \n",
       "1           Die größte Stadt in Syrien ist Damaskus.       2_short   \n",
       "2  Er starb am 2. August 1922. \\newline in Baddec...        2_long   \n",
       "\n",
       "                                     genre             timestamp  \\\n",
       "0    Städte|Seiten_mit_defekten_Dateilinks  2016-09-26T14:57:00Z   \n",
       "1    Städte|Seiten_mit_defekten_Dateilinks  2016-09-26T14:57:00Z   \n",
       "2  Personen|Seiten_mit_defekten_Dateilinks  2022-03-03T19:51:00Z   \n",
       "\n",
       "                               user  \\\n",
       "0  7b5adf57ed2178795004f4c052333f37   \n",
       "1  7b5adf57ed2178795004f4c052333f37   \n",
       "2  28d34f2e053dee2c0e9399a7924cd978   \n",
       "\n",
       "                                    phrase_tokenized  num_statements  \\\n",
       "0  0:=Im 1:=Jahr 2:=1986 3:=hat 4:=die 5:=UNESCO ...               4   \n",
       "1  0:=Die 1:=größte 2:=Stadt 3:=in 4:=Syrien 5:=i...               3   \n",
       "2  0:=Er 1:=stirbt 2:=am 3:=2. 4:=August 5:=1922....               3   \n",
       "\n",
       "                                     statement_spans  \\\n",
       "0  [[0, 1, 2], [3, 5, 6], [9, 10, 11, 12, 14], [13]]   \n",
       "1                              [[5, 6], [1], [3, 4]]   \n",
       "2                        [[2, 3, 4, 5], [7, 8], [9]]   \n",
       "\n",
       "                                             english  \\\n",
       "0  In 1986, UNESCO declared:\\newlineThe old town ...   \n",
       "1             The largest city in Syria is Damascus.   \n",
       "2  He died on August 2, 1922. \\newline in Baddeck...   \n",
       "\n",
       "                                                 amr  \n",
       "0  ['# ::snt In 1986, UNESCO declared:\\\\newlineTh...  \n",
       "1  ['# ::snt The largest city in Syria is Damascu...  \n",
       "2  ['# ::snt He died on August 2, 1922.\\n(d / die...  "
      ]
     },
     "execution_count": 75,
     "metadata": {},
     "output_type": "execute_result"
    }
   ],
   "source": [
    "\n",
    "# read\n",
    "df = pd.read_csv(data_path_metrics + type + '_amr.csv')\n",
    "print(df.shape)\n",
    "df.head(3) "
   ]
  },
  {
   "cell_type": "code",
   "execution_count": 76,
   "metadata": {},
   "outputs": [],
   "source": [
    "# writes Prolog file\n",
    "\n",
    "with open(data_path_prolog + type + '_prolog_deptree.pl', 'w') as f:\n",
    "    for index, row in df.iterrows():\n",
    "        t = row['phrase']\n",
    "        t = t.replace(\"'\", \"\")\n",
    "        doc = nlp(t)\n",
    "        # apply function output_to_prolog_argument to the sentence and write the result to the file\n",
    "        output_to_prolog_argument(f,row['sent-id'], doc)\n",
    "\n",
    "\n",
    "\n"
   ]
  },
  {
   "cell_type": "markdown",
   "metadata": {},
   "source": [
    "Run depTree from Prolog file dep_tree.pl. Set type to train or test."
   ]
  },
  {
   "cell_type": "markdown",
   "metadata": {},
   "source": [
    "## Prolog output to feature matrix"
   ]
  },
  {
   "cell_type": "markdown",
   "metadata": {},
   "source": [
    "Requires file depTree_features_train.txt / depTree_features_test.txt written by dep_tree.pl."
   ]
  },
  {
   "cell_type": "code",
   "execution_count": 81,
   "metadata": {},
   "outputs": [
    {
     "name": "stdout",
     "output_type": "stream",
     "text": [
      "1207\n",
      "(1207, 2456)\n",
      "augmented\n"
     ]
    }
   ],
   "source": [
    "\n",
    "features =read_features_from_file(data_path_prolog + \"depTree_features_\" + type + \".txt\")\n",
    "print(len(features))\n",
    "feature_matrix = make_feature_matrix(features)\n",
    "print(feature_matrix.shape)\n",
    "print(type)\n"
   ]
  },
  {
   "cell_type": "code",
   "execution_count": 82,
   "metadata": {},
   "outputs": [
    {
     "name": "stdout",
     "output_type": "stream",
     "text": [
      "(1207, 2457)\n"
     ]
    },
    {
     "data": {
      "text/html": [
       "<div>\n",
       "<style scoped>\n",
       "    .dataframe tbody tr th:only-of-type {\n",
       "        vertical-align: middle;\n",
       "    }\n",
       "\n",
       "    .dataframe tbody tr th {\n",
       "        vertical-align: top;\n",
       "    }\n",
       "\n",
       "    .dataframe thead th {\n",
       "        text-align: right;\n",
       "    }\n",
       "</style>\n",
       "<table border=\"1\" class=\"dataframe\">\n",
       "  <thead>\n",
       "    <tr style=\"text-align: right;\">\n",
       "      <th></th>\n",
       "      <th>sent-id</th>\n",
       "      <th>acl#</th>\n",
       "      <th>acl#advmod#</th>\n",
       "      <th>acl#advmod#PROPN</th>\n",
       "      <th>acl#dobj#</th>\n",
       "      <th>acl#dobj#PROPN</th>\n",
       "      <th>acl#meta#</th>\n",
       "      <th>acl#meta#X</th>\n",
       "      <th>acl#nsubj#</th>\n",
       "      <th>acl#nsubj#PROPN</th>\n",
       "      <th>...</th>\n",
       "      <th>xcomp#dobj#PROPN</th>\n",
       "      <th>xcomp#dobj#compound#</th>\n",
       "      <th>xcomp#dobj#compound#PROPN</th>\n",
       "      <th>xcomp#intj#</th>\n",
       "      <th>xcomp#intj#INTJ</th>\n",
       "      <th>xcomp#npadvmod#</th>\n",
       "      <th>xcomp#npadvmod#compound#</th>\n",
       "      <th>xcomp#npadvmod#compound#amod#</th>\n",
       "      <th>xcomp#npadvmod#compound#amod#ADJ</th>\n",
       "      <th>label</th>\n",
       "    </tr>\n",
       "  </thead>\n",
       "  <tbody>\n",
       "    <tr>\n",
       "      <th>0</th>\n",
       "      <td>1000040</td>\n",
       "      <td>0</td>\n",
       "      <td>0</td>\n",
       "      <td>0</td>\n",
       "      <td>0</td>\n",
       "      <td>0</td>\n",
       "      <td>0</td>\n",
       "      <td>0</td>\n",
       "      <td>0</td>\n",
       "      <td>0</td>\n",
       "      <td>...</td>\n",
       "      <td>0</td>\n",
       "      <td>0</td>\n",
       "      <td>0</td>\n",
       "      <td>0</td>\n",
       "      <td>0</td>\n",
       "      <td>0</td>\n",
       "      <td>0</td>\n",
       "      <td>0</td>\n",
       "      <td>0</td>\n",
       "      <td>2</td>\n",
       "    </tr>\n",
       "    <tr>\n",
       "      <th>1</th>\n",
       "      <td>10001025</td>\n",
       "      <td>0</td>\n",
       "      <td>0</td>\n",
       "      <td>0</td>\n",
       "      <td>0</td>\n",
       "      <td>0</td>\n",
       "      <td>0</td>\n",
       "      <td>0</td>\n",
       "      <td>0</td>\n",
       "      <td>0</td>\n",
       "      <td>...</td>\n",
       "      <td>0</td>\n",
       "      <td>0</td>\n",
       "      <td>0</td>\n",
       "      <td>0</td>\n",
       "      <td>0</td>\n",
       "      <td>0</td>\n",
       "      <td>0</td>\n",
       "      <td>0</td>\n",
       "      <td>0</td>\n",
       "      <td>4</td>\n",
       "    </tr>\n",
       "    <tr>\n",
       "      <th>2</th>\n",
       "      <td>10001032</td>\n",
       "      <td>0</td>\n",
       "      <td>0</td>\n",
       "      <td>0</td>\n",
       "      <td>0</td>\n",
       "      <td>0</td>\n",
       "      <td>0</td>\n",
       "      <td>0</td>\n",
       "      <td>0</td>\n",
       "      <td>0</td>\n",
       "      <td>...</td>\n",
       "      <td>0</td>\n",
       "      <td>0</td>\n",
       "      <td>0</td>\n",
       "      <td>0</td>\n",
       "      <td>0</td>\n",
       "      <td>0</td>\n",
       "      <td>0</td>\n",
       "      <td>0</td>\n",
       "      <td>0</td>\n",
       "      <td>3</td>\n",
       "    </tr>\n",
       "  </tbody>\n",
       "</table>\n",
       "<p>3 rows × 2457 columns</p>\n",
       "</div>"
      ],
      "text/plain": [
       "    sent-id  acl#  acl#advmod#  acl#advmod#PROPN  acl#dobj#  acl#dobj#PROPN  \\\n",
       "0   1000040     0            0                 0          0               0   \n",
       "1  10001025     0            0                 0          0               0   \n",
       "2  10001032     0            0                 0          0               0   \n",
       "\n",
       "   acl#meta#  acl#meta#X  acl#nsubj#  acl#nsubj#PROPN  ...  xcomp#dobj#PROPN  \\\n",
       "0          0           0           0                0  ...                 0   \n",
       "1          0           0           0                0  ...                 0   \n",
       "2          0           0           0                0  ...                 0   \n",
       "\n",
       "   xcomp#dobj#compound#  xcomp#dobj#compound#PROPN  xcomp#intj#  \\\n",
       "0                     0                          0            0   \n",
       "1                     0                          0            0   \n",
       "2                     0                          0            0   \n",
       "\n",
       "   xcomp#intj#INTJ  xcomp#npadvmod#  xcomp#npadvmod#compound#  \\\n",
       "0                0                0                         0   \n",
       "1                0                0                         0   \n",
       "2                0                0                         0   \n",
       "\n",
       "   xcomp#npadvmod#compound#amod#  xcomp#npadvmod#compound#amod#ADJ  label  \n",
       "0                              0                                 0      2  \n",
       "1                              0                                 0      4  \n",
       "2                              0                                 0      3  \n",
       "\n",
       "[3 rows x 2457 columns]"
      ]
     },
     "execution_count": 82,
     "metadata": {},
     "output_type": "execute_result"
    }
   ],
   "source": [
    "# feature matrix with labels\n",
    "\n",
    "# read df from csv\n",
    "df = pd.read_csv(data_path_metrics + type + '_amr.csv')\n",
    "df[\"sent-id\"] =df[\"sent-id\"].astype(str)\n",
    "# add labels to feature_matrix from df\n",
    "feature_matrix = feature_matrix.merge(df[['sent-id','num_statements']], on='sent-id')\n",
    "feature_matrix.rename(columns={'num_statements':'label'}, inplace=True)\n",
    "print(feature_matrix.shape)\n",
    "feature_matrix.head(3)"
   ]
  },
  {
   "cell_type": "code",
   "execution_count": 83,
   "metadata": {},
   "outputs": [],
   "source": [
    "extra_features = {}\n",
    "\n",
    "# number of dependency paths\n",
    "for key, value in features.items():\n",
    "    # count number of elements in value list that do not end in \"#\"\n",
    "    count = 0\n",
    "    for v in value:\n",
    "        if not v.endswith(\"#\"):\n",
    "            count += 1\n",
    "    extra_features[key] = count\n",
    "\n",
    "ef = pd.DataFrame(columns = [\"sent-id\", \"num_dep_paths\"])\n",
    "ef[\"sent-id\"] = extra_features.keys()\n",
    "ef[\"num_dep_paths\"] = extra_features.values()\n",
    "\n",
    "feature_matrix = feature_matrix.merge(ef[[\"sent-id\", \"num_dep_paths\"]], on='sent-id')\n"
   ]
  },
  {
   "cell_type": "code",
   "execution_count": 84,
   "metadata": {},
   "outputs": [],
   "source": [
    "# save the feature matrix to a csv file\n",
    "if type == \"train\":\n",
    "    feature_matrix.to_csv(data_path_metrics + type + '_depTree_feature_matrix.csv',index=False)\n",
    "if type == \"test\" or type == \"augmented\":\n",
    "    # read the columns feature matrix from the train data\n",
    "    cols = pd.read_csv(data_path_metrics + 'train_depTree_feature_matrix.csv').columns\n",
    "    # feature_matrix with the same columns as the train feature matrix. Fill NaN with 0\n",
    "    feature_matrix = feature_matrix.reindex(columns=cols, fill_value=0)\n",
    "    feature_matrix.to_csv(data_path_metrics + type + '_depTree_feature_matrix.csv',index=False)\n"
   ]
  },
  {
   "cell_type": "markdown",
   "metadata": {},
   "source": [
    "# Additional features"
   ]
  },
  {
   "cell_type": "code",
   "execution_count": 467,
   "metadata": {},
   "outputs": [],
   "source": [
    "import spacy\n",
    "\n",
    "nlp = spacy.load('en_core_web_sm')\n"
   ]
  },
  {
   "cell_type": "code",
   "execution_count": 480,
   "metadata": {},
   "outputs": [],
   "source": [
    "type = \"test\""
   ]
  },
  {
   "cell_type": "code",
   "execution_count": 481,
   "metadata": {},
   "outputs": [
    {
     "name": "stdout",
     "output_type": "stream",
     "text": [
      "(416, 26)\n"
     ]
    },
    {
     "data": {
      "text/html": [
       "<div>\n",
       "<style scoped>\n",
       "    .dataframe tbody tr th:only-of-type {\n",
       "        vertical-align: middle;\n",
       "    }\n",
       "\n",
       "    .dataframe tbody tr th {\n",
       "        vertical-align: top;\n",
       "    }\n",
       "\n",
       "    .dataframe thead th {\n",
       "        text-align: right;\n",
       "    }\n",
       "</style>\n",
       "<table border=\"1\" class=\"dataframe\">\n",
       "  <thead>\n",
       "    <tr style=\"text-align: right;\">\n",
       "      <th></th>\n",
       "      <th>sent-id</th>\n",
       "      <th>topic</th>\n",
       "      <th>phrase</th>\n",
       "      <th>phrase_number</th>\n",
       "      <th>genre</th>\n",
       "      <th>timestamp</th>\n",
       "      <th>user</th>\n",
       "      <th>phrase_tokenized</th>\n",
       "      <th>num_statements</th>\n",
       "      <th>statement_spans</th>\n",
       "      <th>...</th>\n",
       "      <th>verb_count</th>\n",
       "      <th>min_dep_length</th>\n",
       "      <th>flesh_reading_ease</th>\n",
       "      <th>class_score</th>\n",
       "      <th>is_sent</th>\n",
       "      <th>big_np_count</th>\n",
       "      <th>big_pp_count</th>\n",
       "      <th>tree</th>\n",
       "      <th>Unnamed: 0</th>\n",
       "      <th>amr_length</th>\n",
       "    </tr>\n",
       "  </thead>\n",
       "  <tbody>\n",
       "    <tr>\n",
       "      <th>0</th>\n",
       "      <td>29217</td>\n",
       "      <td>louis-braille</td>\n",
       "      <td>Louis Braille wurde am 4. Januar 1809 geboren.</td>\n",
       "      <td>0_long</td>\n",
       "      <td>Personen|Seiten_mit_defekten_Dateilinks</td>\n",
       "      <td>2017-01-05T18:57:57Z</td>\n",
       "      <td>28d34f2e053dee2c0e9399a7924cd978</td>\n",
       "      <td>0:=Louis 1:=Braille 2:=wurde 3:=am 4:=4. 5:=Ja...</td>\n",
       "      <td>1</td>\n",
       "      <td>NaN</td>\n",
       "      <td>...</td>\n",
       "      <td>1</td>\n",
       "      <td>1</td>\n",
       "      <td>92.80</td>\n",
       "      <td>1.00</td>\n",
       "      <td>1</td>\n",
       "      <td>0</td>\n",
       "      <td>1</td>\n",
       "      <td>(S (PN (NE Louis) (NE Braille)) (VAFIN wurde) ...</td>\n",
       "      <td>0</td>\n",
       "      <td>1</td>\n",
       "    </tr>\n",
       "    <tr>\n",
       "      <th>1</th>\n",
       "      <td>29218</td>\n",
       "      <td>louis-braille</td>\n",
       "      <td>Das war in Coupvray, Frankreich.</td>\n",
       "      <td>1_long</td>\n",
       "      <td>Personen|Seiten_mit_defekten_Dateilinks</td>\n",
       "      <td>2017-01-05T18:57:57Z</td>\n",
       "      <td>28d34f2e053dee2c0e9399a7924cd978</td>\n",
       "      <td>0:=Das 1:=war 2:=in 3:=Coupvray, 4:=Frankreich.</td>\n",
       "      <td>2</td>\n",
       "      <td>[[3], [4]]</td>\n",
       "      <td>...</td>\n",
       "      <td>0</td>\n",
       "      <td>1</td>\n",
       "      <td>100.24</td>\n",
       "      <td>1.00</td>\n",
       "      <td>1</td>\n",
       "      <td>0</td>\n",
       "      <td>0</td>\n",
       "      <td>(S (PDS Das) (VAFIN war) (APPR in) (NE Coupvra...</td>\n",
       "      <td>1</td>\n",
       "      <td>1</td>\n",
       "    </tr>\n",
       "    <tr>\n",
       "      <th>2</th>\n",
       "      <td>29219</td>\n",
       "      <td>louis-braille</td>\n",
       "      <td>Er ist am 6. Januar 1852 gestorben.</td>\n",
       "      <td>2_long</td>\n",
       "      <td>Personen|Seiten_mit_defekten_Dateilinks</td>\n",
       "      <td>2017-01-05T18:57:57Z</td>\n",
       "      <td>28d34f2e053dee2c0e9399a7924cd978</td>\n",
       "      <td>0:=Er 1:=ist 2:=am 3:=6. 4:=Januar 5:=1852 6:=...</td>\n",
       "      <td>1</td>\n",
       "      <td>NaN</td>\n",
       "      <td>...</td>\n",
       "      <td>1</td>\n",
       "      <td>1</td>\n",
       "      <td>93.30</td>\n",
       "      <td>0.97</td>\n",
       "      <td>1</td>\n",
       "      <td>0</td>\n",
       "      <td>1</td>\n",
       "      <td>(S (PPER Er) (VAFIN ist) (VP (PP (APPRART am) ...</td>\n",
       "      <td>2</td>\n",
       "      <td>1</td>\n",
       "    </tr>\n",
       "  </tbody>\n",
       "</table>\n",
       "<p>3 rows × 26 columns</p>\n",
       "</div>"
      ],
      "text/plain": [
       "   sent-id          topic                                          phrase  \\\n",
       "0    29217  louis-braille  Louis Braille wurde am 4. Januar 1809 geboren.   \n",
       "1    29218  louis-braille                Das war in Coupvray, Frankreich.   \n",
       "2    29219  louis-braille             Er ist am 6. Januar 1852 gestorben.   \n",
       "\n",
       "  phrase_number                                    genre  \\\n",
       "0        0_long  Personen|Seiten_mit_defekten_Dateilinks   \n",
       "1        1_long  Personen|Seiten_mit_defekten_Dateilinks   \n",
       "2        2_long  Personen|Seiten_mit_defekten_Dateilinks   \n",
       "\n",
       "              timestamp                              user  \\\n",
       "0  2017-01-05T18:57:57Z  28d34f2e053dee2c0e9399a7924cd978   \n",
       "1  2017-01-05T18:57:57Z  28d34f2e053dee2c0e9399a7924cd978   \n",
       "2  2017-01-05T18:57:57Z  28d34f2e053dee2c0e9399a7924cd978   \n",
       "\n",
       "                                    phrase_tokenized  num_statements  \\\n",
       "0  0:=Louis 1:=Braille 2:=wurde 3:=am 4:=4. 5:=Ja...               1   \n",
       "1    0:=Das 1:=war 2:=in 3:=Coupvray, 4:=Frankreich.               2   \n",
       "2  0:=Er 1:=ist 2:=am 3:=6. 4:=Januar 5:=1852 6:=...               1   \n",
       "\n",
       "  statement_spans  ...  verb_count min_dep_length  flesh_reading_ease  \\\n",
       "0             NaN  ...           1              1               92.80   \n",
       "1      [[3], [4]]  ...           0              1              100.24   \n",
       "2             NaN  ...           1              1               93.30   \n",
       "\n",
       "   class_score  is_sent  big_np_count  big_pp_count  \\\n",
       "0         1.00        1             0             1   \n",
       "1         1.00        1             0             0   \n",
       "2         0.97        1             0             1   \n",
       "\n",
       "                                                tree  Unnamed: 0  amr_length  \n",
       "0  (S (PN (NE Louis) (NE Braille)) (VAFIN wurde) ...           0           1  \n",
       "1  (S (PDS Das) (VAFIN war) (APPR in) (NE Coupvra...           1           1  \n",
       "2  (S (PPER Er) (VAFIN ist) (VP (PP (APPRART am) ...           2           1  \n",
       "\n",
       "[3 rows x 26 columns]"
      ]
     },
     "execution_count": 481,
     "metadata": {},
     "output_type": "execute_result"
    }
   ],
   "source": [
    "# some additional features:\n",
    "\n",
    "if type == \"train\":\n",
    "    df_basic = pd.read_csv(data_path_metrics + 'train_basics.csv')\n",
    "    df_basic_trial = pd.read_csv(data_path_metrics + 'trial_basics.csv')\n",
    "    df_benepar = pd.read_csv(data_path_metrics + 'benepar_features_train.csv')\n",
    "    df_benepar_trial = pd.read_csv(data_path_metrics + 'benepar_features_trial.csv')\n",
    "    df_basic[\"tree\"] = df_benepar[\"tree\"]\n",
    "    df_basic_trial[\"tree\"] = df_benepar_trial[\"tree\"]\n",
    "    df_basic = pd.concat([df_basic,df_basic_trial], join=\"inner\")\n",
    "    df = pd.read_csv(data_path + 'train.csv')\n",
    "    df_trial = pd.read_csv(data_path + 'trial.csv')\n",
    "    df = pd.concat([df,df_trial], join=\"inner\")\n",
    "if type == \"test\" or type == \"augmented\":\n",
    "    df_basic = pd.read_csv(data_path_metrics + type + '_basics.csv')\n",
    "    df_benepar = pd.read_csv(data_path_metrics + 'benepar_features_' + type + '.csv')\n",
    "    df_basic[\"tree\"] = df_benepar[\"tree\"]\n",
    "    df = pd.read_csv(data_path + type + '.csv')\n",
    "\n",
    "df = df[['sent-id', 'num_statements']]\n",
    "col = df.columns \n",
    "col_basics = df_basic.columns\n",
    "# comon columns\n",
    "common_columns = col.intersection(col_basics)\n",
    "# delete 'sent-id' from common columns\n",
    "common_columns = common_columns.drop('sent-id')\n",
    "df = df.drop(columns=common_columns)\n",
    "# merge df and df_basic on sent-id column\n",
    "df = df.merge(df_basic, on='sent-id')\n",
    "df_add = pd.read_csv(data_path_temp + type + \"_temp_features.csv\")\n",
    "df = df.merge(df_add, on='sent-id')\n",
    "df = df.drop_duplicates(subset=['sent-id'], keep='last')\n",
    "df = df[df['num_statements'] > 0]  \n",
    "print(df.shape)\n",
    "\n",
    "df.head(3)"
   ]
  },
  {
   "cell_type": "code",
   "execution_count": 482,
   "metadata": {},
   "outputs": [],
   "source": [
    "df[\"doc\"] = df[\"phrase\"].apply(nlp)"
   ]
  },
  {
   "cell_type": "code",
   "execution_count": 483,
   "metadata": {},
   "outputs": [],
   "source": [
    "# for df compute several additional features: 1) mean number of characters per word 2) number of \"NOUN\" in nlp(sentence).token.pos_\n",
    "\n",
    "df[\"mean_chars_per_word\"] = df[\"phrase\"].apply(len) / df[\"doc\"].apply(len)\n",
    "df[\"num_nouns\"] = df[\"doc\"].apply(lambda x: len([t for t in x if t.pos_ == \"NOUN\"]))\n",
    "df[\"num_verbs\"] = df[\"doc\"].apply(lambda x: len([t for t in x if t.pos_ == \"VERB\"]))\n",
    "df[\"num_adjs\"] = df[\"doc\"].apply(lambda x: len([t for t in x if t.pos_ == \"ADJ\"]))\n",
    "df[\"num_advs\"] = df[\"doc\"].apply(lambda x: len([t for t in x if t.pos_ == \"ADV\"]))\n",
    "df[\"num_punct\"] = df[\"doc\"].apply(lambda x: len([t for t in x if t.pos_ == \"PUNCT\" and t != \"-\"]))\n",
    "df[\"num_adps\"] = df[\"doc\"].apply(lambda x: len([t for t in x if t.pos_ == \"ADP\"]))\n",
    "df[\"num_conjs\"] = df[\"doc\"].apply(lambda x: len([t for t in x if t.pos_ == \"CONJ\"]))\n",
    "df[\"num_det\"] = df[\"doc\"].apply(lambda x: len([t for t in x if t.pos_ == \"DET\"]))\n",
    "df[\"num_pron\"] = df[\"doc\"].apply(lambda x: len([t for t in x if t.pos_ == \"PRON\"]))\n",
    "df[\"num_num\"] = df[\"doc\"].apply(lambda x: len([t for t in x if t.pos_ == \"NUM\"]))\n",
    "df[\"num_part\"] = df[\"doc\"].apply(lambda x: len([t for t in x if t.pos_ == \"PART\"]))\n",
    "df[\"num_sym\"] = df[\"doc\"].apply(lambda x: len([t for t in x if t.pos_ == \"SYM\"]))\n",
    "df[\"num_aux\"] = df[\"doc\"].apply(lambda x: len([t for t in x if t.pos_ == \"AUX\"]))\n",
    "df[\"num_root\"] = df[\"doc\"].apply(lambda x: len([t for t in x if t.dep_ == \"ROOT\"]))\n",
    "df[\"num_compound\"] = df[\"doc\"].apply(lambda x: len([t for t in x if t.dep_ == \"compound\"]))\n",
    "df[\"num_root_childs\"] = df[\"doc\"].apply(lambda x: len([t for t in x if t.head.dep_ == \"ROOT\"]))\n",
    "df[\"num_S\"] = df[\"tree\"].apply(lambda x: x.count(\"(S\"))\n",
    "df[\"num_VP\"] = df[\"tree\"].apply(lambda x: x.count(\"(VP\"))\n",
    "df[\"num_NP\"] = df[\"tree\"].apply(lambda x: x.count(\"(NP\"))\n",
    "df[\"num_PP\"] = df[\"tree\"].apply(lambda x: x.count(\"(PP\"))\n",
    "df[\"num_ADJP\"] = df[\"tree\"].apply(lambda x: x.count(\"(ADJP\"))\n",
    "df[\"num_ADVP\"] = df[\"tree\"].apply(lambda x: x.count(\"(ADVP\"))\n",
    "\n",
    "\n",
    "\n",
    "\n"
   ]
  },
  {
   "cell_type": "code",
   "execution_count": 484,
   "metadata": {},
   "outputs": [
    {
     "name": "stdout",
     "output_type": "stream",
     "text": [
      "['genre', 'statement_spans']\n"
     ]
    }
   ],
   "source": [
    "# show all columns with NaN values\n",
    "print(df.columns[df.isnull().any()].tolist())"
   ]
  },
  {
   "cell_type": "code",
   "execution_count": 485,
   "metadata": {},
   "outputs": [],
   "source": [
    "# save the feature matrix to a csv file\n",
    "df.to_csv(data_path_metrics + type + '_additional.csv',index=False)\n",
    "\n"
   ]
  },
  {
   "cell_type": "markdown",
   "metadata": {},
   "source": [
    "# Classifier experiments"
   ]
  },
  {
   "cell_type": "markdown",
   "metadata": {},
   "source": [
    "## Reading in feature matrices"
   ]
  },
  {
   "cell_type": "code",
   "execution_count": 24,
   "metadata": {},
   "outputs": [],
   "source": [
    "import pandas as pd\n",
    "import numpy as np\n",
    "\n",
    "# data path\n",
    "data_path = '../data/'\n",
    "data_path_metrics = '../data/metrics/'\n",
    "data_path_temp = '../data/temp/'\n",
    "data_path_prolog = '../data/prologData/'\n"
   ]
  },
  {
   "cell_type": "code",
   "execution_count": 7,
   "metadata": {},
   "outputs": [],
   "source": [
    "# read_feature_matrix(df_main, dflist) takes a dataframe df_main and a list of dataframes dflist. \n",
    "# It returns a feature matrix which merges the dataframes in dflist with df_main on the column \"sent-id\"\n",
    "# If a colunm in a dataframe in dflist does exist in df_main, it is not merged.\n",
    "def read_feature_matrix(df_main, dflist):\n",
    "    feature_matrix = df_main[[\"sent-id\",\"num_statements\"]]\n",
    "    for df in dflist:\n",
    "        # merge df with feature_matrix on \"sent-id\"\n",
    "        # columns in df that are in feature_matrix are not merged\n",
    "        columns = df.columns[df.columns.isin(feature_matrix.columns)]\n",
    "        columns = columns[columns != \"sent-id\"]\n",
    "        df = df.drop(columns=columns, axis=1)\n",
    "        feature_matrix = feature_matrix.merge(df, on='sent-id', how=\"left\")\n",
    "    feature_matrix = feature_matrix[feature_matrix[\"num_statements\"] > 0]\n",
    "    feature_matrix = feature_matrix.drop_duplicates(subset=['sent-id'], keep='last')\n",
    "    return feature_matrix\n"
   ]
  },
  {
   "cell_type": "code",
   "execution_count": 8,
   "metadata": {},
   "outputs": [
    {
     "name": "stdout",
     "output_type": "stream",
     "text": [
      "(2970, 10) (2520, 1778) (2520, 779) (2518, 50)\n",
      "(1207, 10) (1207, 1778) (1207, 779)\n",
      "(416, 10) (416, 1778) (416, 779) (416, 50)\n"
     ]
    }
   ],
   "source": [
    "train = pd.read_csv(data_path + 'train.csv')\n",
    "trial = pd.read_csv(data_path + 'trial.csv')\n",
    "train = pd.concat([train,trial], join=\"inner\")\n",
    "train_amr = pd.read_csv(data_path_metrics + 'train_amr_feature_matrix.csv')\n",
    "train_depTree = pd.read_csv(data_path_metrics + 'train_depTree_feature_matrix.csv')\n",
    "train_additional = pd.read_csv(data_path_metrics + 'train_additional.csv')\n",
    "print(train.shape,train_amr.shape, train_depTree.shape, train_additional.shape) \n",
    "\n",
    "augmented = pd.read_csv(data_path + 'augmented.csv')\n",
    "augmented_amr = pd.read_csv(data_path_metrics + 'augmented_amr_feature_matrix.csv')\n",
    "augmented_depTree = pd.read_csv(data_path_metrics + 'augmented_depTree_feature_matrix.csv')\n",
    "augmented_additional = pd.read_csv(data_path_metrics + 'augmented_additional.csv')\n",
    "print(augmented.shape, augmented_amr.shape, augmented_depTree.shape)\n",
    "\n",
    "test = pd.read_csv(data_path + 'test.csv')\n",
    "test_amr = pd.read_csv(data_path_metrics + 'test_amr_feature_matrix.csv')\n",
    "test_depTree = pd.read_csv(data_path_metrics + 'test_depTree_feature_matrix.csv')\n",
    "test_additional = pd.read_csv(data_path_metrics + 'test_additional.csv')\n",
    "print(test.shape, test_amr.shape, test_depTree.shape, test_additional.shape)\n",
    "\n"
   ]
  },
  {
   "cell_type": "code",
   "execution_count": 9,
   "metadata": {},
   "outputs": [],
   "source": [
    "def drop_columns(df,col):\n",
    "    common_columns = df.columns.intersection(col)\n",
    "    df = df.drop(columns = common_columns)\n",
    "    return df"
   ]
  },
  {
   "cell_type": "code",
   "execution_count": 10,
   "metadata": {},
   "outputs": [
    {
     "data": {
      "text/plain": [
       "((2518, 2598), (1207, 2598), (416, 2598), (3725, 2598))"
      ]
     },
     "execution_count": 10,
     "metadata": {},
     "output_type": "execute_result"
    }
   ],
   "source": [
    "col = ['genre', 'timestamp', 'user', 'statement_spans', 'Unnamed: 1']\n",
    "matrix_train = read_feature_matrix(train,[train_amr,train_depTree,train_additional])\n",
    "matrix_train = drop_columns(matrix_train,col)\n",
    "matrix_augmented = read_feature_matrix(augmented,[augmented_amr,augmented_depTree,augmented_additional])\n",
    "matrix_augmented = drop_columns(matrix_augmented,col)\n",
    "matrix_test = read_feature_matrix(test,[test_amr,test_depTree,test_additional])\n",
    "matrix_test = drop_columns(matrix_test,col)\n",
    "# if a column name starts with \"Unnamed\" drop it\n",
    "matrix_train = matrix_train.loc[:,~matrix_train.columns.str.contains('^Unnamed')]\n",
    "matrix_augmented = matrix_augmented.loc[:,~matrix_augmented.columns.str.contains('^Unnamed')]\n",
    "matrix_test = matrix_test.loc[:,~matrix_test.columns.str.contains('^Unnamed')]\n",
    "\n",
    "\n",
    "matrix_train_all = pd.concat([matrix_train,matrix_augmented])\n",
    "matrix_train.shape, matrix_augmented.shape, matrix_test.shape, matrix_train_all.shape"
   ]
  },
  {
   "cell_type": "code",
   "execution_count": 11,
   "metadata": {},
   "outputs": [
    {
     "name": "stdout",
     "output_type": "stream",
     "text": [
      "(2518, 1829)\n",
      "(416, 1829)\n",
      "(3725, 1829)\n"
     ]
    }
   ],
   "source": [
    "import pandas as pd\n",
    "\n",
    "# drop non-numerical columns\n",
    "col = ['sentence','tree','topic','phrase','phrase_number','phrase_tokenized','pos_onehot','doc', 'label']\n",
    "\n",
    "matrix_train = drop_columns(matrix_train,col)\n",
    "matrix_augmented = drop_columns(matrix_augmented,col)\n",
    "matrix_train_all = drop_columns(matrix_train_all,col)\n",
    "\n",
    "\n",
    "# remove columns from matrix_train with too few !=0 entries\n",
    "min_num_nonzero = 4\n",
    "matrix_train = matrix_train.loc[:, (matrix_train != 0).sum() >= min_num_nonzero]\n",
    "#matrix_train_all = matrix_train_all.loc[:, (matrix_train_all != 0).sum() >= min_num_nonzero]\n",
    "print(matrix_train.shape)\n",
    "\n",
    "# remove columns from matrix_test that are not in matrix_train\n",
    "matrix_test = matrix_test[matrix_train.columns]\n",
    "print(matrix_test.shape)\n",
    "\n",
    "matrix_train_all = matrix_train_all[matrix_train.columns]\n",
    "print(matrix_train_all.shape)\n",
    "\n",
    "# use only columns from matrix_train in matrix_augmented\n",
    "common_columns = matrix_train.columns.intersection(matrix_augmented.columns)\n",
    "matrix_augmented = matrix_augmented[common_columns]\n"
   ]
  },
  {
   "cell_type": "code",
   "execution_count": 12,
   "metadata": {},
   "outputs": [
    {
     "name": "stdout",
     "output_type": "stream",
     "text": [
      "False\n",
      "False\n"
     ]
    },
    {
     "data": {
      "text/plain": [
       "((3725, 1827), (3725,), (416, 1827), (416,))"
      ]
     },
     "execution_count": 12,
     "metadata": {},
     "output_type": "execute_result"
    }
   ],
   "source": [
    "X_train = matrix_train_all.drop(['sent-id','num_statements'], axis=1)\n",
    "y_train = matrix_train_all['num_statements']\n",
    "z_train = matrix_train_all['sent-id']\n",
    "X_test = matrix_test.drop(['sent-id','num_statements'], axis=1)\n",
    "y_test = matrix_test['num_statements']\n",
    "z_test = matrix_test['sent-id']\n",
    "# nan to 0\n",
    "#X_train = X_train.fillna(0)\n",
    "#X_test = X_test.fillna(0)\n",
    "# are there any NaN values?\n",
    "print(X_train.isnull().values.any())\n",
    "print(X_test.isnull().values.any())\n",
    "\n",
    "X_train.shape, y_train.shape, X_test.shape, y_test.shape"
   ]
  },
  {
   "cell_type": "code",
   "execution_count": 13,
   "metadata": {},
   "outputs": [],
   "source": [
    "# boolean vector for sent-id >= 1000000\n",
    "bool_augmented = z_train >= 1000000\n",
    "columns_amr = train_amr.columns\n",
    "columns_depTree = train_depTree.columns\n",
    "columns_additional = train_additional.columns\n",
    "\n"
   ]
  },
  {
   "cell_type": "code",
   "execution_count": 14,
   "metadata": {},
   "outputs": [
    {
     "name": "stdout",
     "output_type": "stream",
     "text": [
      "1    0.41\n",
      "2    0.40\n",
      "3    0.15\n",
      "4    0.03\n",
      "5    0.00\n",
      "6    0.00\n",
      "Name: num_statements, dtype: float64\n",
      "1    0.62\n",
      "2    0.30\n",
      "3    0.07\n",
      "4    0.01\n",
      "5    0.00\n",
      "Name: num_statements, dtype: float64\n"
     ]
    }
   ],
   "source": [
    "# for y_train and y_test proportion of labels round to 2 decimal places\n",
    "print(y_train.value_counts(normalize=True).round(2))\n",
    "print(y_test.value_counts(normalize=True).round(2))\n"
   ]
  },
  {
   "cell_type": "code",
   "execution_count": 15,
   "metadata": {},
   "outputs": [],
   "source": [
    "# minmax scaling\n",
    "from sklearn.preprocessing import MinMaxScaler\n",
    "scaler = MinMaxScaler()\n",
    "\n",
    "# keep the column names\n",
    "X_train_columns = X_train.columns\n",
    "X_test_columns = X_test.columns\n",
    "\n",
    "# fit and transform the train data\n",
    "X_train = pd.DataFrame(scaler.fit_transform(X_train), columns=X_train_columns)\n",
    "# transform the test data\n",
    "X_test = pd.DataFrame(scaler.transform(X_test), columns=X_test_columns)\n"
   ]
  },
  {
   "cell_type": "code",
   "execution_count": 16,
   "metadata": {},
   "outputs": [
    {
     "data": {
      "text/html": [
       "<div>\n",
       "<style scoped>\n",
       "    .dataframe tbody tr th:only-of-type {\n",
       "        vertical-align: middle;\n",
       "    }\n",
       "\n",
       "    .dataframe tbody tr th {\n",
       "        vertical-align: top;\n",
       "    }\n",
       "\n",
       "    .dataframe thead th {\n",
       "        text-align: right;\n",
       "    }\n",
       "</style>\n",
       "<table border=\"1\" class=\"dataframe\">\n",
       "  <thead>\n",
       "    <tr style=\"text-align: right;\">\n",
       "      <th></th>\n",
       "      <th>attr-(mod):</th>\n",
       "      <th>attr-(mod):attr-(mod):</th>\n",
       "      <th>attr-(mod):attr-(mod):attr-instance:</th>\n",
       "      <th>attr-(mod):attr-degree:</th>\n",
       "      <th>attr-(mod):attr-degree:attr-instance:</th>\n",
       "      <th>attr-(mod):attr-degree:attr-instance:very</th>\n",
       "      <th>attr-(mod):attr-instance:</th>\n",
       "      <th>attr-(mod):attr-instance:also</th>\n",
       "      <th>attr-(mod):attr-instance:another</th>\n",
       "      <th>attr-(mod):attr-instance:big</th>\n",
       "      <th>...</th>\n",
       "      <th>num_num</th>\n",
       "      <th>num_part</th>\n",
       "      <th>num_aux</th>\n",
       "      <th>num_root</th>\n",
       "      <th>num_compound</th>\n",
       "      <th>num_root_childs</th>\n",
       "      <th>num_S</th>\n",
       "      <th>num_VP</th>\n",
       "      <th>num_NP</th>\n",
       "      <th>num_PP</th>\n",
       "    </tr>\n",
       "  </thead>\n",
       "  <tbody>\n",
       "    <tr>\n",
       "      <th>0</th>\n",
       "      <td>0.0</td>\n",
       "      <td>0.0</td>\n",
       "      <td>0.0</td>\n",
       "      <td>0.0</td>\n",
       "      <td>0.0</td>\n",
       "      <td>0.0</td>\n",
       "      <td>0.0</td>\n",
       "      <td>0.0</td>\n",
       "      <td>0.0</td>\n",
       "      <td>0.0</td>\n",
       "      <td>...</td>\n",
       "      <td>0.00</td>\n",
       "      <td>0.0</td>\n",
       "      <td>0.0</td>\n",
       "      <td>0.0</td>\n",
       "      <td>0.157895</td>\n",
       "      <td>0.272727</td>\n",
       "      <td>0.2</td>\n",
       "      <td>0.00</td>\n",
       "      <td>0.4</td>\n",
       "      <td>0.000000</td>\n",
       "    </tr>\n",
       "    <tr>\n",
       "      <th>1</th>\n",
       "      <td>0.0</td>\n",
       "      <td>0.0</td>\n",
       "      <td>0.0</td>\n",
       "      <td>0.0</td>\n",
       "      <td>0.0</td>\n",
       "      <td>0.0</td>\n",
       "      <td>0.0</td>\n",
       "      <td>0.0</td>\n",
       "      <td>0.0</td>\n",
       "      <td>0.0</td>\n",
       "      <td>...</td>\n",
       "      <td>0.00</td>\n",
       "      <td>0.0</td>\n",
       "      <td>0.0</td>\n",
       "      <td>0.0</td>\n",
       "      <td>0.000000</td>\n",
       "      <td>0.272727</td>\n",
       "      <td>0.2</td>\n",
       "      <td>0.25</td>\n",
       "      <td>0.0</td>\n",
       "      <td>0.000000</td>\n",
       "    </tr>\n",
       "    <tr>\n",
       "      <th>2</th>\n",
       "      <td>0.0</td>\n",
       "      <td>0.0</td>\n",
       "      <td>0.0</td>\n",
       "      <td>0.0</td>\n",
       "      <td>0.0</td>\n",
       "      <td>0.0</td>\n",
       "      <td>0.0</td>\n",
       "      <td>0.0</td>\n",
       "      <td>0.0</td>\n",
       "      <td>0.0</td>\n",
       "      <td>...</td>\n",
       "      <td>0.00</td>\n",
       "      <td>0.0</td>\n",
       "      <td>0.0</td>\n",
       "      <td>0.0</td>\n",
       "      <td>0.210526</td>\n",
       "      <td>0.090909</td>\n",
       "      <td>0.2</td>\n",
       "      <td>0.25</td>\n",
       "      <td>0.2</td>\n",
       "      <td>0.333333</td>\n",
       "    </tr>\n",
       "    <tr>\n",
       "      <th>3</th>\n",
       "      <td>0.0</td>\n",
       "      <td>0.0</td>\n",
       "      <td>0.0</td>\n",
       "      <td>0.0</td>\n",
       "      <td>0.0</td>\n",
       "      <td>0.0</td>\n",
       "      <td>0.0</td>\n",
       "      <td>0.0</td>\n",
       "      <td>0.0</td>\n",
       "      <td>0.0</td>\n",
       "      <td>...</td>\n",
       "      <td>0.00</td>\n",
       "      <td>0.0</td>\n",
       "      <td>0.0</td>\n",
       "      <td>0.0</td>\n",
       "      <td>0.052632</td>\n",
       "      <td>0.181818</td>\n",
       "      <td>0.2</td>\n",
       "      <td>0.25</td>\n",
       "      <td>0.0</td>\n",
       "      <td>0.000000</td>\n",
       "    </tr>\n",
       "    <tr>\n",
       "      <th>4</th>\n",
       "      <td>0.0</td>\n",
       "      <td>0.0</td>\n",
       "      <td>0.0</td>\n",
       "      <td>0.0</td>\n",
       "      <td>0.0</td>\n",
       "      <td>0.0</td>\n",
       "      <td>0.0</td>\n",
       "      <td>0.0</td>\n",
       "      <td>0.0</td>\n",
       "      <td>0.0</td>\n",
       "      <td>...</td>\n",
       "      <td>0.00</td>\n",
       "      <td>0.0</td>\n",
       "      <td>0.0</td>\n",
       "      <td>0.0</td>\n",
       "      <td>0.105263</td>\n",
       "      <td>0.181818</td>\n",
       "      <td>0.2</td>\n",
       "      <td>0.25</td>\n",
       "      <td>0.0</td>\n",
       "      <td>0.000000</td>\n",
       "    </tr>\n",
       "    <tr>\n",
       "      <th>...</th>\n",
       "      <td>...</td>\n",
       "      <td>...</td>\n",
       "      <td>...</td>\n",
       "      <td>...</td>\n",
       "      <td>...</td>\n",
       "      <td>...</td>\n",
       "      <td>...</td>\n",
       "      <td>...</td>\n",
       "      <td>...</td>\n",
       "      <td>...</td>\n",
       "      <td>...</td>\n",
       "      <td>...</td>\n",
       "      <td>...</td>\n",
       "      <td>...</td>\n",
       "      <td>...</td>\n",
       "      <td>...</td>\n",
       "      <td>...</td>\n",
       "      <td>...</td>\n",
       "      <td>...</td>\n",
       "      <td>...</td>\n",
       "      <td>...</td>\n",
       "    </tr>\n",
       "    <tr>\n",
       "      <th>3720</th>\n",
       "      <td>0.0</td>\n",
       "      <td>0.0</td>\n",
       "      <td>0.0</td>\n",
       "      <td>0.0</td>\n",
       "      <td>0.0</td>\n",
       "      <td>0.0</td>\n",
       "      <td>0.0</td>\n",
       "      <td>0.0</td>\n",
       "      <td>0.0</td>\n",
       "      <td>0.0</td>\n",
       "      <td>...</td>\n",
       "      <td>0.00</td>\n",
       "      <td>0.0</td>\n",
       "      <td>0.0</td>\n",
       "      <td>0.0</td>\n",
       "      <td>0.263158</td>\n",
       "      <td>0.181818</td>\n",
       "      <td>0.2</td>\n",
       "      <td>0.25</td>\n",
       "      <td>0.2</td>\n",
       "      <td>0.333333</td>\n",
       "    </tr>\n",
       "    <tr>\n",
       "      <th>3721</th>\n",
       "      <td>0.0</td>\n",
       "      <td>0.0</td>\n",
       "      <td>0.0</td>\n",
       "      <td>0.0</td>\n",
       "      <td>0.0</td>\n",
       "      <td>0.0</td>\n",
       "      <td>0.0</td>\n",
       "      <td>0.0</td>\n",
       "      <td>0.0</td>\n",
       "      <td>0.0</td>\n",
       "      <td>...</td>\n",
       "      <td>0.25</td>\n",
       "      <td>0.0</td>\n",
       "      <td>0.0</td>\n",
       "      <td>0.0</td>\n",
       "      <td>0.157895</td>\n",
       "      <td>0.272727</td>\n",
       "      <td>0.2</td>\n",
       "      <td>0.00</td>\n",
       "      <td>0.0</td>\n",
       "      <td>0.166667</td>\n",
       "    </tr>\n",
       "    <tr>\n",
       "      <th>3722</th>\n",
       "      <td>0.0</td>\n",
       "      <td>0.0</td>\n",
       "      <td>0.0</td>\n",
       "      <td>0.0</td>\n",
       "      <td>0.0</td>\n",
       "      <td>0.0</td>\n",
       "      <td>0.0</td>\n",
       "      <td>0.0</td>\n",
       "      <td>0.0</td>\n",
       "      <td>0.0</td>\n",
       "      <td>...</td>\n",
       "      <td>0.00</td>\n",
       "      <td>0.0</td>\n",
       "      <td>0.0</td>\n",
       "      <td>0.0</td>\n",
       "      <td>0.157895</td>\n",
       "      <td>0.272727</td>\n",
       "      <td>0.2</td>\n",
       "      <td>0.00</td>\n",
       "      <td>0.2</td>\n",
       "      <td>0.333333</td>\n",
       "    </tr>\n",
       "    <tr>\n",
       "      <th>3723</th>\n",
       "      <td>0.0</td>\n",
       "      <td>0.0</td>\n",
       "      <td>0.0</td>\n",
       "      <td>0.0</td>\n",
       "      <td>0.0</td>\n",
       "      <td>0.0</td>\n",
       "      <td>0.0</td>\n",
       "      <td>0.0</td>\n",
       "      <td>0.0</td>\n",
       "      <td>0.0</td>\n",
       "      <td>...</td>\n",
       "      <td>1.00</td>\n",
       "      <td>0.0</td>\n",
       "      <td>0.0</td>\n",
       "      <td>0.5</td>\n",
       "      <td>0.157895</td>\n",
       "      <td>0.727273</td>\n",
       "      <td>0.0</td>\n",
       "      <td>0.00</td>\n",
       "      <td>0.2</td>\n",
       "      <td>0.166667</td>\n",
       "    </tr>\n",
       "    <tr>\n",
       "      <th>3724</th>\n",
       "      <td>0.0</td>\n",
       "      <td>0.0</td>\n",
       "      <td>0.0</td>\n",
       "      <td>0.0</td>\n",
       "      <td>0.0</td>\n",
       "      <td>0.0</td>\n",
       "      <td>0.0</td>\n",
       "      <td>0.0</td>\n",
       "      <td>0.0</td>\n",
       "      <td>0.0</td>\n",
       "      <td>...</td>\n",
       "      <td>0.00</td>\n",
       "      <td>0.0</td>\n",
       "      <td>0.0</td>\n",
       "      <td>0.0</td>\n",
       "      <td>0.157895</td>\n",
       "      <td>0.181818</td>\n",
       "      <td>0.2</td>\n",
       "      <td>0.00</td>\n",
       "      <td>0.0</td>\n",
       "      <td>0.333333</td>\n",
       "    </tr>\n",
       "  </tbody>\n",
       "</table>\n",
       "<p>3725 rows × 1827 columns</p>\n",
       "</div>"
      ],
      "text/plain": [
       "      attr-(mod):  attr-(mod):attr-(mod):  \\\n",
       "0             0.0                     0.0   \n",
       "1             0.0                     0.0   \n",
       "2             0.0                     0.0   \n",
       "3             0.0                     0.0   \n",
       "4             0.0                     0.0   \n",
       "...           ...                     ...   \n",
       "3720          0.0                     0.0   \n",
       "3721          0.0                     0.0   \n",
       "3722          0.0                     0.0   \n",
       "3723          0.0                     0.0   \n",
       "3724          0.0                     0.0   \n",
       "\n",
       "      attr-(mod):attr-(mod):attr-instance:  attr-(mod):attr-degree:  \\\n",
       "0                                      0.0                      0.0   \n",
       "1                                      0.0                      0.0   \n",
       "2                                      0.0                      0.0   \n",
       "3                                      0.0                      0.0   \n",
       "4                                      0.0                      0.0   \n",
       "...                                    ...                      ...   \n",
       "3720                                   0.0                      0.0   \n",
       "3721                                   0.0                      0.0   \n",
       "3722                                   0.0                      0.0   \n",
       "3723                                   0.0                      0.0   \n",
       "3724                                   0.0                      0.0   \n",
       "\n",
       "      attr-(mod):attr-degree:attr-instance:  \\\n",
       "0                                       0.0   \n",
       "1                                       0.0   \n",
       "2                                       0.0   \n",
       "3                                       0.0   \n",
       "4                                       0.0   \n",
       "...                                     ...   \n",
       "3720                                    0.0   \n",
       "3721                                    0.0   \n",
       "3722                                    0.0   \n",
       "3723                                    0.0   \n",
       "3724                                    0.0   \n",
       "\n",
       "      attr-(mod):attr-degree:attr-instance:very  attr-(mod):attr-instance:  \\\n",
       "0                                           0.0                        0.0   \n",
       "1                                           0.0                        0.0   \n",
       "2                                           0.0                        0.0   \n",
       "3                                           0.0                        0.0   \n",
       "4                                           0.0                        0.0   \n",
       "...                                         ...                        ...   \n",
       "3720                                        0.0                        0.0   \n",
       "3721                                        0.0                        0.0   \n",
       "3722                                        0.0                        0.0   \n",
       "3723                                        0.0                        0.0   \n",
       "3724                                        0.0                        0.0   \n",
       "\n",
       "      attr-(mod):attr-instance:also  attr-(mod):attr-instance:another  \\\n",
       "0                               0.0                               0.0   \n",
       "1                               0.0                               0.0   \n",
       "2                               0.0                               0.0   \n",
       "3                               0.0                               0.0   \n",
       "4                               0.0                               0.0   \n",
       "...                             ...                               ...   \n",
       "3720                            0.0                               0.0   \n",
       "3721                            0.0                               0.0   \n",
       "3722                            0.0                               0.0   \n",
       "3723                            0.0                               0.0   \n",
       "3724                            0.0                               0.0   \n",
       "\n",
       "      attr-(mod):attr-instance:big  ...  num_num  num_part  num_aux  num_root  \\\n",
       "0                              0.0  ...     0.00       0.0      0.0       0.0   \n",
       "1                              0.0  ...     0.00       0.0      0.0       0.0   \n",
       "2                              0.0  ...     0.00       0.0      0.0       0.0   \n",
       "3                              0.0  ...     0.00       0.0      0.0       0.0   \n",
       "4                              0.0  ...     0.00       0.0      0.0       0.0   \n",
       "...                            ...  ...      ...       ...      ...       ...   \n",
       "3720                           0.0  ...     0.00       0.0      0.0       0.0   \n",
       "3721                           0.0  ...     0.25       0.0      0.0       0.0   \n",
       "3722                           0.0  ...     0.00       0.0      0.0       0.0   \n",
       "3723                           0.0  ...     1.00       0.0      0.0       0.5   \n",
       "3724                           0.0  ...     0.00       0.0      0.0       0.0   \n",
       "\n",
       "      num_compound  num_root_childs  num_S  num_VP  num_NP    num_PP  \n",
       "0         0.157895         0.272727    0.2    0.00     0.4  0.000000  \n",
       "1         0.000000         0.272727    0.2    0.25     0.0  0.000000  \n",
       "2         0.210526         0.090909    0.2    0.25     0.2  0.333333  \n",
       "3         0.052632         0.181818    0.2    0.25     0.0  0.000000  \n",
       "4         0.105263         0.181818    0.2    0.25     0.0  0.000000  \n",
       "...            ...              ...    ...     ...     ...       ...  \n",
       "3720      0.263158         0.181818    0.2    0.25     0.2  0.333333  \n",
       "3721      0.157895         0.272727    0.2    0.00     0.0  0.166667  \n",
       "3722      0.157895         0.272727    0.2    0.00     0.2  0.333333  \n",
       "3723      0.157895         0.727273    0.0    0.00     0.2  0.166667  \n",
       "3724      0.157895         0.181818    0.2    0.00     0.0  0.333333  \n",
       "\n",
       "[3725 rows x 1827 columns]"
      ]
     },
     "execution_count": 16,
     "metadata": {},
     "output_type": "execute_result"
    }
   ],
   "source": [
    "X_train"
   ]
  },
  {
   "cell_type": "code",
   "execution_count": 17,
   "metadata": {},
   "outputs": [
    {
     "name": "stdout",
     "output_type": "stream",
     "text": [
      "1    1545\n",
      "2    1478\n",
      "3     702\n",
      "Name: num_statements, dtype: int64\n",
      "1    258\n",
      "2    123\n",
      "3     35\n",
      "Name: num_statements, dtype: int64\n"
     ]
    }
   ],
   "source": [
    "# y_train class 1 if 1 , class 2 if 2, 3 else\n",
    "y_train_3 = y_train.apply(lambda x: 1 if x == 1 else (2 if x == 2 else 3))\n",
    "y_test_3 = y_test.apply(lambda x: 1 if x == 1 else (2 if x == 2 else 3))\n",
    "print(y_train_3.value_counts())\n",
    "print(y_test_3.value_counts())\n",
    "\n"
   ]
  },
  {
   "cell_type": "markdown",
   "metadata": {},
   "source": [
    "## Playing with classifiers"
   ]
  },
  {
   "cell_type": "code",
   "execution_count": 18,
   "metadata": {},
   "outputs": [
    {
     "name": "stdout",
     "output_type": "stream",
     "text": [
      "              precision    recall  f1-score   support\n",
      "\n",
      "           1       0.84      0.67      0.74       258\n",
      "           2       0.42      0.56      0.48       123\n",
      "           3       0.23      0.31      0.27        35\n",
      "\n",
      "    accuracy                           0.61       416\n",
      "   macro avg       0.50      0.51      0.50       416\n",
      "weighted avg       0.66      0.61      0.63       416\n",
      "\n"
     ]
    }
   ],
   "source": [
    "# MLP\n",
    "from sklearn.neural_network import MLPClassifier\n",
    "\n",
    "clf = MLPClassifier(hidden_layer_sizes= (64,16), max_iter=300,random_state= 42)\n",
    "clf.fit(X_train, y_train_3)\n",
    "\n",
    "# Mache Vorhersagen\n",
    "y_pred = clf.predict(X_test)\n",
    "\n",
    "# classification report\n",
    "from sklearn.metrics import classification_report\n",
    "print(classification_report(y_test_3, y_pred, zero_division=1))\n",
    "\n"
   ]
  },
  {
   "cell_type": "code",
   "execution_count": 19,
   "metadata": {},
   "outputs": [
    {
     "name": "stdout",
     "output_type": "stream",
     "text": [
      "              precision    recall  f1-score   support\n",
      "\n",
      "           1       0.86      0.80      0.83       258\n",
      "           2       0.54      0.64      0.59       123\n",
      "           3       0.50      0.40      0.44        35\n",
      "\n",
      "    accuracy                           0.72       416\n",
      "   macro avg       0.63      0.61      0.62       416\n",
      "weighted avg       0.73      0.72      0.72       416\n",
      "\n"
     ]
    }
   ],
   "source": [
    "# support vector machine\n",
    "from sklearn.svm import SVC\n",
    "\n",
    "clf = SVC()#class_weight=\"balanced\")\n",
    "clf.fit(X_train, y_train_3)\n",
    "\n",
    "# Mache Vorhersagen\n",
    "y_pred = clf.predict(X_test)\n",
    "\n",
    "# classification report\n",
    "from sklearn.metrics import classification_report\n",
    "print(classification_report(y_test_3, y_pred, zero_division=1))\n",
    "\n"
   ]
  },
  {
   "cell_type": "code",
   "execution_count": 21,
   "metadata": {},
   "outputs": [
    {
     "name": "stdout",
     "output_type": "stream",
     "text": [
      "              precision    recall  f1-score   support\n",
      "\n",
      "           1       0.62      1.00      0.77       258\n",
      "           2       1.00      0.00      0.00       123\n",
      "           3       1.00      0.00      0.00        35\n",
      "\n",
      "    accuracy                           0.62       416\n",
      "   macro avg       0.87      0.33      0.26       416\n",
      "weighted avg       0.76      0.62      0.47       416\n",
      "\n"
     ]
    }
   ],
   "source": [
    "# dummy classifier\n",
    "from sklearn.dummy import DummyClassifier\n",
    "\n",
    "# Initialisiere den Dummy-Klassifikator\n",
    "dummy_clf = DummyClassifier(strategy='most_frequent')\n",
    "\n",
    "# Trainiere den Dummy-Klassifikator\n",
    "dummy_clf.fit(X_train, y_train_3)\n",
    "\n",
    "# Mache Vorhersagen\n",
    "y_pred = dummy_clf.predict(X_test)\n",
    "\n",
    "# classification report\n",
    "from sklearn.metrics import classification_report\n",
    "print(classification_report(y_test_3, y_pred, zero_division=1))\n",
    "\n",
    "\n",
    "\n"
   ]
  },
  {
   "cell_type": "markdown",
   "metadata": {},
   "source": [
    "### random forest"
   ]
  },
  {
   "cell_type": "code",
   "execution_count": 25,
   "metadata": {},
   "outputs": [],
   "source": [
    "# random forest\n",
    "from sklearn.ensemble import RandomForestClassifier\n",
    "# accuracy score\n",
    "from sklearn.metrics import accuracy_score\n",
    "\n",
    "def randForest(X_train, y_train, X_test, y_test):\n",
    "    # Initialisiere den Random Forest Klassifikator\n",
    "    rf_clf = RandomForestClassifier(random_state=42)#class_weight='balanced')\n",
    "\n",
    "    # Trainiere den Random Forest Klassifikator\n",
    "    rf_clf.fit(X_train, y_train)\n",
    "\n",
    "    # Mache Vorhersagen\n",
    "    y_pred = rf_clf.predict(X_test)\n",
    "\n",
    "    # classification report\n",
    "    from sklearn.metrics import classification_report\n",
    "    print(classification_report(y_test, y_pred, zero_division=1))\n",
    "\n",
    "    y_pred_train = rf_clf.predict(X_train)\n",
    "    #print accuracy rounded by 2 decimal places\n",
    "    print(\"Train Accuracy: \", accuracy_score(y_train, y_pred_train).round(2))\n",
    "    return rf_clf\n",
    "\n"
   ]
  },
  {
   "cell_type": "markdown",
   "metadata": {},
   "source": [
    "#### 3 Classes"
   ]
  },
  {
   "cell_type": "markdown",
   "metadata": {},
   "source": [
    "##### all features"
   ]
  },
  {
   "cell_type": "code",
   "execution_count": 26,
   "metadata": {},
   "outputs": [
    {
     "name": "stdout",
     "output_type": "stream",
     "text": [
      "              precision    recall  f1-score   support\n",
      "\n",
      "           1       0.88      0.81      0.84       258\n",
      "           2       0.58      0.73      0.65       123\n",
      "           3       0.78      0.51      0.62        35\n",
      "\n",
      "    accuracy                           0.76       416\n",
      "   macro avg       0.75      0.69      0.70       416\n",
      "weighted avg       0.78      0.76      0.77       416\n",
      "\n",
      "Train Accuracy:  1.0\n",
      "[0.00268017 0.00029736 0.00029045]\n"
     ]
    },
    {
     "data": {
      "text/plain": [
       "Index(['token_count', 'max_dep_length', 'mean_dep_length'], dtype='object')"
      ]
     },
     "execution_count": 26,
     "metadata": {},
     "output_type": "execute_result"
    }
   ],
   "source": [
    "rf_clf = randForest(X_train, y_train_3, X_test, y_test_3)\n",
    "importances = rf_clf.feature_importances_\n",
    "\n",
    "importance_all_3 = X_train.columns[np.argsort(importances)[::-1]]\n",
    "print(importances[:3])\n",
    "importance_all_3[:3]\n",
    "\n"
   ]
  },
  {
   "cell_type": "code",
   "execution_count": 29,
   "metadata": {},
   "outputs": [
    {
     "name": "stdout",
     "output_type": "stream",
     "text": [
      "1. feature token_count (0.05068539915652121)\n",
      "2. feature max_dep_length (0.04542895837894008)\n",
      "3. feature mean_dep_length (0.029704581302376742)\n",
      "4. feature mean_chars_per_word (0.027428026913133285)\n",
      "5. feature num_dep_paths (0.025275472108872557)\n",
      "6. feature flesh_reading_ease (0.02199657287408638)\n",
      "7. feature num_compound (0.021581859441622775)\n",
      "8. feature num_S (0.016876472121557597)\n",
      "9. feature num_PP (0.016036821403591108)\n",
      "10. feature verb_count (0.01580883788077714)\n",
      "11. feature num_nouns (0.014269012386383437)\n",
      "12. feature num_root_childs (0.0132143972426779)\n",
      "13. feature class_score (0.00942284080821531)\n",
      "14. feature num_NP (0.00869892641430482)\n",
      "15. feature big_np_count (0.007295846477657202)\n",
      "16. feature num_verbs (0.007088423776136818)\n",
      "17. feature num_adjs (0.005570347002551705)\n",
      "18. feature num_VP (0.005475100988831321)\n",
      "19. feature big_pp_count (0.0047203108097734715)\n",
      "20. feature attr-arg0: (0.004533965380498489)\n",
      "21. feature attr-arg0:attr-instance: (0.004483021454799701)\n",
      "22. feature nsubj# (0.0044334127891859)\n",
      "23. feature num_adps (0.0041995796341333675)\n",
      "24. feature num_num (0.00415895194793956)\n",
      "25. feature compound#compound# (0.0039003006843910414)\n"
     ]
    }
   ],
   "source": [
    "import numpy as np\n",
    "# show the feature importance of 25 most important features\n",
    "indices = np.argsort(importances)[::-1]\n",
    "for f in range(25):\n",
    "    print(f\"{f+1}. feature {X_train.columns[indices[f]]} ({importances[indices[f]]})\")\n",
    "    \n"
   ]
  },
  {
   "cell_type": "markdown",
   "metadata": {},
   "source": [
    "##### without augmented data\n"
   ]
  },
  {
   "cell_type": "code",
   "execution_count": 30,
   "metadata": {},
   "outputs": [
    {
     "name": "stdout",
     "output_type": "stream",
     "text": [
      "              precision    recall  f1-score   support\n",
      "\n",
      "           1       0.79      0.93      0.85       258\n",
      "           2       0.55      0.46      0.50       123\n",
      "           3       0.67      0.11      0.20        35\n",
      "\n",
      "    accuracy                           0.73       416\n",
      "   macro avg       0.67      0.50      0.52       416\n",
      "weighted avg       0.71      0.73      0.69       416\n",
      "\n",
      "Train Accuracy:  1.0\n"
     ]
    },
    {
     "data": {
      "text/plain": [
       "((2518, 1827), (3725, 1827))"
      ]
     },
     "execution_count": 30,
     "metadata": {},
     "output_type": "execute_result"
    }
   ],
   "source": [
    "# exclude lines with boolean vector bool_augmented\n",
    "\n",
    "bool = pd.Series(bool_augmented).values\n",
    "\n",
    "rf_clf = randForest(X_train[~bool], y_train_3[~bool], X_test, y_test_3) \n",
    "X_train[~bool].shape, X_train.shape"
   ]
  },
  {
   "cell_type": "markdown",
   "metadata": {},
   "source": [
    "##### only amr-features"
   ]
  },
  {
   "cell_type": "code",
   "execution_count": 31,
   "metadata": {},
   "outputs": [
    {
     "name": "stdout",
     "output_type": "stream",
     "text": [
      "              precision    recall  f1-score   support\n",
      "\n",
      "           1       0.74      0.71      0.72       258\n",
      "           2       0.41      0.48      0.44       123\n",
      "           3       0.12      0.09      0.10        35\n",
      "\n",
      "    accuracy                           0.59       416\n",
      "   macro avg       0.42      0.42      0.42       416\n",
      "weighted avg       0.59      0.59      0.59       416\n",
      "\n",
      "Train Accuracy:  0.97\n"
     ]
    },
    {
     "data": {
      "text/plain": [
       "(Index(['attr-arg0:', 'attr-arg0:attr-instance:', 'attr-arg2:attr-instance:'], dtype='object'),\n",
       " (3725, 1188))"
      ]
     },
     "execution_count": 31,
     "metadata": {},
     "output_type": "execute_result"
    }
   ],
   "source": [
    "intersection = X_train.columns.intersection(columns_amr)\n",
    "rf_clf = randForest(X_train[intersection], y_train_3, X_test[intersection], y_test_3)\n",
    "importances = rf_clf.feature_importances_\n",
    "importance_amr_3 = X_train[intersection].columns[np.argsort(importances)[::-1]]\n",
    "\n",
    "importance_amr_3[:3], X_train[intersection].shape"
   ]
  },
  {
   "cell_type": "markdown",
   "metadata": {},
   "source": [
    "##### only dependency tree"
   ]
  },
  {
   "cell_type": "code",
   "execution_count": 32,
   "metadata": {},
   "outputs": [
    {
     "name": "stdout",
     "output_type": "stream",
     "text": [
      "              precision    recall  f1-score   support\n",
      "\n",
      "           1       0.84      0.69      0.76       258\n",
      "           2       0.46      0.64      0.54       123\n",
      "           3       0.31      0.31      0.31        35\n",
      "\n",
      "    accuracy                           0.64       416\n",
      "   macro avg       0.54      0.55      0.54       416\n",
      "weighted avg       0.69      0.64      0.65       416\n",
      "\n",
      "Train Accuracy:  0.96\n"
     ]
    },
    {
     "data": {
      "text/plain": [
       "(Index(['num_dep_paths', 'compound#PROPN', 'compound#compound#PROPN'], dtype='object'),\n",
       " (3725, 610))"
      ]
     },
     "execution_count": 32,
     "metadata": {},
     "output_type": "execute_result"
    }
   ],
   "source": [
    "intersection = X_train.columns.intersection(columns_depTree)\n",
    "rf_clf = randForest(X_train[intersection], y_train_3, X_test[intersection], y_test_3)\n",
    "importances = rf_clf.feature_importances_\n",
    "importance_depTree_3 = X_train[intersection].columns[np.argsort(importances)[::-1]]\n",
    "\n",
    "importance_depTree_3[:3], X_train[intersection].shape"
   ]
  },
  {
   "cell_type": "markdown",
   "metadata": {},
   "source": [
    "##### only additional features"
   ]
  },
  {
   "cell_type": "code",
   "execution_count": 33,
   "metadata": {},
   "outputs": [
    {
     "name": "stdout",
     "output_type": "stream",
     "text": [
      "              precision    recall  f1-score   support\n",
      "\n",
      "           1       0.87      0.79      0.83       258\n",
      "           2       0.54      0.64      0.59       123\n",
      "           3       0.47      0.49      0.48        35\n",
      "\n",
      "    accuracy                           0.72       416\n",
      "   macro avg       0.63      0.64      0.63       416\n",
      "weighted avg       0.74      0.72      0.73       416\n",
      "\n",
      "Train Accuracy:  1.0\n"
     ]
    },
    {
     "data": {
      "text/plain": [
       "(Index(['token_count', 'mean_chars_per_word', 'max_dep_length'], dtype='object'),\n",
       " (3725, 29))"
      ]
     },
     "execution_count": 33,
     "metadata": {},
     "output_type": "execute_result"
    }
   ],
   "source": [
    "intersection = X_train.columns.intersection(columns_additional)\n",
    "rf_clf = randForest(X_train[intersection], y_train_3, X_test[intersection], y_test_3)\n",
    "importances = rf_clf.feature_importances_\n",
    "importance_additional_3 = X_train[intersection].columns[np.argsort(importances)[::-1]]\n",
    "importance_additional_3[:3], X_train[intersection].shape"
   ]
  },
  {
   "cell_type": "markdown",
   "metadata": {},
   "source": [
    "#### all classes"
   ]
  },
  {
   "cell_type": "code",
   "execution_count": 724,
   "metadata": {},
   "outputs": [
    {
     "name": "stdout",
     "output_type": "stream",
     "text": [
      "              precision    recall  f1-score   support\n",
      "\n",
      "           1       0.88      0.82      0.85       258\n",
      "           2       0.57      0.72      0.64       123\n",
      "           3       0.58      0.39      0.47        28\n",
      "           4       1.00      0.00      0.00         6\n",
      "           5       1.00      0.00      0.00         1\n",
      "\n",
      "    accuracy                           0.75       416\n",
      "   macro avg       0.81      0.39      0.39       416\n",
      "weighted avg       0.77      0.75      0.75       416\n",
      "\n",
      "Train Accuracy:  1.0\n"
     ]
    }
   ],
   "source": [
    "rf_clf = randForest(X_train, y_train, X_test, y_test)"
   ]
  },
  {
   "cell_type": "markdown",
   "metadata": {},
   "source": [
    "##### without augmented data"
   ]
  },
  {
   "cell_type": "code",
   "execution_count": 35,
   "metadata": {},
   "outputs": [
    {
     "name": "stdout",
     "output_type": "stream",
     "text": [
      "              precision    recall  f1-score   support\n",
      "\n",
      "           1       0.80      0.94      0.86       258\n",
      "           2       0.59      0.52      0.55       123\n",
      "           3       1.00      0.14      0.25        28\n",
      "           4       1.00      0.00      0.00         6\n",
      "           5       1.00      0.00      0.00         1\n",
      "\n",
      "    accuracy                           0.75       416\n",
      "   macro avg       0.88      0.32      0.33       416\n",
      "weighted avg       0.75      0.75      0.72       416\n",
      "\n",
      "Train Accuracy:  1.0\n"
     ]
    },
    {
     "data": {
      "text/plain": [
       "((2518, 1827), (3725, 1827))"
      ]
     },
     "execution_count": 35,
     "metadata": {},
     "output_type": "execute_result"
    }
   ],
   "source": [
    "# exclude lines with boolean vector bool_augmented\n",
    "\n",
    "bool = pd.Series(bool_augmented).values\n",
    "\n",
    "rf_clf = randForest(X_train[~bool], y_train[~bool], X_test, y_test) \n",
    "X_train[~bool].shape, X_train.shape"
   ]
  },
  {
   "cell_type": "markdown",
   "metadata": {},
   "source": [
    "### Feature importance"
   ]
  },
  {
   "cell_type": "code",
   "execution_count": 36,
   "metadata": {},
   "outputs": [
    {
     "name": "stdout",
     "output_type": "stream",
     "text": [
      "75\n",
      "              precision    recall  f1-score   support\n",
      "\n",
      "           1       0.88      0.80      0.84       258\n",
      "           2       0.57      0.68      0.62       123\n",
      "           3       0.53      0.49      0.51        35\n",
      "\n",
      "    accuracy                           0.74       416\n",
      "   macro avg       0.66      0.66      0.66       416\n",
      "weighted avg       0.76      0.74      0.75       416\n",
      "\n",
      "Train Accuracy:  1.0\n"
     ]
    },
    {
     "data": {
      "text/plain": [
       "(3725, 75)"
      ]
     },
     "execution_count": 36,
     "metadata": {},
     "output_type": "execute_result"
    }
   ],
   "source": [
    "# take 25 of each feature type\n",
    "# append the 3 lists\n",
    "\n",
    "general_importance =  list(importance_amr_3[:25]) + list(importance_depTree_3[:25]) + list(importance_additional_3[:25])\n",
    "print(len(general_importance ))\n",
    "\n",
    "intersection = X_train.columns.intersection(general_importance)\n",
    "rf_clf = randForest(X_train[intersection], y_train_3, X_test[intersection], y_test_3)\n",
    "X_train[intersection].shape\n"
   ]
  },
  {
   "cell_type": "code",
   "execution_count": 37,
   "metadata": {},
   "outputs": [
    {
     "name": "stdout",
     "output_type": "stream",
     "text": [
      "75\n",
      "              precision    recall  f1-score   support\n",
      "\n",
      "           1       0.88      0.80      0.84       258\n",
      "           2       0.57      0.69      0.62       123\n",
      "           3       0.58      0.51      0.55        35\n",
      "\n",
      "    accuracy                           0.75       416\n",
      "   macro avg       0.68      0.67      0.67       416\n",
      "weighted avg       0.76      0.75      0.75       416\n",
      "\n",
      "Train Accuracy:  1.0\n"
     ]
    },
    {
     "data": {
      "text/plain": [
       "(3725, 75)"
      ]
     },
     "execution_count": 37,
     "metadata": {},
     "output_type": "execute_result"
    }
   ],
   "source": [
    "# take the overall 75 most important features\n",
    "general_importance =  list(importance_all_3[:75])\n",
    "print(len(general_importance ))\n",
    "\n",
    "intersection = X_train.columns.intersection(general_importance)\n",
    "rf_clf = randForest(X_train[intersection], y_train_3, X_test[intersection], y_test_3)\n",
    "X_train[intersection].shape\n"
   ]
  },
  {
   "cell_type": "code",
   "execution_count": 38,
   "metadata": {},
   "outputs": [
    {
     "name": "stderr",
     "output_type": "stream",
     "text": [
      "c:\\Users\\Wiebke Petersen\\anaconda3\\Lib\\site-packages\\umap\\umap_.py:1943: UserWarning: n_jobs value -1 overridden to 1 by setting random_state. Use no seed for parallelism.\n",
      "  warn(f\"n_jobs value {self.n_jobs} overridden to 1 by setting random_state. Use no seed for parallelism.\")\n"
     ]
    },
    {
     "data": {
      "image/png": "[encoded data removed]",
      "text/plain": [
       "<Figure size 1000x600 with 1 Axes>"
      ]
     },
     "metadata": {},
     "output_type": "display_data"
    }
   ],
   "source": [
    "# Umap for dimensionality reduction\n",
    "from umap import UMAP\n",
    "\n",
    "umap = UMAP(n_components=2, random_state=42)\n",
    "X_train_umap = umap.fit_transform(X_train)\n",
    "\n",
    "# plot\n",
    "import matplotlib.pyplot as plt\n",
    "import seaborn as sns\n",
    "\n",
    "# make the points smaller\n",
    "plt.figure(figsize=(10, 6))\n",
    "sns.scatterplot(x=X_train_umap[:, 0], y=X_train_umap[:, 1], hue=y_train_3, palette='viridis', s=10)\n",
    "plt.title('UMAP projection of the training set', fontsize=20)\n",
    "plt.xlabel('UMAP 1', fontsize=16)\n",
    "plt.ylabel('UMAP 2', fontsize=16)\n",
    "plt.show()\n"
   ]
  },
  {
   "cell_type": "markdown",
   "metadata": {},
   "source": [
    "### Decision Tree"
   ]
  },
  {
   "cell_type": "code",
   "execution_count": 60,
   "metadata": {},
   "outputs": [
    {
     "name": "stdout",
     "output_type": "stream",
     "text": [
      "              precision    recall  f1-score   support\n",
      "\n",
      "           1       0.85      0.79      0.82       258\n",
      "           2       0.54      0.64      0.59       123\n",
      "           3       0.54      0.43      0.48        35\n",
      "\n",
      "    accuracy                           0.72       416\n",
      "   macro avg       0.64      0.62      0.63       416\n",
      "weighted avg       0.73      0.72      0.72       416\n",
      "\n"
     ]
    },
    {
     "data": {
      "image/png": "[encoded data removed]",
      "text/plain": [
       "<Figure size 2000x1000 with 1 Axes>"
      ]
     },
     "metadata": {},
     "output_type": "display_data"
    }
   ],
   "source": [
    "general_importance =  list(importance_all_3[:25])\n",
    "intersection = X_train.columns.intersection(general_importance)\n",
    "\n",
    "X_train_10 = X_train[intersection] \n",
    "X_test_10 = X_test[intersection]\n",
    "\n",
    "# decision tree\n",
    "from sklearn.tree import DecisionTreeClassifier\n",
    "\n",
    "# Initialisiere den Decision Tree Klassifikator\n",
    "dt_clf = DecisionTreeClassifier(random_state= 42, criterion=\"gini\", max_depth=5, min_samples_split=20, min_samples_leaf=20) \n",
    "\n",
    "# Trainiere den Decision Tree Klassifikator\n",
    "dt_clf.fit(X_train_10, y_train_3)\n",
    "\n",
    "# Mache Vorhersagen\n",
    "y_pred = dt_clf.predict(X_test_10)\n",
    "\n",
    "# classification report\n",
    "from sklearn.metrics import classification_report\n",
    "print(classification_report(y_test_3, y_pred, zero_division=1))\n",
    "\n",
    "# print decision tree with column names\n",
    "\n",
    "from sklearn.tree import plot_tree\n",
    "import matplotlib.pyplot as plt\n",
    "\n",
    "cols = [a for a in X_train_10.columns]\n",
    "\n",
    "plt.figure(figsize=(20,10))\n",
    "plot_tree(dt_clf, feature_names=cols, filled=True)\n",
    "plt.show()\n"
   ]
  },
  {
   "cell_type": "code",
   "execution_count": 61,
   "metadata": {},
   "outputs": [
    {
     "name": "stdout",
     "output_type": "stream",
     "text": [
      "|--- token_count <= 0.16\n",
      "|   |--- max_dep_length <= 0.13\n",
      "|   |   |--- mean_chars_per_word <= 0.53\n",
      "|   |   |   |--- num_num <= 0.12\n",
      "|   |   |   |   |--- token_count <= 0.12\n",
      "|   |   |   |   |   |--- class: 1\n",
      "|   |   |   |   |--- token_count >  0.12\n",
      "|   |   |   |   |   |--- class: 1\n",
      "|   |   |   |--- num_num >  0.12\n",
      "|   |   |   |   |--- mean_chars_per_word <= 0.30\n",
      "|   |   |   |   |   |--- class: 1\n",
      "|   |   |   |   |--- mean_chars_per_word >  0.30\n",
      "|   |   |   |   |   |--- class: 1\n",
      "|   |   |--- mean_chars_per_word >  0.53\n",
      "|   |   |   |--- mean_dep_length <= 0.17\n",
      "|   |   |   |   |--- class: 1\n",
      "|   |   |   |--- mean_dep_length >  0.17\n",
      "|   |   |   |   |--- class: 2\n",
      "|   |--- max_dep_length >  0.13\n",
      "|   |   |--- mean_chars_per_word <= 0.44\n",
      "|   |   |   |--- token_count <= 0.12\n",
      "|   |   |   |   |--- verb_count <= 0.12\n",
      "|   |   |   |   |   |--- class: 1\n",
      "|   |   |   |   |--- verb_count >  0.12\n",
      "|   |   |   |   |   |--- class: 1\n",
      "|   |   |   |--- token_count >  0.12\n",
      "|   |   |   |   |--- mean_dep_length <= 0.19\n",
      "|   |   |   |   |   |--- class: 2\n",
      "|   |   |   |   |--- mean_dep_length >  0.19\n",
      "|   |   |   |   |   |--- class: 1\n",
      "|   |   |--- mean_chars_per_word >  0.44\n",
      "|   |   |   |--- num_VP <= 0.12\n",
      "|   |   |   |   |--- mean_chars_per_word <= 0.62\n",
      "|   |   |   |   |   |--- class: 2\n",
      "|   |   |   |   |--- mean_chars_per_word >  0.62\n",
      "|   |   |   |   |   |--- class: 2\n",
      "|   |   |   |--- num_VP >  0.12\n",
      "|   |   |   |   |--- num_verbs <= 0.10\n",
      "|   |   |   |   |   |--- class: 1\n",
      "|   |   |   |   |--- num_verbs >  0.10\n",
      "|   |   |   |   |   |--- class: 2\n",
      "|--- token_count >  0.16\n",
      "|   |--- token_count <= 0.26\n",
      "|   |   |--- token_count <= 0.22\n",
      "|   |   |   |--- num_S <= 0.30\n",
      "|   |   |   |   |--- num_num <= 0.12\n",
      "|   |   |   |   |   |--- class: 2\n",
      "|   |   |   |   |--- num_num >  0.12\n",
      "|   |   |   |   |   |--- class: 1\n",
      "|   |   |   |--- num_S >  0.30\n",
      "|   |   |   |   |--- num_adjs <= 0.12\n",
      "|   |   |   |   |   |--- class: 2\n",
      "|   |   |   |   |--- num_adjs >  0.12\n",
      "|   |   |   |   |   |--- class: 2\n",
      "|   |   |--- token_count >  0.22\n",
      "|   |   |   |--- mean_chars_per_word <= 0.45\n",
      "|   |   |   |   |--- mean_dep_length <= 0.49\n",
      "|   |   |   |   |   |--- class: 2\n",
      "|   |   |   |   |--- mean_dep_length >  0.49\n",
      "|   |   |   |   |   |--- class: 2\n",
      "|   |   |   |--- mean_chars_per_word >  0.45\n",
      "|   |   |   |   |--- mean_dep_length <= 0.37\n",
      "|   |   |   |   |   |--- class: 3\n",
      "|   |   |   |   |--- mean_dep_length >  0.37\n",
      "|   |   |   |   |   |--- class: 2\n",
      "|   |--- token_count >  0.26\n",
      "|   |   |--- token_count <= 0.36\n",
      "|   |   |   |--- mean_chars_per_word <= 0.42\n",
      "|   |   |   |   |--- num_PP <= 0.08\n",
      "|   |   |   |   |   |--- class: 2\n",
      "|   |   |   |   |--- num_PP >  0.08\n",
      "|   |   |   |   |   |--- class: 2\n",
      "|   |   |   |--- mean_chars_per_word >  0.42\n",
      "|   |   |   |   |--- num_PP <= 0.08\n",
      "|   |   |   |   |   |--- class: 2\n",
      "|   |   |   |   |--- num_PP >  0.08\n",
      "|   |   |   |   |   |--- class: 3\n",
      "|   |   |--- token_count >  0.36\n",
      "|   |   |   |--- mean_chars_per_word <= 0.43\n",
      "|   |   |   |   |--- token_count <= 0.40\n",
      "|   |   |   |   |   |--- class: 3\n",
      "|   |   |   |   |--- token_count >  0.40\n",
      "|   |   |   |   |   |--- class: 3\n",
      "|   |   |   |--- mean_chars_per_word >  0.43\n",
      "|   |   |   |   |--- num_VP <= 0.12\n",
      "|   |   |   |   |   |--- class: 3\n",
      "|   |   |   |   |--- num_VP >  0.12\n",
      "|   |   |   |   |   |--- class: 3\n",
      "\n"
     ]
    }
   ],
   "source": [
    "from sklearn import tree\n",
    "text_representation = tree.export_text(dt_clf, feature_names=cols)\n",
    "print(text_representation)"
   ]
  },
  {
   "cell_type": "markdown",
   "metadata": {},
   "source": [
    "##### only two classes (1 statement versus >1 statement)"
   ]
  },
  {
   "cell_type": "code",
   "execution_count": 72,
   "metadata": {},
   "outputs": [],
   "source": [
    "y_train_simple = y_train.apply(lambda x: 1 if x == 1 else 2)\n",
    "y_test_simple = y_test.apply(lambda x: 1 if x == 1 else 2)"
   ]
  },
  {
   "cell_type": "code",
   "execution_count": 73,
   "metadata": {},
   "outputs": [
    {
     "name": "stdout",
     "output_type": "stream",
     "text": [
      "              precision    recall  f1-score   support\n",
      "\n",
      "           1       0.87      0.80      0.83       258\n",
      "           2       0.71      0.80      0.75       158\n",
      "\n",
      "    accuracy                           0.80       416\n",
      "   macro avg       0.79      0.80      0.79       416\n",
      "weighted avg       0.81      0.80      0.80       416\n",
      "\n"
     ]
    }
   ],
   "source": [
    "# decision tree with simple labels\n",
    "# Initialisiere den Decision Tree Klassifikator\n",
    "dt_clf = DecisionTreeClassifier(random_state= 42, criterion=\"gini\", max_depth=2, min_samples_split=3, min_samples_leaf=7)#, class_weight=\"balanced\")\n",
    "\n",
    "# Trainiere den Decision Tree Klassifikator\n",
    "dt_clf.fit(X_train, y_train_simple)\n",
    "\n",
    "# Mache Vorhersagen\n",
    "y_pred = dt_clf.predict(X_test)\n",
    "\n",
    "# classification report\n",
    "from sklearn.metrics import classification_report\n",
    "print(classification_report(y_test_simple, y_pred, zero_division=1))\n"
   ]
  },
  {
   "cell_type": "code",
   "execution_count": 74,
   "metadata": {},
   "outputs": [
    {
     "data": {
      "image/png": "[encoded data removed]",
      "text/plain": [
       "<Figure size 2000x1000 with 1 Axes>"
      ]
     },
     "metadata": {},
     "output_type": "display_data"
    }
   ],
   "source": [
    "# print decision tree with column names\n",
    "\n",
    "from sklearn.tree import plot_tree\n",
    "import matplotlib.pyplot as plt\n",
    "\n",
    "cols = [a for a in X_train.columns]\n",
    "\n",
    "plt.figure(figsize=(20,10))\n",
    "plot_tree(dt_clf, feature_names=cols, filled=True)\n",
    "plt.show()"
   ]
  },
  {
   "cell_type": "code",
   "execution_count": 75,
   "metadata": {},
   "outputs": [
    {
     "name": "stdout",
     "output_type": "stream",
     "text": [
      "|--- token_count <= 0.16\n",
      "|   |--- max_dep_length <= 0.13\n",
      "|   |   |--- class: 1\n",
      "|   |--- max_dep_length >  0.13\n",
      "|   |   |--- class: 1\n",
      "|--- token_count >  0.16\n",
      "|   |--- token_count <= 0.22\n",
      "|   |   |--- class: 2\n",
      "|   |--- token_count >  0.22\n",
      "|   |   |--- class: 2\n",
      "\n"
     ]
    }
   ],
   "source": [
    "from sklearn import tree\n",
    "text_representation = tree.export_text(dt_clf, feature_names=cols)\n",
    "print(text_representation)"
   ]
  },
  {
   "cell_type": "code",
   "execution_count": 76,
   "metadata": {},
   "outputs": [
    {
     "name": "stdout",
     "output_type": "stream",
     "text": [
      "              precision    recall  f1-score   support\n",
      "\n",
      "           1       0.87      0.80      0.83       258\n",
      "           2       0.71      0.80      0.75       158\n",
      "\n",
      "    accuracy                           0.80       416\n",
      "   macro avg       0.79      0.80      0.79       416\n",
      "weighted avg       0.81      0.80      0.80       416\n",
      "\n"
     ]
    }
   ],
   "source": [
    "# decision tree with simple labels\n",
    "# Initialisiere den Decision Tree Klassifikator\n",
    "dt_clf = DecisionTreeClassifier(random_state= 42, criterion=\"gini\", max_depth=1, min_samples_split=3, min_samples_leaf=7)#, class_weight=\"balanced\")\n",
    "\n",
    "X_train_10 = X_train\n",
    "X_test_10 = X_test\n",
    "\n",
    "# Trainiere den Decision Tree Klassifikator\n",
    "dt_clf.fit(X_train_10, y_train_simple)\n",
    "\n",
    "# Mache Vorhersagen\n",
    "y_pred = dt_clf.predict(X_test_10)\n",
    "\n",
    "# classification report\n",
    "from sklearn.metrics import classification_report\n",
    "print(classification_report(y_test_simple, y_pred, zero_division=1))\n"
   ]
  },
  {
   "cell_type": "code",
   "execution_count": 77,
   "metadata": {},
   "outputs": [
    {
     "name": "stdout",
     "output_type": "stream",
     "text": [
      "|--- token_count <= 0.16\n",
      "|   |--- class: 1\n",
      "|--- token_count >  0.16\n",
      "|   |--- class: 2\n",
      "\n"
     ]
    }
   ],
   "source": [
    "from sklearn import tree\n",
    "text_representation = tree.export_text(dt_clf, feature_names=cols)\n",
    "print(text_representation)"
   ]
  },
  {
   "cell_type": "markdown",
   "metadata": {},
   "source": [
    "### unorganized rest"
   ]
  },
  {
   "cell_type": "code",
   "execution_count": 78,
   "metadata": {},
   "outputs": [
    {
     "name": "stdout",
     "output_type": "stream",
     "text": [
      "              precision    recall  f1-score   support\n",
      "\n",
      "           1       0.86      0.79      0.82       258\n",
      "           2       0.50      0.53      0.52       123\n",
      "           3       0.31      0.43      0.36        35\n",
      "\n",
      "    accuracy                           0.69       416\n",
      "   macro avg       0.56      0.58      0.57       416\n",
      "weighted avg       0.71      0.69      0.69       416\n",
      "\n"
     ]
    }
   ],
   "source": [
    "# all data\n",
    "\n",
    "# logistic regression \n",
    "from sklearn.linear_model import LogisticRegression\n",
    "\n",
    "# Initialisiere den Klassifikator\n",
    "clf = LogisticRegression(max_iter=1000)\n",
    "# fit to X_train\n",
    "clf.fit(X_train, y_train_3)\n",
    "\n",
    "# Mache Vorhersagen\n",
    "y_pred = clf.predict(X_test)\n",
    "\n",
    "# classification report\n",
    "from sklearn.metrics import classification_report\n",
    "print(classification_report(y_test_3, y_pred, zero_division=1))\n"
   ]
  },
  {
   "cell_type": "code",
   "execution_count": 79,
   "metadata": {},
   "outputs": [
    {
     "name": "stdout",
     "output_type": "stream",
     "text": [
      "              precision    recall  f1-score   support\n",
      "\n",
      "           1       0.72      0.70      0.71       258\n",
      "           2       0.36      0.39      0.37       123\n",
      "           3       0.12      0.11      0.12        35\n",
      "\n",
      "    accuracy                           0.56       416\n",
      "   macro avg       0.40      0.40      0.40       416\n",
      "weighted avg       0.56      0.56      0.56       416\n",
      "\n"
     ]
    }
   ],
   "source": [
    "general_importance =  list(importance_amr_3[:75])\n",
    "intersection = X_train.columns.intersection(general_importance)\n",
    "\n",
    "# X_train_10\n",
    "X_train_10 = X_train[intersection]\n",
    "X_test_10 = X_test[intersection]\n",
    "\n",
    "# Initialisiere den Klassifikator\n",
    "clf = LogisticRegression(max_iter=1000)\n",
    "# fit to X_train_10\n",
    "clf.fit(X_train_10, y_train_3)\n",
    "\n",
    "# Mache Vorhersagen\n",
    "y_pred = clf.predict(X_test_10)\n",
    "\n",
    "# classification report\n",
    "from sklearn.metrics import classification_report\n",
    "print(classification_report(y_test_3, y_pred, zero_division=1))\n",
    "\n",
    "\n"
   ]
  },
  {
   "cell_type": "code",
   "execution_count": 80,
   "metadata": {},
   "outputs": [
    {
     "name": "stdout",
     "output_type": "stream",
     "text": [
      "              precision    recall  f1-score   support\n",
      "\n",
      "           1       0.70      0.60      0.64       258\n",
      "           2       0.35      0.44      0.39       123\n",
      "           3       0.22      0.29      0.25        28\n",
      "           4       0.00      0.00      1.00         6\n",
      "           5       1.00      0.00      0.00         1\n",
      "\n",
      "    accuracy                           0.52       416\n",
      "   macro avg       0.45      0.26      0.46       416\n",
      "weighted avg       0.55      0.52      0.54       416\n",
      "\n"
     ]
    }
   ],
   "source": [
    "# random forest x_train_10\n",
    "from sklearn.ensemble import RandomForestClassifier\n",
    "\n",
    "# Initialisiere den Random Forest Klassifikator\n",
    "rf_clf = RandomForestClassifier()\n",
    "\n",
    "# Trainiere den Random Forest Klassifikator\n",
    "rf_clf.fit(X_train_10, y_train)\n",
    "\n",
    "# Mache Vorhersagen\n",
    "y_pred = rf_clf.predict(X_test_10)\n",
    "\n",
    "# classification report\n",
    "from sklearn.metrics import classification_report\n",
    "print(classification_report(y_test, y_pred, zero_division=1))\n"
   ]
  },
  {
   "cell_type": "code",
   "execution_count": null,
   "metadata": {},
   "outputs": [],
   "source": []
  },
  {
   "cell_type": "code",
   "execution_count": 81,
   "metadata": {},
   "outputs": [
    {
     "name": "stdout",
     "output_type": "stream",
     "text": [
      "              precision    recall  f1-score   support\n",
      "\n",
      "           1       0.71      0.63      0.67       258\n",
      "           2       0.36      0.41      0.38       123\n",
      "           3       0.19      0.26      0.22        35\n",
      "\n",
      "    accuracy                           0.53       416\n",
      "   macro avg       0.42      0.43      0.42       416\n",
      "weighted avg       0.56      0.53      0.55       416\n",
      "\n"
     ]
    }
   ],
   "source": [
    "# random forest simple labels and X_train_10\n",
    "# Initialisiere den Random Forest Klassifikator\n",
    "rf_clf = RandomForestClassifier()\n",
    "\n",
    "# Trainiere den Random Forest Klassifikator\n",
    "rf_clf.fit(X_train_10, y_train_3)\n",
    "\n",
    "# Mache Vorhersagen\n",
    "y_pred = rf_clf.predict(X_test_10)\n",
    "\n",
    "# classification report\n",
    "from sklearn.metrics import classification_report\n",
    "print(classification_report(y_test_3, y_pred, zero_division=1))\n",
    "\n"
   ]
  },
  {
   "cell_type": "code",
   "execution_count": null,
   "metadata": {},
   "outputs": [],
   "source": []
  },
  {
   "cell_type": "code",
   "execution_count": 82,
   "metadata": {},
   "outputs": [
    {
     "name": "stdout",
     "output_type": "stream",
     "text": [
      "0.7163461538461539\n",
      "0.3881879194630872\n",
      "0.8004807692307693\n",
      "0.47436241610738256\n"
     ]
    }
   ],
   "source": [
    "few_tokens = 0.16\n",
    "\n",
    "y_train_few_tokens = y_train[X_train[\"token_count\"] <= few_tokens]\n",
    "y_test_few_tokens = y_test[X_test[\"token_count\"] <= few_tokens]\n",
    "y_train_many_tokens = y_train[X_train[\"token_count\"] > few_tokens]\n",
    "y_test_many_tokens = y_test[X_test[\"token_count\"] > few_tokens]\n",
    "\n",
    "\n",
    "\n",
    "\n",
    "from sklearn.metrics import accuracy_score\n",
    "y_pred1 = [1] * len(y_test_few_tokens)\n",
    "y_pred2 = [2] * len(y_test_many_tokens)\n",
    "print(accuracy_score(y_pred1 + y_pred2, list(y_test_few_tokens) + list(y_test_many_tokens)))\n",
    "\n",
    "y_pred1 = [1] * len(y_train_few_tokens)\n",
    "y_pred2 = [2] * len(y_train_many_tokens)\n",
    "print(accuracy_score(y_pred1 + y_pred2, list(y_train_few_tokens) + list(y_train_many_tokens)))\n",
    "\n",
    "y_pred1 = [1] * len(y_test_few_tokens)\n",
    "y_pred2 = [2] * len(y_test_many_tokens)\n",
    "# y_test1 is 1 if y_test_few_tokens is 1, else 2\n",
    "y_test1 = y_test_few_tokens.apply(lambda x: 1 if x == 1 else 2)\n",
    "y_test2 = y_test_many_tokens.apply(lambda x: 1 if x == 1 else 2)\n",
    "print(accuracy_score(y_pred1 + y_pred2, list(y_test1) + list(y_test2)))\n",
    "\n",
    "y_pred1 = [1] * len(y_train_few_tokens)\n",
    "y_pred2 = [2] * len(y_train_many_tokens)\n",
    "# y_train1 is 1 if y_train_few_tokens is 1, else 2\n",
    "y_train1 = y_train_few_tokens.apply(lambda x: 1 if x == 1 else 2)\n",
    "y_train2 = y_train_many_tokens.apply(lambda x: 1 if x == 1 else 2)\n",
    "print(accuracy_score(y_pred1 + y_pred2, list(y_train1) + list(y_train2)))\n",
    "\n"
   ]
  },
  {
   "cell_type": "code",
   "execution_count": 84,
   "metadata": {},
   "outputs": [
    {
     "name": "stdout",
     "output_type": "stream",
     "text": [
      "              precision    recall  f1-score   support\n",
      "\n",
      "           1       0.71      0.73      0.72       258\n",
      "           2       0.55      0.46      0.50       158\n",
      "           3       0.00      1.00      0.00         0\n",
      "\n",
      "    accuracy                           0.63       416\n",
      "   macro avg       0.42      0.73      0.41       416\n",
      "weighted avg       0.65      0.63      0.64       416\n",
      "\n"
     ]
    }
   ],
   "source": [
    "#support vector machine\n",
    "from sklearn.svm import SVC\n",
    "\n",
    "clf = SVC()#class_weight=\"balanced\")\n",
    "clf.fit(X_train_10, y_train)\n",
    "\n",
    "# Mache Vorhersagen\n",
    "y_pred = clf.predict(X_test_10)\n",
    "\n",
    "# classification report\n",
    "from sklearn.metrics import classification_report\n",
    "print(classification_report(y_test_simple, y_pred, zero_division=1))\n"
   ]
  },
  {
   "cell_type": "code",
   "execution_count": 85,
   "metadata": {},
   "outputs": [
    {
     "name": "stdout",
     "output_type": "stream",
     "text": [
      "              precision    recall  f1-score   support\n",
      "\n",
      "           1       0.69      0.58      0.63       258\n",
      "           2       0.44      0.45      0.45       158\n",
      "           3       0.00      1.00      0.00         0\n",
      "           4       0.00      1.00      0.00         0\n",
      "\n",
      "    accuracy                           0.53       416\n",
      "   macro avg       0.28      0.76      0.27       416\n",
      "weighted avg       0.60      0.53      0.56       416\n",
      "\n"
     ]
    },
    {
     "name": "stderr",
     "output_type": "stream",
     "text": [
      "c:\\Users\\Wiebke Petersen\\anaconda3\\Lib\\site-packages\\sklearn\\neural_network\\_multilayer_perceptron.py:691: ConvergenceWarning: Stochastic Optimizer: Maximum iterations (200) reached and the optimization hasn't converged yet.\n",
      "  warnings.warn(\n"
     ]
    }
   ],
   "source": [
    "# mlp\n",
    "from sklearn.neural_network import MLPClassifier\n",
    "\n",
    "clf = MLPClassifier(random_state= 42)\n",
    "clf.fit(X_train_10, y_train)\n",
    "\n",
    "# Mache Vorhersagen\n",
    "y_pred = clf.predict(X_test_10)\n",
    "\n",
    "# classification report\n",
    "from sklearn.metrics import classification_report\n",
    "print(classification_report(y_test_simple, y_pred, zero_division=1))\n"
   ]
  },
  {
   "cell_type": "code",
   "execution_count": null,
   "metadata": {},
   "outputs": [],
   "source": []
  },
  {
   "cell_type": "code",
   "execution_count": null,
   "metadata": {},
   "outputs": [],
   "source": []
  },
  {
   "cell_type": "markdown",
   "metadata": {},
   "source": [
    "Todo\n",
    "- amr: length of list feature\n",
    "- depTree: number root feature\n",
    "- augmented basic and tree features\n",
    "- combine train + test+ augmented for training\n",
    "- BERT classifier\n",
    "\n"
   ]
  }
 ],
 "metadata": {
  "kernelspec": {
   "display_name": "Python 3",
   "language": "python",
   "name": "python3"
  },
  "language_info": {
   "codemirror_mode": {
    "name": "ipython",
    "version": 3
   },
   "file_extension": ".py",
   "mimetype": "text/x-python",
   "name": "python",
   "nbconvert_exporter": "python",
   "pygments_lexer": "ipython3",
   "version": "3.11.4"
  }
 },
 "nbformat": 4,
 "nbformat_minor": 2
}
