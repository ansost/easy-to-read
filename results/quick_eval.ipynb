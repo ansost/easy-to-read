{
 "cells": [
  {
   "cell_type": "code",
   "execution_count": 21,
   "metadata": {},
   "outputs": [],
   "source": [
    "import pandas as pd\n",
    "gold = pd.read_csv(\"../data/train.csv\", usecols=[\"sent-id\", \"phrase\", \"num_statements\"])\n",
    "gold = gold.set_index(\"sent-id\", drop = True)\n",
    "gold = gold.sort_index()\n",
    "preds = pd.read_csv(\"parser_submission.csv\")\n",
    "preds = preds.set_index(\"sent-id\")\n",
    "preds = preds.sort_index()\n",
    "\n",
    "eval_ = pd.concat([gold, preds], axis = 1).drop('Unnamed: 0', axis = 1)\n",
    "eval_.to_csv(\"eval_parser_submission_train.csv\")"
   ]
  },
  {
   "cell_type": "code",
   "execution_count": 14,
   "metadata": {},
   "outputs": [],
   "source": [
    "eval_[\"correct\"] = gold[\"num_statements\"] == preds[\"num_statements\"]"
   ]
  },
  {
   "cell_type": "code",
   "execution_count": 16,
   "metadata": {},
   "outputs": [
    {
     "data": {
      "text/plain": [
       "correct\n",
       "False    240\n",
       "True     176\n",
       "Name: count, dtype: int64"
      ]
     },
     "execution_count": 16,
     "metadata": {},
     "output_type": "execute_result"
    }
   ],
   "source": [
    "eval_[\"correct\"].value_counts()"
   ]
  },
  {
   "cell_type": "code",
   "execution_count": 20,
   "metadata": {},
   "outputs": [
    {
     "data": {
      "text/plain": [
       "57.69230769230769"
      ]
     },
     "execution_count": 20,
     "metadata": {},
     "output_type": "execute_result"
    }
   ],
   "source": [
    "x = (240*100)\n",
    "y = x/416\n",
    "y"
   ]
  }
 ],
 "metadata": {
  "kernelspec": {
   "display_name": "easyV",
   "language": "python",
   "name": "python3"
  },
  "language_info": {
   "codemirror_mode": {
    "name": "ipython",
    "version": 3
   },
   "file_extension": ".py",
   "mimetype": "text/x-python",
   "name": "python",
   "nbconvert_exporter": "python",
   "pygments_lexer": "ipython3",
   "version": "3.11.9"
  }
 },
 "nbformat": 4,
 "nbformat_minor": 2
}
